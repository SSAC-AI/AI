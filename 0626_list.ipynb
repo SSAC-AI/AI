{
  "nbformat": 4,
  "nbformat_minor": 0,
  "metadata": {
    "colab": {
      "provenance": [],
      "authorship_tag": "ABX9TyPAJnfSYdKtnq88LgqJv/Fi",
      "include_colab_link": true
    },
    "kernelspec": {
      "name": "python3",
      "display_name": "Python 3"
    },
    "language_info": {
      "name": "python"
    }
  },
  "cells": [
    {
      "cell_type": "markdown",
      "metadata": {
        "id": "view-in-github",
        "colab_type": "text"
      },
      "source": [
        "<a href=\"https://colab.research.google.com/github/SSAC-AI/AI/blob/main/0626_list.ipynb\" target=\"_parent\"><img src=\"https://colab.research.google.com/assets/colab-badge.svg\" alt=\"Open In Colab\"/></a>"
      ]
    },
    {
      "cell_type": "markdown",
      "source": [
        "1. 리스트 기초"
      ],
      "metadata": {
        "id": "JEsGQzVC0D1q"
      }
    },
    {
      "cell_type": "code",
      "execution_count": null,
      "metadata": {
        "colab": {
          "base_uri": "https://localhost:8080/"
        },
        "id": "_sk6JEYzz9z2",
        "outputId": "e773fa87-b95d-468d-f4e2-8d4f766fc1e4"
      },
      "outputs": [
        {
          "output_type": "stream",
          "name": "stdout",
          "text": [
            "['apple', 'banana', 'cherry']\n"
          ]
        }
      ],
      "source": [
        "thislist=[\"apple\", \"banana\", \"cherry\"]\n",
        "print(thislist)"
      ]
    },
    {
      "cell_type": "markdown",
      "source": [
        "2. 리스트의 중복 허용"
      ],
      "metadata": {
        "id": "eYQ4col40VhK"
      }
    },
    {
      "cell_type": "code",
      "source": [
        "thislist = [\"apple\", \"banana\", \"cherry\", \"apple\", \"cherry\"]\n",
        "print(thislist)"
      ],
      "metadata": {
        "colab": {
          "base_uri": "https://localhost:8080/"
        },
        "id": "UdtGvmDY0VCx",
        "outputId": "0c88f965-4d8e-4455-cce2-f569026c3306"
      },
      "execution_count": null,
      "outputs": [
        {
          "output_type": "stream",
          "name": "stdout",
          "text": [
            "['apple', 'banana', 'cherry', 'apple', 'cherry']\n"
          ]
        }
      ]
    },
    {
      "cell_type": "markdown",
      "source": [
        "3. 리스트의 길이(항목 개수)"
      ],
      "metadata": {
        "id": "8WQtMa5H0bxF"
      }
    },
    {
      "cell_type": "code",
      "source": [
        "thislist = [\"apple\", \"banana\", \"cherry\"]\n",
        "print(len(thislist))"
      ],
      "metadata": {
        "colab": {
          "base_uri": "https://localhost:8080/"
        },
        "id": "FVR8NgU50g_i",
        "outputId": "3298fe1f-4b8c-4344-cee7-45dd7c6fa2b2"
      },
      "execution_count": null,
      "outputs": [
        {
          "output_type": "stream",
          "name": "stdout",
          "text": [
            "3\n"
          ]
        }
      ]
    },
    {
      "cell_type": "markdown",
      "source": [
        "4. 리스트의 데이터 유형"
      ],
      "metadata": {
        "id": "bgC7lT9_0i9W"
      }
    },
    {
      "cell_type": "code",
      "source": [
        "list1 = [\"apple\", \"banana\", \"cherry\"]\n",
        "list2 = [1, 5, 7, 9, 3]\n",
        "list3 = [True, False, False]\n",
        "\n",
        "print(type(list1))"
      ],
      "metadata": {
        "colab": {
          "base_uri": "https://localhost:8080/"
        },
        "id": "EKqIdlyb0jM8",
        "outputId": "67578788-310f-49ce-d72d-c996fae9bb94"
      },
      "execution_count": null,
      "outputs": [
        {
          "output_type": "stream",
          "name": "stdout",
          "text": [
            "<class 'list'>\n"
          ]
        }
      ]
    },
    {
      "cell_type": "markdown",
      "source": [
        "5. list() 생성자 사용하기"
      ],
      "metadata": {
        "id": "CrfkFf101C-b"
      }
    },
    {
      "cell_type": "code",
      "source": [
        "thislist = list((\"apple\", \"banana\", \"cherry\"))\n",
        "print(thislist)"
      ],
      "metadata": {
        "colab": {
          "base_uri": "https://localhost:8080/"
        },
        "id": "uPIzVQif1NwP",
        "outputId": "ed0c3160-ca9a-4e84-da6f-1cf9dc69ccb6"
      },
      "execution_count": null,
      "outputs": [
        {
          "output_type": "stream",
          "name": "stdout",
          "text": [
            "['apple', 'banana', 'cherry']\n"
          ]
        }
      ]
    },
    {
      "cell_type": "markdown",
      "source": [
        "6. list관련 자율주행 코드(주행명령확인)"
      ],
      "metadata": {
        "id": "0CNLgoTv1Tgm"
      }
    },
    {
      "cell_type": "code",
      "source": [
        "commands = [\"전진\", \"전진\", \"좌회전\", \"우회전\", \"정지\"]\n",
        "\n",
        "print(\"첫 번째 명령:\", commands[0])\n",
        "print(\"마지막 명령:\", commands[-1])\n",
        "print(\"총 명령 개수:\", len(commands))"
      ],
      "metadata": {
        "colab": {
          "base_uri": "https://localhost:8080/"
        },
        "id": "nThsoO8E2Fns",
        "outputId": "ec14d8aa-9cbd-4be1-f7ed-b8302e450260"
      },
      "execution_count": null,
      "outputs": [
        {
          "output_type": "stream",
          "name": "stdout",
          "text": [
            "첫 번째 명령: 전진\n",
            "마지막 명령: 정지\n",
            "총 명령 개수: 5\n"
          ]
        }
      ]
    },
    {
      "cell_type": "markdown",
      "source": [
        "7. list관련 자율주행 코드(속도로그분석)"
      ],
      "metadata": {
        "id": "aHdqLpjC2Jl7"
      }
    },
    {
      "cell_type": "code",
      "source": [
        "speeds = [0, 20, 40, 60, 60, 40, 20, 0]\n",
        "\n",
        "print(\"최고 속도:\", max(speeds))\n",
        "print(\"최저 속도:\", min(speeds))\n",
        "print(\"평균 속도:\", sum(speeds) / len(speeds))"
      ],
      "metadata": {
        "colab": {
          "base_uri": "https://localhost:8080/"
        },
        "id": "VjOkhrZY2O_b",
        "outputId": "10359058-b6fc-4baf-c219-41c937ad262d"
      },
      "execution_count": null,
      "outputs": [
        {
          "output_type": "stream",
          "name": "stdout",
          "text": [
            "최고 속도: 60\n",
            "최저 속도: 0\n",
            "평균 속도: 30.0\n"
          ]
        }
      ]
    },
    {
      "cell_type": "markdown",
      "source": [
        "8. list관련 자율주행 코드(도로 표지판 감지여부)"
      ],
      "metadata": {
        "id": "RcaeHmBW2Wsm"
      }
    },
    {
      "cell_type": "code",
      "source": [
        "signs = [\"속도제한 30\", \"정지\", \"우회전\", \"보행자주의\"]\n",
        "\n",
        "print(\"정지 표지판 있음?\", \"정지\" in signs)\n",
        "print(\"좌회전 표지판 있음?\", \"좌회전\" in signs)"
      ],
      "metadata": {
        "colab": {
          "base_uri": "https://localhost:8080/"
        },
        "id": "zSOtldeU2SDr",
        "outputId": "50b3c68b-15cd-4236-caea-9557a15dc7a6"
      },
      "execution_count": null,
      "outputs": [
        {
          "output_type": "stream",
          "name": "stdout",
          "text": [
            "정지 표지판 있음? True\n",
            "좌회전 표지판 있음? False\n"
          ]
        }
      ]
    },
    {
      "cell_type": "markdown",
      "source": [
        "9. list관련 자율주행 코드(차선 위치 감지 현황)"
      ],
      "metadata": {
        "id": "7wMshXm_2dac"
      }
    },
    {
      "cell_type": "code",
      "source": [
        "lane_positions = [\"중앙\", \"중앙\", \"왼쪽\", \"중앙\", \"오른쪽\", \"중앙\"]\n",
        "\n",
        "print(\"총 감지 수:\", len(lane_positions))\n",
        "print(\"왼쪽 감지 횟수:\", lane_positions.count(\"왼쪽\"))\n",
        "print(\"중앙 유지 비율:\", lane_positions.count(\"중앙\") / len(lane_positions) * 100, \"%\")"
      ],
      "metadata": {
        "colab": {
          "base_uri": "https://localhost:8080/"
        },
        "id": "LFonNhR62Rvm",
        "outputId": "62d5a7b9-96e6-401d-eccf-f46ca0133f1d"
      },
      "execution_count": null,
      "outputs": [
        {
          "output_type": "stream",
          "name": "stdout",
          "text": [
            "총 감지 수: 6\n",
            "왼쪽 감지 횟수: 1\n",
            "중앙 유지 비율: 66.66666666666666 %\n"
          ]
        }
      ]
    },
    {
      "cell_type": "markdown",
      "source": [
        "10. list관련 자율주행 코드(배터리 상태점검)"
      ],
      "metadata": {
        "id": "orQ4_dVp2pRS"
      }
    },
    {
      "cell_type": "code",
      "source": [
        "battery_levels = [95, 90, 85, 80, 75, 70, 65, 60]\n",
        "\n",
        "print(\"현재 배터리:\", battery_levels[-1], \"%\")\n",
        "print(\"배터리 감소량:\", battery_levels[0] - battery_levels[-1], \"%\")\n",
        "print(\"배터리 평균 소모율:\", (battery_levels[0] - battery_levels[-1]) / (len(battery_levels) - 1), \"% per step\")"
      ],
      "metadata": {
        "colab": {
          "base_uri": "https://localhost:8080/"
        },
        "id": "NjXLCBdW2psw",
        "outputId": "24bda9f0-3a92-4c26-da9f-fb98e65370da"
      },
      "execution_count": null,
      "outputs": [
        {
          "output_type": "stream",
          "name": "stdout",
          "text": [
            "현재 배터리: 60 %\n",
            "배터리 감소량: 35 %\n",
            "배터리 평균 소모율: 5.0 % per step\n"
          ]
        }
      ]
    },
    {
      "cell_type": "markdown",
      "source": [
        "11. list와 for문을 사용한 자율주행 코드(속도조절)"
      ],
      "metadata": {
        "id": "hMyCA7-DI0xD"
      }
    },
    {
      "cell_type": "code",
      "source": [
        "distances = [120, 80, 50, 30, 10]\n",
        "\n",
        "for distance in distances:\n",
        "    if distance > 70:\n",
        "        speed = 50\n",
        "    elif distance > 40:\n",
        "        speed = 30\n",
        "    else:\n",
        "        speed = 10\n",
        "    print(f\"거리: {distance}cm → 속도: {speed}km/h\")"
      ],
      "metadata": {
        "colab": {
          "base_uri": "https://localhost:8080/"
        },
        "id": "uCoLkEVSI1Tu",
        "outputId": "c54ba606-41f3-45c9-e0b0-3cdfe042fbed"
      },
      "execution_count": null,
      "outputs": [
        {
          "output_type": "stream",
          "name": "stdout",
          "text": [
            "거리: 120cm → 속도: 50km/h\n",
            "거리: 80cm → 속도: 50km/h\n",
            "거리: 50cm → 속도: 30km/h\n",
            "거리: 30cm → 속도: 10km/h\n",
            "거리: 10cm → 속도: 10km/h\n"
          ]
        }
      ]
    },
    {
      "cell_type": "markdown",
      "source": [
        "12. list와 for문을 사용한 자율주행 코드(위경도를 이용한 목적지 도달여부판단)"
      ],
      "metadata": {
        "id": "SSvMFdDMJy-M"
      }
    },
    {
      "cell_type": "code",
      "source": [
        "current_location = (37.5651, 126.9895)  # 현재 위치\n",
        "destination = (37.5610, 127.0025)       # 목적지\n",
        "\n",
        "if current_location == destination:\n",
        "    print(\"목적지에 도달했습니다.\")\n",
        "else:\n",
        "    print(\"아직 목적지에 도달하지 않았습니다.\")"
      ],
      "metadata": {
        "colab": {
          "base_uri": "https://localhost:8080/"
        },
        "id": "PuNKIvwZKCig",
        "outputId": "906859fc-42cf-4797-e946-88b3528d7b4b"
      },
      "execution_count": null,
      "outputs": [
        {
          "output_type": "stream",
          "name": "stdout",
          "text": [
            "아직 목적지에 도달하지 않았습니다.\n"
          ]
        }
      ]
    }
  ]
}