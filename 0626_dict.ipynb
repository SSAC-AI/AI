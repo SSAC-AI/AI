{
  "nbformat": 4,
  "nbformat_minor": 0,
  "metadata": {
    "colab": {
      "provenance": [],
      "authorship_tag": "ABX9TyOJ4K4bdckKNVJSNYHS4hbL",
      "include_colab_link": true
    },
    "kernelspec": {
      "name": "python3",
      "display_name": "Python 3"
    },
    "language_info": {
      "name": "python"
    }
  },
  "cells": [
    {
      "cell_type": "markdown",
      "metadata": {
        "id": "view-in-github",
        "colab_type": "text"
      },
      "source": [
        "<a href=\"https://colab.research.google.com/github/SSAC-AI/AI/blob/main/0626_dict.ipynb\" target=\"_parent\"><img src=\"https://colab.research.google.com/assets/colab-badge.svg\" alt=\"Open In Colab\"/></a>"
      ]
    },
    {
      "cell_type": "markdown",
      "source": [
        "1. 딕셔너리 기초"
      ],
      "metadata": {
        "id": "FZdY3mN3LE2C"
      }
    },
    {
      "cell_type": "code",
      "execution_count": 2,
      "metadata": {
        "colab": {
          "base_uri": "https://localhost:8080/"
        },
        "id": "J1txodYqLALO",
        "outputId": "d811f2ed-b617-49f3-9e67-a154de4db65d"
      },
      "outputs": [
        {
          "output_type": "stream",
          "name": "stdout",
          "text": [
            "{'brand': 'Ford', 'model': 'Mustang', 'year': 1964}\n"
          ]
        }
      ],
      "source": [
        "thisdict = {\n",
        "  \"brand\": \"Ford\",\n",
        "  \"model\": \"Mustang\",\n",
        "  \"year\": 1964\n",
        "}\n",
        "print(thisdict)"
      ]
    },
    {
      "cell_type": "markdown",
      "source": [
        "2. 딕셔너리 항목값 추출"
      ],
      "metadata": {
        "id": "jy0jI5QXLNCw"
      }
    },
    {
      "cell_type": "code",
      "source": [
        "thisdict = {\n",
        "  \"brand\": \"Ford\",\n",
        "  \"model\": \"Mustang\",\n",
        "  \"year\": 1964\n",
        "}\n",
        "print(thisdict[\"brand\"])"
      ],
      "metadata": {
        "colab": {
          "base_uri": "https://localhost:8080/"
        },
        "id": "ZkV8jiaDLW0q",
        "outputId": "5e0a5cba-9d48-4236-b964-ea7c06021c49"
      },
      "execution_count": 3,
      "outputs": [
        {
          "output_type": "stream",
          "name": "stdout",
          "text": [
            "Ford\n"
          ]
        }
      ]
    },
    {
      "cell_type": "markdown",
      "source": [
        "3. 딕셔너리의 중복 불가"
      ],
      "metadata": {
        "id": "Oa1XXTPWLZ8t"
      }
    },
    {
      "cell_type": "code",
      "source": [
        "thisdict = {\n",
        "  \"brand\": \"Ford\",\n",
        "  \"model\": \"Mustang\",\n",
        "  \"year\": 1964,\n",
        "  \"year\": 2020\n",
        "}\n",
        "print(thisdict)"
      ],
      "metadata": {
        "colab": {
          "base_uri": "https://localhost:8080/"
        },
        "id": "AAVLNGCPLaRS",
        "outputId": "1dcad0c0-3614-4778-fc21-096ec00f589f"
      },
      "execution_count": 4,
      "outputs": [
        {
          "output_type": "stream",
          "name": "stdout",
          "text": [
            "{'brand': 'Ford', 'model': 'Mustang', 'year': 2020}\n"
          ]
        }
      ]
    },
    {
      "cell_type": "markdown",
      "source": [
        "4. 딕셔너리의 항목 수 추출"
      ],
      "metadata": {
        "id": "yMUtprSuLrxp"
      }
    },
    {
      "cell_type": "code",
      "source": [
        "print(len(thisdict))"
      ],
      "metadata": {
        "colab": {
          "base_uri": "https://localhost:8080/"
        },
        "id": "CfmfKShjLsM0",
        "outputId": "a3722de1-d77e-485a-f05e-427ed2f9422a"
      },
      "execution_count": 5,
      "outputs": [
        {
          "output_type": "stream",
          "name": "stdout",
          "text": [
            "3\n"
          ]
        }
      ]
    },
    {
      "cell_type": "markdown",
      "source": [
        "5. 딕셔너리 항목의 데이터 유형"
      ],
      "metadata": {
        "id": "xU4T7xdlLz-O"
      }
    },
    {
      "cell_type": "code",
      "source": [
        "thisdict = {\n",
        "  \"brand\": \"Ford\",\n",
        "  \"model\": \"Mustang\",\n",
        "  \"year\": 1964\n",
        "}\n",
        "print(type(thisdict))"
      ],
      "metadata": {
        "colab": {
          "base_uri": "https://localhost:8080/"
        },
        "id": "ClqS6LExL0Xu",
        "outputId": "3392f0f1-5c5a-4f65-856f-1bb75287524e"
      },
      "execution_count": 6,
      "outputs": [
        {
          "output_type": "stream",
          "name": "stdout",
          "text": [
            "<class 'dict'>\n"
          ]
        }
      ]
    },
    {
      "cell_type": "markdown",
      "source": [
        "6. dict생성자를 이용하여 딕셔너리 생성"
      ],
      "metadata": {
        "id": "m1XLTqaZL896"
      }
    },
    {
      "cell_type": "code",
      "source": [
        "thisdict = dict(name = \"John\", age = 36, country = \"Norway\")\n",
        "print(thisdict)"
      ],
      "metadata": {
        "colab": {
          "base_uri": "https://localhost:8080/"
        },
        "id": "dVmFKuOXMMkD",
        "outputId": "e3b9b643-c1a9-4474-84bb-4a0a04e21be7"
      },
      "execution_count": 7,
      "outputs": [
        {
          "output_type": "stream",
          "name": "stdout",
          "text": [
            "{'name': 'John', 'age': 36, 'country': 'Norway'}\n"
          ]
        }
      ]
    },
    {
      "cell_type": "markdown",
      "source": [
        "7. 딕셔너리를 이용한 자율주행 코드(차량상태 확인)"
      ],
      "metadata": {
        "id": "SwLBunMxMcdT"
      }
    },
    {
      "cell_type": "code",
      "source": [
        "car_status = {\n",
        "    \"속도\": 45,\n",
        "    \"배터리\": 78,\n",
        "    \"차선위치\": \"중앙\",\n",
        "    \"전방거리\": 120\n",
        "}\n",
        "\n",
        "print(f\"현재 속도: {car_status['속도']}km/h\")\n",
        "print(f\"배터리 잔량: {car_status['배터리']}%\")\n",
        "print(f\"차선 상태: {car_status['차선위치']}\")\n",
        "print(f\"전방 장애물 거리: {car_status['전방거리']}cm\")"
      ],
      "metadata": {
        "colab": {
          "base_uri": "https://localhost:8080/"
        },
        "id": "mIP-RotYMhDP",
        "outputId": "d8f59e8a-82a8-4a1e-e6c4-630bf897942e"
      },
      "execution_count": 8,
      "outputs": [
        {
          "output_type": "stream",
          "name": "stdout",
          "text": [
            "현재 속도: 45km/h\n",
            "배터리 잔량: 78%\n",
            "차선 상태: 중앙\n",
            "전방 장애물 거리: 120cm\n"
          ]
        }
      ]
    },
    {
      "cell_type": "markdown",
      "source": [
        "8. 딕셔너리를 이용한 자율주행 코드(표지판 인식결과)"
      ],
      "metadata": {
        "id": "lsRcR07tMqqA"
      }
    },
    {
      "cell_type": "code",
      "source": [
        "sign = {\n",
        "    \"종류\": \"속도제한\",\n",
        "    \"값\": 30  # 제한 속도\n",
        "}\n",
        "\n",
        "if sign[\"종류\"] == \"속도제한\":\n",
        "    print(f\"속도제한 표지판 인식 → 제한 속도: {sign['값']}km/h\")\n",
        "elif sign[\"종류\"] == \"정지\":\n",
        "    print(\"정지 표지판 인식 → 차량 정지\")"
      ],
      "metadata": {
        "colab": {
          "base_uri": "https://localhost:8080/"
        },
        "id": "CFEejreOMxtZ",
        "outputId": "bb3e5adc-7373-4a75-b5ee-d1178966f9c0"
      },
      "execution_count": 9,
      "outputs": [
        {
          "output_type": "stream",
          "name": "stdout",
          "text": [
            "속도제한 표지판 인식 → 제한 속도: 30km/h\n"
          ]
        }
      ]
    },
    {
      "cell_type": "markdown",
      "source": [
        "9. 딕셔너리를 이용한 자율주행 코드(GPS 위치 정보 확인)"
      ],
      "metadata": {
        "id": "xpMRZ5bGM1Ql"
      }
    },
    {
      "cell_type": "code",
      "source": [
        "location = {\n",
        "    \"위도\": 37.5665,\n",
        "    \"경도\": 126.9780,\n",
        "    \"장소\": \"영빈이 집\"\n",
        "}\n",
        "\n",
        "print(f\"현재 위치: {location['장소']}\")\n",
        "print(f\"GPS 좌표: ({location['위도']}, {location['경도']})\")"
      ],
      "metadata": {
        "colab": {
          "base_uri": "https://localhost:8080/"
        },
        "id": "2bXBJWUQM6VU",
        "outputId": "45278ed4-a991-4f3c-bd28-bdf9f2cac6f8"
      },
      "execution_count": 11,
      "outputs": [
        {
          "output_type": "stream",
          "name": "stdout",
          "text": [
            "현재 위치: 영빈이 집\n",
            "GPS 좌표: (37.5665, 126.978)\n"
          ]
        }
      ]
    },
    {
      "cell_type": "markdown",
      "source": [
        "10. 딕셔너리를 이용한 자율주행 코드(경로 저장)"
      ],
      "metadata": {
        "id": "eL0gzvmmNGtn"
      }
    },
    {
      "cell_type": "code",
      "source": [
        "path_log = [\n",
        "    {\"위도\": 37.5665, \"경도\": 126.9780},\n",
        "    {\"위도\": 37.5651, \"경도\": 126.9895},\n",
        "    {\"위도\": 37.5610, \"경도\": 127.0025}\n",
        "]\n",
        "\n",
        "for 위치 in path_log:\n",
        "    print(f\"위치 → 위도: {위치['위도']}, 경도: {위치['경도']}\")"
      ],
      "metadata": {
        "colab": {
          "base_uri": "https://localhost:8080/"
        },
        "id": "meTs0eGXNHwa",
        "outputId": "7703fb7e-ad4e-4362-c229-27fde56d5319"
      },
      "execution_count": 12,
      "outputs": [
        {
          "output_type": "stream",
          "name": "stdout",
          "text": [
            "위치 → 위도: 37.5665, 경도: 126.978\n",
            "위치 → 위도: 37.5651, 경도: 126.9895\n",
            "위치 → 위도: 37.561, 경도: 127.0025\n"
          ]
        }
      ]
    }
  ]
}