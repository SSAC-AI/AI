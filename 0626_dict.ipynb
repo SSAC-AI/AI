{
  "nbformat": 4,
  "nbformat_minor": 0,
  "metadata": {
    "colab": {
      "provenance": [],
      "authorship_tag": "ABX9TyOaVmHn5+y7bEZJrxM9Mq4j",
      "include_colab_link": true
    },
    "kernelspec": {
      "name": "python3",
      "display_name": "Python 3"
    },
    "language_info": {
      "name": "python"
    }
  },
  "cells": [
    {
      "cell_type": "markdown",
      "metadata": {
        "id": "view-in-github",
        "colab_type": "text"
      },
      "source": [
        "<a href=\"https://colab.research.google.com/github/SSAC-AI/AI/blob/main/0626_dict.ipynb\" target=\"_parent\"><img src=\"https://colab.research.google.com/assets/colab-badge.svg\" alt=\"Open In Colab\"/></a>"
      ]
    },
    {
      "cell_type": "markdown",
      "source": [
        "1. 딕셔너리 기초"
      ],
      "metadata": {
        "id": "FZdY3mN3LE2C"
      }
    },
    {
      "cell_type": "code",
      "execution_count": null,
      "metadata": {
        "colab": {
          "base_uri": "https://localhost:8080/"
        },
        "id": "J1txodYqLALO",
        "outputId": "d811f2ed-b617-49f3-9e67-a154de4db65d"
      },
      "outputs": [
        {
          "output_type": "stream",
          "name": "stdout",
          "text": [
            "{'brand': 'Ford', 'model': 'Mustang', 'year': 1964}\n"
          ]
        }
      ],
      "source": [
        "thisdict = {\n",
        "  \"brand\": \"Ford\",\n",
        "  \"model\": \"Mustang\",\n",
        "  \"year\": 1964\n",
        "}\n",
        "print(thisdict)"
      ]
    },
    {
      "cell_type": "markdown",
      "source": [
        "2. 딕셔너리 항목값 추출"
      ],
      "metadata": {
        "id": "jy0jI5QXLNCw"
      }
    },
    {
      "cell_type": "code",
      "source": [
        "thisdict = {\n",
        "  \"brand\": \"Ford\",\n",
        "  \"model\": \"Mustang\",\n",
        "  \"year\": 1964\n",
        "}\n",
        "print(thisdict[\"brand\"])"
      ],
      "metadata": {
        "colab": {
          "base_uri": "https://localhost:8080/"
        },
        "id": "ZkV8jiaDLW0q",
        "outputId": "5e0a5cba-9d48-4236-b964-ea7c06021c49"
      },
      "execution_count": null,
      "outputs": [
        {
          "output_type": "stream",
          "name": "stdout",
          "text": [
            "Ford\n"
          ]
        }
      ]
    },
    {
      "cell_type": "markdown",
      "source": [
        "3. 딕셔너리의 중복 불가"
      ],
      "metadata": {
        "id": "Oa1XXTPWLZ8t"
      }
    },
    {
      "cell_type": "code",
      "source": [
        "thisdict = {\n",
        "  \"brand\": \"Ford\",\n",
        "  \"model\": \"Mustang\",\n",
        "  \"year\": 1964,\n",
        "  \"year\": 2020\n",
        "}\n",
        "print(thisdict)"
      ],
      "metadata": {
        "colab": {
          "base_uri": "https://localhost:8080/"
        },
        "id": "AAVLNGCPLaRS",
        "outputId": "1dcad0c0-3614-4778-fc21-096ec00f589f"
      },
      "execution_count": null,
      "outputs": [
        {
          "output_type": "stream",
          "name": "stdout",
          "text": [
            "{'brand': 'Ford', 'model': 'Mustang', 'year': 2020}\n"
          ]
        }
      ]
    },
    {
      "cell_type": "markdown",
      "source": [
        "4. 딕셔너리의 항목 수 추출"
      ],
      "metadata": {
        "id": "yMUtprSuLrxp"
      }
    },
    {
      "cell_type": "code",
      "source": [
        "print(len(thisdict))"
      ],
      "metadata": {
        "colab": {
          "base_uri": "https://localhost:8080/"
        },
        "id": "CfmfKShjLsM0",
        "outputId": "a3722de1-d77e-485a-f05e-427ed2f9422a"
      },
      "execution_count": null,
      "outputs": [
        {
          "output_type": "stream",
          "name": "stdout",
          "text": [
            "3\n"
          ]
        }
      ]
    },
    {
      "cell_type": "markdown",
      "source": [
        "5. 딕셔너리 항목의 데이터 유형"
      ],
      "metadata": {
        "id": "xU4T7xdlLz-O"
      }
    },
    {
      "cell_type": "code",
      "source": [
        "thisdict = {\n",
        "  \"brand\": \"Ford\",\n",
        "  \"model\": \"Mustang\",\n",
        "  \"year\": 1964\n",
        "}\n",
        "print(type(thisdict))"
      ],
      "metadata": {
        "colab": {
          "base_uri": "https://localhost:8080/"
        },
        "id": "ClqS6LExL0Xu",
        "outputId": "3392f0f1-5c5a-4f65-856f-1bb75287524e"
      },
      "execution_count": null,
      "outputs": [
        {
          "output_type": "stream",
          "name": "stdout",
          "text": [
            "<class 'dict'>\n"
          ]
        }
      ]
    },
    {
      "cell_type": "markdown",
      "source": [
        "6. dict생성자를 이용하여 딕셔너리 생성"
      ],
      "metadata": {
        "id": "m1XLTqaZL896"
      }
    },
    {
      "cell_type": "code",
      "source": [
        "thisdict = dict(name = \"John\", age = 36, country = \"Norway\")\n",
        "print(thisdict)"
      ],
      "metadata": {
        "colab": {
          "base_uri": "https://localhost:8080/"
        },
        "id": "dVmFKuOXMMkD",
        "outputId": "e3b9b643-c1a9-4474-84bb-4a0a04e21be7"
      },
      "execution_count": null,
      "outputs": [
        {
          "output_type": "stream",
          "name": "stdout",
          "text": [
            "{'name': 'John', 'age': 36, 'country': 'Norway'}\n"
          ]
        }
      ]
    },
    {
      "cell_type": "markdown",
      "source": [
        "7. 딕셔너리를 이용한 자율주행 코드(차량상태 확인)"
      ],
      "metadata": {
        "id": "SwLBunMxMcdT"
      }
    },
    {
      "cell_type": "code",
      "source": [
        "car_status = {\n",
        "    \"속도\": 45,\n",
        "    \"배터리\": 78,\n",
        "    \"차선위치\": \"중앙\",\n",
        "    \"전방거리\": 120\n",
        "}\n",
        "\n",
        "print(f\"현재 속도: {car_status['속도']}km/h\")\n",
        "print(f\"배터리 잔량: {car_status['배터리']}%\")\n",
        "print(f\"차선 상태: {car_status['차선위치']}\")\n",
        "print(f\"전방 장애물 거리: {car_status['전방거리']}cm\")"
      ],
      "metadata": {
        "colab": {
          "base_uri": "https://localhost:8080/"
        },
        "id": "mIP-RotYMhDP",
        "outputId": "d8f59e8a-82a8-4a1e-e6c4-630bf897942e"
      },
      "execution_count": null,
      "outputs": [
        {
          "output_type": "stream",
          "name": "stdout",
          "text": [
            "현재 속도: 45km/h\n",
            "배터리 잔량: 78%\n",
            "차선 상태: 중앙\n",
            "전방 장애물 거리: 120cm\n"
          ]
        }
      ]
    },
    {
      "cell_type": "markdown",
      "source": [
        "8. 딕셔너리를 이용한 자율주행 코드(표지판 인식결과)"
      ],
      "metadata": {
        "id": "lsRcR07tMqqA"
      }
    },
    {
      "cell_type": "code",
      "source": [
        "sign = {\n",
        "    \"종류\": \"속도제한\",\n",
        "    \"값\": 30  # 제한 속도\n",
        "}\n",
        "\n",
        "if sign[\"종류\"] == \"속도제한\":\n",
        "    print(f\"속도제한 표지판 인식 → 제한 속도: {sign['값']}km/h\")\n",
        "elif sign[\"종류\"] == \"정지\":\n",
        "    print(\"정지 표지판 인식 → 차량 정지\")"
      ],
      "metadata": {
        "colab": {
          "base_uri": "https://localhost:8080/"
        },
        "id": "CFEejreOMxtZ",
        "outputId": "bb3e5adc-7373-4a75-b5ee-d1178966f9c0"
      },
      "execution_count": null,
      "outputs": [
        {
          "output_type": "stream",
          "name": "stdout",
          "text": [
            "속도제한 표지판 인식 → 제한 속도: 30km/h\n"
          ]
        }
      ]
    },
    {
      "cell_type": "markdown",
      "source": [
        "9. 딕셔너리를 이용한 자율주행 코드(GPS 위치 정보 확인)"
      ],
      "metadata": {
        "id": "xpMRZ5bGM1Ql"
      }
    },
    {
      "cell_type": "code",
      "source": [
        "location = {\n",
        "    \"위도\": 37.5665,\n",
        "    \"경도\": 126.9780,\n",
        "    \"장소\": \"영빈이 집\"\n",
        "}\n",
        "\n",
        "print(f\"현재 위치: {location['장소']}\")\n",
        "print(f\"GPS 좌표: ({location['위도']}, {location['경도']})\")"
      ],
      "metadata": {
        "colab": {
          "base_uri": "https://localhost:8080/"
        },
        "id": "2bXBJWUQM6VU",
        "outputId": "45278ed4-a991-4f3c-bd28-bdf9f2cac6f8"
      },
      "execution_count": null,
      "outputs": [
        {
          "output_type": "stream",
          "name": "stdout",
          "text": [
            "현재 위치: 영빈이 집\n",
            "GPS 좌표: (37.5665, 126.978)\n"
          ]
        }
      ]
    },
    {
      "cell_type": "markdown",
      "source": [
        "10. 딕셔너리를 이용한 자율주행 코드(경로 저장)"
      ],
      "metadata": {
        "id": "eL0gzvmmNGtn"
      }
    },
    {
      "cell_type": "code",
      "source": [
        "path_log = [\n",
        "    {\"위도\": 37.5665, \"경도\": 126.9780},\n",
        "    {\"위도\": 37.5651, \"경도\": 126.9895},\n",
        "    {\"위도\": 37.5610, \"경도\": 127.0025}\n",
        "]\n",
        "\n",
        "for 위치 in path_log:\n",
        "    print(f\"위치 → 위도: {위치['위도']}, 경도: {위치['경도']}\")"
      ],
      "metadata": {
        "colab": {
          "base_uri": "https://localhost:8080/"
        },
        "id": "meTs0eGXNHwa",
        "outputId": "7703fb7e-ad4e-4362-c229-27fde56d5319"
      },
      "execution_count": null,
      "outputs": [
        {
          "output_type": "stream",
          "name": "stdout",
          "text": [
            "위치 → 위도: 37.5665, 경도: 126.978\n",
            "위치 → 위도: 37.5651, 경도: 126.9895\n",
            "위치 → 위도: 37.561, 경도: 127.0025\n"
          ]
        }
      ]
    },
    {
      "cell_type": "markdown",
      "source": [
        "과제 1: 스마트 신호등 타이밍 최적화"
      ],
      "metadata": {
        "id": "R70ntQDYELTS"
      }
    },
    {
      "cell_type": "code",
      "source": [
        "# 교차로별 대기 차량 수\n",
        "intersections = ['서울역앞', '시청앞', '종로3가', '을지로입구']\n",
        "waiting_cars = [12, 8, 15, 5]\n",
        "\n",
        "# 현재 신호등 상태와 남은 시간\n",
        "traffic_signals = {}\n",
        "traffic_signals['서울역앞'] = {'color': '빨강', 'time_left': 25, 'waiting': 12}\n",
        "traffic_signals['시청앞'] = {'color': '초록', 'time_left': 15, 'waiting': 8}\n",
        "traffic_signals['종로3가'] = {'color': '빨강', 'time_left': 40, 'waiting': 15}\n",
        "traffic_signals['을지로입구'] = {'color': '노랑', 'time_left': 3, 'waiting': 5}\n",
        "\n",
        "print(\"현재 교차로 상황:\")\n",
        "for intersection in intersections:\n",
        "    signal = traffic_signals[intersection]\n",
        "    print(f\"{intersection}: {signal['color']} {signal['time_left']}초, 대기차량 {signal['waiting']}대\")\n",
        "\n",
        "# 우선순위 교차로 선정 (대기차량 10대 이상이면 우선처리)\n",
        "print(\"\\n우선처리 필요 교차로:\")\n",
        "for intersection in intersections:\n",
        "    if traffic_signals[intersection]['waiting'] >= 10:\n",
        "        print(f\"⚠️ {intersection}: 대기차량 {traffic_signals[intersection]['waiting']}대\")\n"
      ],
      "metadata": {
        "colab": {
          "base_uri": "https://localhost:8080/"
        },
        "id": "rGKj1Z1UEKrA",
        "outputId": "cc4a35b6-6e31-4100-8e72-771a82d67398"
      },
      "execution_count": 1,
      "outputs": [
        {
          "output_type": "stream",
          "name": "stdout",
          "text": [
            "현재 교차로 상황:\n",
            "서울역앞: 빨강 25초, 대기차량 12대\n",
            "시청앞: 초록 15초, 대기차량 8대\n",
            "종로3가: 빨강 40초, 대기차량 15대\n",
            "을지로입구: 노랑 3초, 대기차량 5대\n",
            "\n",
            "우선처리 필요 교차로:\n",
            "⚠️ 서울역앞: 대기차량 12대\n",
            "⚠️ 종로3가: 대기차량 15대\n"
          ]
        }
      ]
    },
    {
      "cell_type": "markdown",
      "source": [
        "과제 2: 자동 발렛파킹 시스템"
      ],
      "metadata": {
        "id": "E7W5A5-6Euxf"
      }
    },
    {
      "cell_type": "code",
      "source": [
        "# 차량 크기별 분류\n",
        "vehicle_sizes = ['소형', '중형', '대형', 'SUV']\n",
        "size_counts = [15, 20, 8, 12]\n",
        "\n",
        "# 주차공간 크기별 현황\n",
        "parking_spaces = {}\n",
        "parking_spaces['소형전용'] = {'total': 30, 'occupied': 15, 'size_limit': '소형'}\n",
        "parking_spaces['일반공간'] = {'total': 40, 'occupied': 28, 'size_limit': '중형'}\n",
        "parking_spaces['대형공간'] = {'total': 15, 'occupied': 8, 'size_limit': '대형'}\n",
        "parking_spaces['SUV전용'] = {'total': 20, 'occupied': 12, 'size_limit': 'SUV'}\n",
        "\n",
        "print(\"주차공간 현황:\")\n",
        "for space_type in parking_spaces:\n",
        "    space = parking_spaces[space_type]\n",
        "    available = space['total'] - space['occupied']\n",
        "    print(f\"{space_type}: {available}/{space['total']} 가능 ({space['size_limit']} 전용)\")"
      ],
      "metadata": {
        "colab": {
          "base_uri": "https://localhost:8080/"
        },
        "id": "_Sb7jr_bEtXQ",
        "outputId": "4178e850-f2fa-4eae-9389-7955c6974423"
      },
      "execution_count": 3,
      "outputs": [
        {
          "output_type": "stream",
          "name": "stdout",
          "text": [
            "주차공간 현황:\n",
            "소형전용: 15/30 가능 (소형 전용)\n",
            "일반공간: 12/40 가능 (중형 전용)\n",
            "대형공간: 7/15 가능 (대형 전용)\n",
            "SUV전용: 8/20 가능 (SUV 전용)\n"
          ]
        }
      ]
    },
    {
      "cell_type": "markdown",
      "source": [
        "과제 3: 차량 군집주행 관리 시스템"
      ],
      "metadata": {
        "id": "qnChCw-9E0Kx"
      }
    },
    {
      "cell_type": "code",
      "source": [
        "# 군집주행 그룹 정보\n",
        "convoy_groups = ['그룹A', '그룹B', '그룹C']\n",
        "group_vehicles = [[3, 4, 2], [5, 6, 8], [2, 3]]  # 각 그룹의 차량 수\n",
        "\n",
        "# 각 그룹별 상세 정보\n",
        "convoy_info = {}\n",
        "convoy_info['그룹A'] = {'vehicles': 3, 'leader_speed': 80, 'formation': '일렬'}\n",
        "convoy_info['그룹B'] = {'vehicles': 5, 'leader_speed': 70, 'formation': '삼각'}\n",
        "convoy_info['그룹C'] = {'vehicles': 2, 'leader_speed': 90, 'formation': '병렬'}\n",
        "\n",
        "print(\"군집주행 현황:\")\n",
        "for group in convoy_groups:\n",
        "    info = convoy_info[group]\n",
        "    print(f\"{group}: {info['vehicles']}대, 속도 {info['leader_speed']}km/h, {info['formation']}대형\")\n",
        "\n",
        "# 안전 속도 권장 (5대 이상이면 속도 제한)\n",
        "print(\"\\n안전 권장사항:\")\n",
        "for group in convoy_groups:\n",
        "    info = convoy_info[group]\n",
        "    if info['vehicles'] >= 5:\n",
        "        recommended_speed = 60\n",
        "        print(f\"{group}: 차량 {info['vehicles']}대로 인해 {recommended_speed}km/h 이하 권장\")\n"
      ],
      "metadata": {
        "colab": {
          "base_uri": "https://localhost:8080/"
        },
        "id": "Cvkv36LpFGOk",
        "outputId": "985e927e-0e27-4e2d-d8fb-d57e6ee81971"
      },
      "execution_count": 2,
      "outputs": [
        {
          "output_type": "stream",
          "name": "stdout",
          "text": [
            "군집주행 현황:\n",
            "그룹A: 3대, 속도 80km/h, 일렬대형\n",
            "그룹B: 5대, 속도 70km/h, 삼각대형\n",
            "그룹C: 2대, 속도 90km/h, 병렬대형\n",
            "\n",
            "안전 권장사항:\n",
            "그룹B: 차량 5대로 인해 60km/h 이하 권장\n"
          ]
        }
      ]
    },
    {
      "cell_type": "markdown",
      "source": [
        "과제 4: 도로 위험도 평가 및 경고 시스템"
      ],
      "metadata": {
        "id": "5QwDqbedFIC3"
      }
    },
    {
      "cell_type": "code",
      "source": [
        "print(\"\\n긴급 충전 필요:\")\n",
        "urgent_vehicles = []\n",
        "for vehicle in ev_fleet:\n",
        "    if ev_status[vehicle]['battery'] <= 30:\n",
        "        urgent_vehicles.append(vehicle)\n",
        "        print(f\"🔋 {vehicle}: {ev_status[vehicle]['battery']}% - 즉시 충전 필요\")\n",
        "\n",
        "# 충전소 예약 시스템\n",
        "charging_stations = {}\n",
        "charging_stations['강남충전소'] = {'slots': 5, 'reserved': 2, 'fast_charge': True}\n",
        "charging_stations['서초충전소'] = {'slots': 3, 'reserved': 1, 'fast_charge': False}\n",
        "charging_stations['종로충전소'] = {'slots': 4, 'reserved': 4, 'fast_charge': True}\n",
        "\n",
        "print(\"\\n충전소 예약 현황:\")\n",
        "for station in charging_stations:\n",
        "    info = charging_stations[station]\n",
        "    available = info['slots'] - info['reserved']\n",
        "    charge_type = \"급속\" if info['fast_charge'] else \"완속\"\n",
        "    print(f\"{station}: {available}/{info['slots']} 이용가능 ({charge_type})\")\n"
      ],
      "metadata": {
        "id": "dhWmK22qFcs7",
        "outputId": "2aa9e653-80ea-4ff6-cfd4-ce4325bb7818",
        "colab": {
          "base_uri": "https://localhost:8080/"
        }
      },
      "execution_count": 13,
      "outputs": [
        {
          "output_type": "stream",
          "name": "stdout",
          "text": [
            "\n",
            "긴급 충전 필요:\n",
            "🔋 EV2: 25% - 즉시 충전 필요\n",
            "\n",
            "충전소 예약 현황:\n",
            "강남충전소: 3/5 이용가능 (급속)\n",
            "서초충전소: 2/3 이용가능 (완속)\n",
            "종로충전소: 0/4 이용가능 (급속)\n"
          ]
        }
      ]
    }
  ]
}