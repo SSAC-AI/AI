{
  "nbformat": 4,
  "nbformat_minor": 0,
  "metadata": {
    "colab": {
      "provenance": [],
      "authorship_tag": "ABX9TyNyTXHyqhwUjWixBrAY4HZL",
      "include_colab_link": true
    },
    "kernelspec": {
      "name": "python3",
      "display_name": "Python 3"
    },
    "language_info": {
      "name": "python"
    }
  },
  "cells": [
    {
      "cell_type": "markdown",
      "metadata": {
        "id": "view-in-github",
        "colab_type": "text"
      },
      "source": [
        "<a href=\"https://colab.research.google.com/github/SSAC-AI/AI/blob/main/0702_test.ipynb\" target=\"_parent\"><img src=\"https://colab.research.google.com/assets/colab-badge.svg\" alt=\"Open In Colab\"/></a>"
      ]
    },
    {
      "cell_type": "markdown",
      "source": [
        "활동1"
      ],
      "metadata": {
        "id": "gLJ1IyhzXH-1"
      }
    },
    {
      "cell_type": "code",
      "execution_count": null,
      "metadata": {
        "colab": {
          "base_uri": "https://localhost:8080/"
        },
        "id": "CWP2ezbOXBsI",
        "outputId": "7574056d-b289-4582-ef60-1c5302b3a6c8"
      },
      "outputs": [
        {
          "output_type": "stream",
          "name": "stdout",
          "text": [
            "{'앞': 15.0, '왼쪽': 15.0, '오른쪽': 15.0}\n"
          ]
        }
      ],
      "source": [
        "def init_sensors(): # 함수 시작\n",
        "    sensors = {\n",
        "        \"앞\": 15.0,\n",
        "        \"왼쪽\": 15.0,\n",
        "        \"오른쪽\": 15.0\n",
        "    } # 딕셔너리 생성\n",
        "\n",
        "    print(sensors) # 센서 딕셔너리 출력\n",
        "\n",
        "    return sensors # 센서 값 반환\n",
        "\n",
        "if __name__ == \"__main__\":\n",
        "    sensor_values = init_sensors() # 센서 딕셔너리 반환"
      ]
    },
    {
      "cell_type": "markdown",
      "source": [
        "활동2"
      ],
      "metadata": {
        "id": "T8YW1nmMYJNT"
      }
    },
    {
      "cell_type": "code",
      "source": [
        "def scan_front(x, y, obstacles, sensors): # 함수 시작\n",
        "  print(\"앞쪽 스캔 시작\")\n",
        "\n",
        "  if (x, y+1) in obstacles: # 조건 1 1칸 앞에 장애물 확인\n",
        "    print(\"앞쪽 1칸 장애물 발견\")\n",
        "    sensors[\"앞\"] = 1.0\n",
        "  elif (x, y+2) in obstacles: # 조건 2 2칸 앞에 장애물 확인\n",
        "    sensors[\"앞\"] = 2.0\n",
        "    print(\"앞쪽 2칸 장애물 발견\")\n",
        "  elif (x, y+3) in obstacles: # 조건 3 3칸 앞에 장애물 확인\n",
        "    sensors[\"앞\"] = 3.0\n",
        "    print(\"앞쪽 3칸 장애물 발견\")\n",
        "  else: # 장애물 없음\n",
        "    sensors[\"앞\"] = 15.0\n",
        "    print(\"앞쪽 장애물 없음\")\n",
        "\n",
        "print(\"앞쪽 스캔 완료\")"
      ],
      "metadata": {
        "colab": {
          "base_uri": "https://localhost:8080/"
        },
        "id": "H067dQ7YYKo9",
        "outputId": "51d071ab-65ec-452f-ba1b-e3dfd5e416d2"
      },
      "execution_count": null,
      "outputs": [
        {
          "output_type": "stream",
          "name": "stdout",
          "text": [
            "앞쪽 스캔 완료\n"
          ]
        }
      ]
    },
    {
      "cell_type": "markdown",
      "source": [
        "활동3"
      ],
      "metadata": {
        "id": "uanFr7xkgKyg"
      }
    },
    {
      "cell_type": "code",
      "source": [
        "def scan_left(x, y, obstacles, sensors): # 함수 시작\n",
        "  print(\"왼쪽 스캔 시작\")\n",
        "\n",
        "  if (x-1, y) in obstacles: # 조건 1 왼쪽 1칸에 장애물 확인\n",
        "    print(\"왼쪽 1칸 장애물 발견\")\n",
        "    sensors[\"왼쪽\"] = 1.0\n",
        "  elif (x-2, y) in obstacles: # 조건 2 왼쪽 2칸에 장애물 확인\n",
        "    sensors[\"왼쪽\"] = 2.0\n",
        "    print(\"왼쪽 2칸 장애물 발견\")\n",
        "  elif (x-3, y) in obstacles: # 조건 3 왼쪽 3칸에 장애물 확인\n",
        "    sensors[\"왼쪽\"] = 3.0\n",
        "    print(\"왼쪽 3칸 장애물 발견\")\n",
        "  else: # 장애물 없음\n",
        "    sensors[\"왼쪽\"] = 15.0\n",
        "    print(\"왼쪽 장애물 없음\")\n",
        "\n",
        "print(\"왼쪽 스캔 완료\")"
      ],
      "metadata": {
        "id": "yvQliMgIgKej"
      },
      "execution_count": null,
      "outputs": []
    },
    {
      "cell_type": "markdown",
      "source": [
        "활동4"
      ],
      "metadata": {
        "id": "zH-iwStwrBwy"
      }
    },
    {
      "cell_type": "code",
      "source": [
        "def scan_right(x, y, obstacles, sensors): # 함수 시작\n",
        "  print(\"오른쪽 스캔 시작\")\n",
        "\n",
        "  if (x+1, y) in obstacles: # 조건 1 오른쪽 1칸에 장애물 확인\n",
        "    print(\"오른쪽 1칸 장애물 발견\")\n",
        "    sensors[\"오른쪽\"] = 1.0\n",
        "  elif (x+2, y) in obstacles: # 조건 2 오른쪽 2칸에 장애물 확인\n",
        "    sensors[\"오른쪽\"] = 2.0\n",
        "    print(\"오른쪽 2칸 장애물 발견\")\n",
        "  elif (x+3, y) in obstacles: # 조건 3 오른쪽 3칸에 장애물 확인\n",
        "    sensors[\"오른쪽\"] = 3.0\n",
        "    print(\"오른쪽 3칸 장애물 발견\")\n",
        "  else: # 장애물 없음\n",
        "    sensors[\"오른쪽\"] = 15.0\n",
        "    print(\"오른쪽 장애물 없음\")\n",
        "\n",
        "print(\"오른쪽 스캔 완료\")"
      ],
      "metadata": {
        "colab": {
          "base_uri": "https://localhost:8080/"
        },
        "id": "VfNOl-FQqxSh",
        "outputId": "92a75fdb-ec60-441b-88c0-bd1d01b78721"
      },
      "execution_count": null,
      "outputs": [
        {
          "output_type": "stream",
          "name": "stdout",
          "text": [
            "오른쪽 스캔 완료\n"
          ]
        }
      ]
    },
    {
      "cell_type": "markdown",
      "source": [
        "활동5"
      ],
      "metadata": {
        "id": "ziG8RMw0ovz2"
      }
    },
    {
      "cell_type": "code",
      "source": [
        "def update_sensors(position, obstacles): # 함수 시작\n",
        "  print(\"함수 시작\")\n",
        "\n",
        "  x = position[x] # 위치 데이터 x 추출\n",
        "  y = position[y] # 위치 데이터 y 추출\n",
        "  print(\"위치 추출완료\")\n",
        "  print(\"현재 x, y값\", x, y)\n",
        "\n",
        "  sensors = init_sensors() # 센서 초기화 호출\n",
        "\n",
        "  sacn_front(x, y, obstacles, sensors) # 앞쪽 스캔 호출\n",
        "  sacn_left(x, y, obstacles, sensors) # 왼쪽 스캔 호출\n",
        "  sacn_right(x, y, obstacles, sensors) # 오른쪽 스캔 호출\n",
        "\n",
        "  print(\"센서 업데이트 완료\")\n",
        "  print(sensors) # 업데이트된 센서값 출력\n",
        "\n",
        "  return sensors # 센서 반환"
      ],
      "metadata": {
        "id": "xYeUOzElowCB"
      },
      "execution_count": null,
      "outputs": []
    },
    {
      "cell_type": "markdown",
      "source": [
        "활동6"
      ],
      "metadata": {
        "id": "u9XHLZHCu7HP"
      }
    },
    {
      "cell_type": "code",
      "source": [
        "def detect_obstacle(sensors, safe_distance): # 함수 시작\n",
        "  print(\"함수 시작\")\n",
        "\n",
        "  print(\"입력 데이터\", sensors, safe_distance) # 입력 데이터(sensors, safe_distance)출력\n",
        "\n",
        "  obstacles =[] # 빈 장애물 리스트\n",
        "\n",
        "  for direction, distance in sensors.items(): # 현재 방향과 거리를 체크하는 반복문\n",
        "    print(\"현재 방향과 거리 체크\")\n",
        "\n",
        "    if distance < safe_distance: # 예)safe_distance = 10 이면 distance < 10\n",
        "      obstacles.append(direction) # 장애물 리스트에 추가\n",
        "      print(\"위험! 목록에 추가\")\n",
        "\n",
        "    else:\n",
        "      print(\"안전\")\n",
        "\n",
        "  print(\"장애물 감지 완료\", obstacles) # 장애물 감지 후 장애물 리스트 출력\n",
        "\n",
        "  return obstacles # 반환"
      ],
      "metadata": {
        "id": "TeuIK4eeu8rc"
      },
      "execution_count": null,
      "outputs": []
    },
    {
      "cell_type": "markdown",
      "source": [
        "활동7"
      ],
      "metadata": {
        "id": "vSsPsBrnz_gx"
      }
    },
    {
      "cell_type": "code",
      "source": [
        "def decide_action(obstacles): # 함수 시작\n",
        "\n",
        "    print(\"장애물 정보 입력받음\", obstacles) # 장애물 리스트 정보 불러오기\n",
        "\n",
        "    if len(obstacles) == 0: # 리스트에 아무것도 없음(장애물 없음)\n",
        "        action = \"직진\"\n",
        "        print(\"장애물 없음\")\n",
        "\n",
        "    elif \"앞\" in obstacles: # 장애물 리스트에 \"앞\"이 있는지 확인\n",
        "        print(\"앞에 장애물 있음, 좌우 확인\")\n",
        "\n",
        "        if \"왼쪽\" not in obstacles: # 만약 리스트에 \"앞\"이 있지만 \"왼쪽\"이 없는 경우(왼쪽에는 장애물 없음)\n",
        "            action = \"좌회전\"\n",
        "            print(\"왼쪽 안전\")\n",
        "        elif \"오른쪽\" not in obstacles: # 만약 리스트에 \"앞\"이 있지만 \"오른쪽\"이 없는 경우(오른쪽에는 장애물 없음)\n",
        "            action = \"우회전\"\n",
        "            print(\"오른쪽 안전\")\n",
        "        else: # 장애물 리스트에 모든 방향이 포함되어있는 경우\n",
        "            action = \"정지\"\n",
        "            print(\"모든 방향 위험\")\n",
        "\n",
        "    else: # 앞에 장애물이 없는 경우\n",
        "        action = \"주의해서 직진\"\n",
        "        print(\"앞은 안전, 옆만 위험\")\n",
        "\n",
        "    print(\"행동 결정 완료:\", action) # 행동 결정완료\n",
        "    return action"
      ],
      "metadata": {
        "id": "LUV5n26f0A5i"
      },
      "execution_count": null,
      "outputs": []
    },
    {
      "cell_type": "markdown",
      "source": [
        "활동8"
      ],
      "metadata": {
        "id": "Rc0HauS46E7m"
      }
    },
    {
      "cell_type": "code",
      "source": [
        "class SimpleCar:\n",
        "  def __init__(self, name, x, y, safe_distance):\n",
        "    self.name = name\n",
        "    self.x = x\n",
        "    self.y = y\n",
        "    self.safe_distance = safe_distance\n",
        "\n",
        "  def move_forward(self):\n",
        "    self.y += 1\n",
        "    print(\"전진\")\n",
        "\n",
        "  def turn_left(self):\n",
        "    self.x -= 1\n",
        "    print(\"좌회전\")\n",
        "\n",
        "  def turn_right(self):\n",
        "    self.x += 1\n",
        "    print(\"우회전\")\n",
        "\n",
        "  def stop(self):\n",
        "    print(\"정지\")\n",
        "\n",
        "  def execute_action(self, action):\n",
        "    if action == \"직진\":\n",
        "      self.move_forward()\n",
        "    elif action == \"좌회전\":\n",
        "      self.turn_left()\n",
        "    elif action == \"우회전\":\n",
        "      self.turn_right()\n",
        "    elif action == \"정지\":\n",
        "      self.stop()\n",
        "    else:\n",
        "      print(\"잘못된 행동\")\n",
        "\n",
        "  def run_simulation()"
      ],
      "metadata": {
        "id": "FYCH3lyV6Hk4"
      },
      "execution_count": 2,
      "outputs": []
    }
  ]
}