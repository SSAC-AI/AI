{
  "nbformat": 4,
  "nbformat_minor": 0,
  "metadata": {
    "colab": {
      "provenance": [],
      "authorship_tag": "ABX9TyN1AWJEsF+xzhwTs5v0Jm9G",
      "include_colab_link": true
    },
    "kernelspec": {
      "name": "python3",
      "display_name": "Python 3"
    },
    "language_info": {
      "name": "python"
    }
  },
  "cells": [
    {
      "cell_type": "markdown",
      "metadata": {
        "id": "view-in-github",
        "colab_type": "text"
      },
      "source": [
        "<a href=\"https://colab.research.google.com/github/SSAC-AI/AI/blob/main/0625_def.ipynb\" target=\"_parent\"><img src=\"https://colab.research.google.com/assets/colab-badge.svg\" alt=\"Open In Colab\"/></a>"
      ]
    },
    {
      "cell_type": "markdown",
      "source": [
        "함수 만들기 및 호출"
      ],
      "metadata": {
        "id": "VEBKjoivoldj"
      }
    },
    {
      "cell_type": "code",
      "execution_count": null,
      "metadata": {
        "colab": {
          "base_uri": "https://localhost:8080/"
        },
        "id": "8CUeiHX_fXVc",
        "outputId": "228be335-6872-4fbc-8dab-a0c39b3bfb17"
      },
      "outputs": [
        {
          "output_type": "stream",
          "name": "stdout",
          "text": [
            "Hello from a function\n"
          ]
        }
      ],
      "source": [
        "def my_function():\n",
        "  print(\"Hello from a function\")\n",
        "\n",
        "my_function()"
      ]
    },
    {
      "cell_type": "markdown",
      "source": [
        "인수 지정"
      ],
      "metadata": {
        "id": "3iZ2UE0gona-"
      }
    },
    {
      "cell_type": "code",
      "source": [
        "def my_function(fname):\n",
        "  print(fname + \" Refsnes\")\n",
        "\n",
        "my_function(\"Emil\")\n",
        "my_function(\"Tobias\")\n",
        "my_function(\"Linus\")"
      ],
      "metadata": {
        "colab": {
          "base_uri": "https://localhost:8080/"
        },
        "id": "DcQPtZVJjXhB",
        "outputId": "f199819d-f36e-48d0-a869-c984b28259c4"
      },
      "execution_count": null,
      "outputs": [
        {
          "output_type": "stream",
          "name": "stdout",
          "text": [
            "Emil Refsnes\n",
            "Tobias Refsnes\n",
            "Linus Refsnes\n"
          ]
        }
      ]
    },
    {
      "cell_type": "markdown",
      "source": [
        "인수 추가하기"
      ],
      "metadata": {
        "id": "nCa_WzMZowDW"
      }
    },
    {
      "cell_type": "code",
      "source": [
        "def my_function(fname, lname):\n",
        "  print(fname + \" \" + lname)\n",
        "\n",
        "my_function(\"Emil\", \"Refsnes\")"
      ],
      "metadata": {
        "colab": {
          "base_uri": "https://localhost:8080/"
        },
        "id": "c_U-19DNja-R",
        "outputId": "2b185af7-aafb-49a6-d7cb-0933fcbbaa06"
      },
      "execution_count": null,
      "outputs": [
        {
          "output_type": "stream",
          "name": "stdout",
          "text": [
            "Emil Refsnes\n"
          ]
        }
      ]
    },
    {
      "cell_type": "markdown",
      "source": [
        "*arg(임의의 인수) 사용하기"
      ],
      "metadata": {
        "id": "PjmJhIsko3I-"
      }
    },
    {
      "cell_type": "code",
      "source": [
        "def my_function(*kids):\n",
        "  print(\"The youngest child is \" + kids[2])\n",
        "\n",
        "my_function(\"Emil\", \"Tobias\", \"Linus\")"
      ],
      "metadata": {
        "colab": {
          "base_uri": "https://localhost:8080/"
        },
        "id": "0HQZGmLJjel2",
        "outputId": "5eb4c78a-8528-4175-e42f-3d51da8958ac"
      },
      "execution_count": null,
      "outputs": [
        {
          "output_type": "stream",
          "name": "stdout",
          "text": [
            "The youngest child is Linus\n"
          ]
        }
      ]
    },
    {
      "cell_type": "markdown",
      "source": [
        "키워드 인수 사용하기"
      ],
      "metadata": {
        "id": "mBMEWpcfo9KF"
      }
    },
    {
      "cell_type": "code",
      "source": [
        "def my_function(child3, child2, child1):\n",
        "  print(\"The youngest child is \" + child3)\n",
        "\n",
        "my_function(child1 = \"Emil\", child2 = \"Tobias\", child3 = \"Linus\")"
      ],
      "metadata": {
        "colab": {
          "base_uri": "https://localhost:8080/"
        },
        "id": "yoalCY9Sjlf-",
        "outputId": "2688caee-76bf-4718-a8a0-b16b9bc6dfbd"
      },
      "execution_count": null,
      "outputs": [
        {
          "output_type": "stream",
          "name": "stdout",
          "text": [
            "The youngest child is Linus\n"
          ]
        }
      ]
    },
    {
      "cell_type": "markdown",
      "source": [
        "1. def을 사용한 자율주행 코드(이미지에서 차선을 감지하는 함수)"
      ],
      "metadata": {
        "id": "0v3CnDitq4Ds"
      }
    },
    {
      "cell_type": "code",
      "source": [
        "def detect_lane(image):\n",
        "    # 가상의 이미지에서 차선을 감지하는 함수\n",
        "    print(\"이미지에서 차선을 감지합니다.\")\n",
        "    lanes = [\"left_lane\", \"right_lane\"]\n",
        "    return lanes"
      ],
      "metadata": {
        "id": "0GK-8Sbtq-Bk"
      },
      "execution_count": null,
      "outputs": []
    },
    {
      "cell_type": "markdown",
      "source": [
        "2. def을 사용한 자율주행 코드(속도조절 함수)"
      ],
      "metadata": {
        "id": "Oig0M0-Cr-45"
      }
    },
    {
      "cell_type": "code",
      "source": [
        "def control_speed(current_speed, target_speed):\n",
        "    # 현재 속도와 목표 속도에 따라 가속 또는 감속\n",
        "    if current_speed < target_speed:\n",
        "        action = \"가속 중\"\n",
        "    elif current_speed > target_speed:\n",
        "        action = \"감속 중\"\n",
        "    else:\n",
        "        action = \"유지 중\"\n",
        "    print(f\"속도 제어: {action}\")\n",
        "    return action"
      ],
      "metadata": {
        "id": "2Ikf1G4Kr-mE"
      },
      "execution_count": null,
      "outputs": []
    },
    {
      "cell_type": "markdown",
      "source": [
        "3. def을 사용한 자율주행 코드(장애물 감지 함수)"
      ],
      "metadata": {
        "id": "7g23L0FLsJDG"
      }
    },
    {
      "cell_type": "code",
      "source": [
        "def detect_obstacle(sensor_data):\n",
        "    # 센서 데이터로부터 장애물 존재 여부 확인\n",
        "    if sensor_data < 5:  # 예: 5m 이내에 장애물이 있음\n",
        "        print(\"장애물 감지됨!\")\n",
        "        return True\n",
        "    else:\n",
        "        print(\"장애물 없음.\")\n",
        "        return False"
      ],
      "metadata": {
        "id": "sy_hNe92sIqZ"
      },
      "execution_count": null,
      "outputs": []
    },
    {
      "cell_type": "markdown",
      "source": [
        "4. def을 사용한 자율주행 코드(운전모드 설정 함수)"
      ],
      "metadata": {
        "id": "h-Ywh0dcsRtW"
      }
    },
    {
      "cell_type": "code",
      "source": [
        "def set_driving_mode(mode):\n",
        "    # 자율주행 또는 수동 운전 모드 설정\n",
        "    if mode == \"auto\":\n",
        "        print(\"자율주행 모드로 전환합니다.\")\n",
        "    else:\n",
        "        print(\"수동 운전 모드로 전환합니다.\")\n",
        "    return mode"
      ],
      "metadata": {
        "id": "Vrezr50ysRB5"
      },
      "execution_count": null,
      "outputs": []
    },
    {
      "cell_type": "markdown",
      "source": [
        "5. def을 사용한 자율주행 코드(회전방향 결정 함수)"
      ],
      "metadata": {
        "id": "FQRIKVICsbrv"
      }
    },
    {
      "cell_type": "code",
      "source": [
        "def decide_turn(steering_angle):\n",
        "    # 조향각에 따라 차량의 회전 방향 결정\n",
        "    if steering_angle > 10:\n",
        "        direction = \"우회전\"\n",
        "    elif steering_angle < -10:\n",
        "        direction = \"좌회전\"\n",
        "    else:\n",
        "        direction = \"직진\"\n",
        "    print(f\"차량은 {direction}합니다.\")\n",
        "    return direction"
      ],
      "metadata": {
        "id": "sB7tEWYgscAv"
      },
      "execution_count": null,
      "outputs": []
    }
  ]
}