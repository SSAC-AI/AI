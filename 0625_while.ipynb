{
  "nbformat": 4,
  "nbformat_minor": 0,
  "metadata": {
    "colab": {
      "provenance": [],
      "authorship_tag": "ABX9TyMdszzJdoaMlqE27aXKhggo",
      "include_colab_link": true
    },
    "kernelspec": {
      "name": "python3",
      "display_name": "Python 3"
    },
    "language_info": {
      "name": "python"
    }
  },
  "cells": [
    {
      "cell_type": "markdown",
      "metadata": {
        "id": "view-in-github",
        "colab_type": "text"
      },
      "source": [
        "<a href=\"https://colab.research.google.com/github/SSAC-AI/AI/blob/main/0625_while.ipynb\" target=\"_parent\"><img src=\"https://colab.research.google.com/assets/colab-badge.svg\" alt=\"Open In Colab\"/></a>"
      ]
    },
    {
      "cell_type": "markdown",
      "source": [
        "1. while 루프 문"
      ],
      "metadata": {
        "id": "MZ1dgd3E8iek"
      }
    },
    {
      "cell_type": "code",
      "source": [
        "i = 1\n",
        "while i < 6:\n",
        "  print(i)\n",
        "  i += 1"
      ],
      "metadata": {
        "colab": {
          "base_uri": "https://localhost:8080/"
        },
        "id": "nuB-ZGJl8iIe",
        "outputId": "e1dd5607-9266-4fa5-a6f4-096a245f3841"
      },
      "execution_count": 1,
      "outputs": [
        {
          "output_type": "stream",
          "name": "stdout",
          "text": [
            "1\n",
            "2\n",
            "3\n",
            "4\n",
            "5\n"
          ]
        }
      ]
    },
    {
      "cell_type": "markdown",
      "source": [
        "2. while문에서 break"
      ],
      "metadata": {
        "id": "yLdD_Tpg852-"
      }
    },
    {
      "cell_type": "code",
      "source": [
        "i = 1\n",
        "while i < 6:\n",
        "  print(i)\n",
        "  if i == 3:\n",
        "    break\n",
        "  i += 1"
      ],
      "metadata": {
        "colab": {
          "base_uri": "https://localhost:8080/"
        },
        "id": "RiDKNlLg8iGO",
        "outputId": "eaae9754-528d-4faf-e4e3-1bc88d801074"
      },
      "execution_count": 2,
      "outputs": [
        {
          "output_type": "stream",
          "name": "stdout",
          "text": [
            "1\n",
            "2\n",
            "3\n"
          ]
        }
      ]
    },
    {
      "cell_type": "markdown",
      "source": [
        "3. while문에서 contunue"
      ],
      "metadata": {
        "id": "3Qy0byuz9CPz"
      }
    },
    {
      "cell_type": "code",
      "execution_count": 3,
      "metadata": {
        "colab": {
          "base_uri": "https://localhost:8080/"
        },
        "id": "BF2ENKm38Yjp",
        "outputId": "74a7f52b-9635-4a65-b3e0-67cfb0612ebb"
      },
      "outputs": [
        {
          "output_type": "stream",
          "name": "stdout",
          "text": [
            "1\n",
            "2\n",
            "4\n",
            "5\n",
            "6\n"
          ]
        }
      ],
      "source": [
        "i = 0\n",
        "while i < 6:\n",
        "  i += 1\n",
        "  if i == 3:\n",
        "    continue\n",
        "  print(i)"
      ]
    },
    {
      "cell_type": "markdown",
      "source": [
        "4. while문에서 else"
      ],
      "metadata": {
        "id": "IC8WGQSy9ciM"
      }
    },
    {
      "cell_type": "code",
      "source": [
        "i = 1\n",
        "while i < 6:\n",
        "  print(i)\n",
        "  i += 1\n",
        "else:\n",
        "  print(\"i is no longer less than 6\")"
      ],
      "metadata": {
        "colab": {
          "base_uri": "https://localhost:8080/"
        },
        "id": "TJBSOTxz9cCg",
        "outputId": "16aef15b-c1c0-46cd-e98e-d3c505ebc3ec"
      },
      "execution_count": 4,
      "outputs": [
        {
          "output_type": "stream",
          "name": "stdout",
          "text": [
            "1\n",
            "2\n",
            "3\n",
            "4\n",
            "5\n",
            "i is no longer less than 6\n"
          ]
        }
      ]
    },
    {
      "cell_type": "markdown",
      "source": [
        "5. 자율주행관련 while문(장애물 감지)"
      ],
      "metadata": {
        "id": "RHiAgWVN95Z-"
      }
    },
    {
      "cell_type": "code",
      "source": [
        "obstacle_detected = False\n",
        "distance = 100\n",
        "\n",
        "while distance > 30:\n",
        "    print(f\"현재 거리: {distance}cm → 계속 주행\")\n",
        "    distance -= 10\n",
        "\n",
        "print(\"장애물 감지! 정지합니다.\")"
      ],
      "metadata": {
        "colab": {
          "base_uri": "https://localhost:8080/"
        },
        "id": "NBGqnnRG9cQ9",
        "outputId": "9025d534-3dd8-47e5-c8e0-76525766cbef"
      },
      "execution_count": 5,
      "outputs": [
        {
          "output_type": "stream",
          "name": "stdout",
          "text": [
            "현재 거리: 100cm → 계속 주행\n",
            "현재 거리: 90cm → 계속 주행\n",
            "현재 거리: 80cm → 계속 주행\n",
            "현재 거리: 70cm → 계속 주행\n",
            "현재 거리: 60cm → 계속 주행\n",
            "현재 거리: 50cm → 계속 주행\n",
            "현재 거리: 40cm → 계속 주행\n",
            "장애물 감지! 정지합니다.\n"
          ]
        }
      ]
    },
    {
      "cell_type": "markdown",
      "source": [
        "6. 자율주행관련 while문(신호등 감지)"
      ],
      "metadata": {
        "id": "DQ8QkLgz9_n1"
      }
    },
    {
      "cell_type": "code",
      "source": [
        "traffic_light = \"빨간불\"\n",
        "\n",
        "while traffic_light == \"빨간불\":\n",
        "    print(\"빨간불 → 정지 중...\")\n",
        "    # 신호 변경 시뮬레이션\n",
        "    traffic_light = \"초록불\"\n",
        "\n",
        "print(\"초록불 → 출발!\")"
      ],
      "metadata": {
        "colab": {
          "base_uri": "https://localhost:8080/"
        },
        "id": "e6tQEUUr94bV",
        "outputId": "b2871e1e-a54c-4f13-cee6-05f0797f691b"
      },
      "execution_count": 6,
      "outputs": [
        {
          "output_type": "stream",
          "name": "stdout",
          "text": [
            "빨간불 → 정지 중...\n",
            "초록불 → 출발!\n"
          ]
        }
      ]
    },
    {
      "cell_type": "markdown",
      "source": [
        "7. 자율주행관련 while문(일정 속도 도달)"
      ],
      "metadata": {
        "id": "Ob-hsCKj-Fzu"
      }
    },
    {
      "cell_type": "code",
      "source": [
        "speed = 0\n",
        "\n",
        "while speed < 60:\n",
        "    speed += 10\n",
        "    print(f\"가속 중... 현재 속도: {speed} km/h\")\n",
        "\n",
        "print(\"목표 속도 도달. 속도 유지 또는 정지 준비.\")"
      ],
      "metadata": {
        "colab": {
          "base_uri": "https://localhost:8080/"
        },
        "id": "k7GfjBdO-RFl",
        "outputId": "bbc5b812-a238-4e3e-9cdc-31e113d4d559"
      },
      "execution_count": 7,
      "outputs": [
        {
          "output_type": "stream",
          "name": "stdout",
          "text": [
            "가속 중... 현재 속도: 10 km/h\n",
            "가속 중... 현재 속도: 20 km/h\n",
            "가속 중... 현재 속도: 30 km/h\n",
            "가속 중... 현재 속도: 40 km/h\n",
            "가속 중... 현재 속도: 50 km/h\n",
            "가속 중... 현재 속도: 60 km/h\n",
            "목표 속도 도달. 속도 유지 또는 정지 준비.\n"
          ]
        }
      ]
    },
    {
      "cell_type": "markdown",
      "source": [
        "8. 자율주행관련 while문(차선 이탈 감지)"
      ],
      "metadata": {
        "id": "e2ewepGE-TFF"
      }
    },
    {
      "cell_type": "code",
      "source": [
        "lane_position = \"왼쪽\"\n",
        "\n",
        "while lane_position != \"중앙\":\n",
        "    print(f\"차선 이탈 감지: {lane_position} → 조향 보정 중...\")\n",
        "    lane_position = \"중앙\"  # 보정 완료 후 중앙 복귀\n",
        "\n",
        "print(\"차선 중앙 유지 중.\")"
      ],
      "metadata": {
        "colab": {
          "base_uri": "https://localhost:8080/"
        },
        "id": "iMLLy7Eh-TSc",
        "outputId": "76e7524b-fa65-4bcd-a370-c537114a2484"
      },
      "execution_count": 8,
      "outputs": [
        {
          "output_type": "stream",
          "name": "stdout",
          "text": [
            "차선 이탈 감지: 왼쪽 → 조향 보정 중...\n",
            "차선 중앙 유지 중.\n"
          ]
        }
      ]
    },
    {
      "cell_type": "markdown",
      "source": [
        "9. 자율주행관련 while문(도로 표지판 감지)"
      ],
      "metadata": {
        "id": "2HxEc3bw-pH-"
      }
    },
    {
      "cell_type": "code",
      "source": [
        "signs = [\"속도제한 30\", \"정지\", \"우회전\", \"속도제한 50\"]\n",
        "index = 0\n",
        "\n",
        "while index < len(signs):\n",
        "    sign = signs[index]\n",
        "\n",
        "    if \"속도제한\" in sign:\n",
        "        speed_limit = int(sign.split()[-1])\n",
        "        print(f\"도로 표지판: {sign} → 속도 {speed_limit}km/h로 조절\")\n",
        "    elif sign == \"정지\":\n",
        "        print(\"도로 표지판: 정지 → 차량 정지\")\n",
        "    elif sign == \"우회전\":\n",
        "        print(\"도로 표지판: 우회전 → 우회전 수행\")\n",
        "    else:\n",
        "        print(f\"알 수 없는 표지판: {sign}\")\n",
        "\n",
        "    index += 1"
      ],
      "metadata": {
        "colab": {
          "base_uri": "https://localhost:8080/"
        },
        "id": "FJnGyUAc-pW8",
        "outputId": "36e73ecf-ad2a-40c3-b3bc-c8cc9b78d4e5"
      },
      "execution_count": 9,
      "outputs": [
        {
          "output_type": "stream",
          "name": "stdout",
          "text": [
            "도로 표지판: 속도제한 30 → 속도 30km/h로 조절\n",
            "도로 표지판: 정지 → 차량 정지\n",
            "도로 표지판: 우회전 → 우회전 수행\n",
            "도로 표지판: 속도제한 50 → 속도 50km/h로 조절\n"
          ]
        }
      ]
    }
  ]
}