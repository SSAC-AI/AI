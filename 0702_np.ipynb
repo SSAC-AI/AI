{
  "nbformat": 4,
  "nbformat_minor": 0,
  "metadata": {
    "colab": {
      "provenance": [],
      "authorship_tag": "ABX9TyN9BJ4QJcr3lVqZoAyOybg6",
      "include_colab_link": true
    },
    "kernelspec": {
      "name": "python3",
      "display_name": "Python 3"
    },
    "language_info": {
      "name": "python"
    }
  },
  "cells": [
    {
      "cell_type": "markdown",
      "metadata": {
        "id": "view-in-github",
        "colab_type": "text"
      },
      "source": [
        "<a href=\"https://colab.research.google.com/github/SSAC-AI/AI/blob/main/0702_np.ipynb\" target=\"_parent\"><img src=\"https://colab.research.google.com/assets/colab-badge.svg\" alt=\"Open In Colab\"/></a>"
      ]
    },
    {
      "cell_type": "markdown",
      "source": [
        "1. NumPy배열 만들기"
      ],
      "metadata": {
        "id": "54ZI7YVD6J5_"
      }
    },
    {
      "cell_type": "code",
      "execution_count": null,
      "metadata": {
        "colab": {
          "base_uri": "https://localhost:8080/"
        },
        "id": "4D2Zis455rtz",
        "outputId": "d28999b7-b52b-4452-c87f-34c5579645c3"
      },
      "outputs": [
        {
          "output_type": "stream",
          "name": "stdout",
          "text": [
            "[1 2 3 4 5]\n",
            "<class 'numpy.ndarray'>\n"
          ]
        }
      ],
      "source": [
        "import numpy as np\n",
        "\n",
        "arr = np.array([1, 2, 3, 4, 5])\n",
        "print(arr)\n",
        "print(type(arr))"
      ]
    },
    {
      "cell_type": "markdown",
      "source": [
        "2. 배열 요소 가져오기"
      ],
      "metadata": {
        "id": "SP9CjEAh9s3O"
      }
    },
    {
      "cell_type": "code",
      "source": [
        "print(arr[0])\n",
        "print(arr[1])\n",
        "print(arr[2]+arr[3])"
      ],
      "metadata": {
        "colab": {
          "base_uri": "https://localhost:8080/"
        },
        "id": "qF5Gd67a9ygX",
        "outputId": "86b7d6d0-7b62-4aca-fab2-b76d3904c499"
      },
      "execution_count": null,
      "outputs": [
        {
          "output_type": "stream",
          "name": "stdout",
          "text": [
            "1\n",
            "2\n",
            "7\n"
          ]
        }
      ]
    },
    {
      "cell_type": "markdown",
      "source": [
        "3. 배열 요소 접근하기"
      ],
      "metadata": {
        "id": "aFsZ-r4K-HWJ"
      }
    },
    {
      "cell_type": "code",
      "source": [
        "arr = np.array([[1, 2, 3, 4, 5],[6, 7, 8, 9, 10]])\n",
        "print(arr[0,1]) # 1행 2열\n",
        "print(arr[1,4]) # 2행 5열"
      ],
      "metadata": {
        "colab": {
          "base_uri": "https://localhost:8080/"
        },
        "id": "56MXxSuF99Xk",
        "outputId": "78d5c991-041b-42f3-8b32-d25f28692ac0"
      },
      "execution_count": null,
      "outputs": [
        {
          "output_type": "stream",
          "name": "stdout",
          "text": [
            "2\n",
            "10\n"
          ]
        }
      ]
    },
    {
      "cell_type": "markdown",
      "source": [
        "4. 음수 인덱싱"
      ],
      "metadata": {
        "id": "rb_CSRQe_hnh"
      }
    },
    {
      "cell_type": "code",
      "source": [
        "arr = np.array([[1,2,3,4,5], [6,7,8,9,10]])\n",
        "\n",
        "print(arr[1, -1]) # 2번째 차원 마지막 요소 출력"
      ],
      "metadata": {
        "colab": {
          "base_uri": "https://localhost:8080/"
        },
        "id": "kumf8BFE_o9k",
        "outputId": "48dacb8a-9071-46a8-b4a7-77b737861b50"
      },
      "execution_count": null,
      "outputs": [
        {
          "output_type": "stream",
          "name": "stdout",
          "text": [
            "10\n"
          ]
        }
      ]
    },
    {
      "cell_type": "markdown",
      "source": [
        "5. 배열 슬라이스"
      ],
      "metadata": {
        "id": "A5Z4DEELArr4"
      }
    },
    {
      "cell_type": "code",
      "source": [
        "arr = np.array([1, 2, 3, 4, 5, 6, 7])\n",
        "\n",
        "print(arr[1:5]) # 인덱스 1~5까지\n",
        "print(arr[4:]) # 인덱스 4~끝까지\n",
        "print(arr[:4]) # 인덱스 처음부터 4까지\n",
        "print(arr[-3:-1]) # 끝에서 3번째부터 끝에서 1번째 까지\n",
        "print(arr[1:5:2]) # 인덱스 1~5까지 2칸씩 건너\n",
        "print(arr[::2]) # 처음부터 끝까지 2칸씩"
      ],
      "metadata": {
        "colab": {
          "base_uri": "https://localhost:8080/"
        },
        "id": "z7ysAI0BAt1x",
        "outputId": "ba6b151c-34e7-43d7-9d2e-51c3bc26398a"
      },
      "execution_count": null,
      "outputs": [
        {
          "output_type": "stream",
          "name": "stdout",
          "text": [
            "[2 3 4 5]\n",
            "[5 6 7]\n",
            "[1 2 3 4]\n",
            "[5 6]\n",
            "[2 4]\n",
            "[1 3 5 7]\n"
          ]
        }
      ]
    },
    {
      "cell_type": "markdown",
      "source": [
        "6. 2차원 배열 슬라이스"
      ],
      "metadata": {
        "id": "1mtE8CW6A98a"
      }
    },
    {
      "cell_type": "code",
      "source": [
        "arr = np.array([[1, 2, 3, 4, 5], [6, 7, 8, 9, 10]])\n",
        "\n",
        "print(arr[1, 1:4]) # 두번째 요소에서 인덱스 1부터 인덱스 4까지\n",
        "print(arr[0:2, 2]) # 첫번째와 두번째 요소에서 인덱스 2만\n",
        "print(arr[0:2, 1:4]) # 첫번째와 두번째 요소에서 인덱스 1부터 인덱스 4까지"
      ],
      "metadata": {
        "colab": {
          "base_uri": "https://localhost:8080/"
        },
        "id": "jKDmcKc3Bke-",
        "outputId": "bdeb11a9-c13c-41ee-f8f5-6adc35af3d1c"
      },
      "execution_count": null,
      "outputs": [
        {
          "output_type": "stream",
          "name": "stdout",
          "text": [
            "[7 8 9]\n",
            "[3 8]\n",
            "[[2 3 4]\n",
            " [7 8 9]]\n"
          ]
        }
      ]
    },
    {
      "cell_type": "markdown",
      "source": [
        "7. NumPy의 데이터 유형"
      ],
      "metadata": {
        "id": "kyEFirG2FrGN"
      }
    },
    {
      "cell_type": "code",
      "source": [
        "arr = np.array([1, 2, 3, 4])\n",
        "arr2 = np.array(['apple', 'banana', 'cherry'])\n",
        "\n",
        "print(arr.dtype)\n",
        "print(arr2.dtype)"
      ],
      "metadata": {
        "colab": {
          "base_uri": "https://localhost:8080/"
        },
        "id": "CMV9y82gGOJH",
        "outputId": "c2331a8a-1172-4de1-d572-09ab98f163db"
      },
      "execution_count": null,
      "outputs": [
        {
          "output_type": "stream",
          "name": "stdout",
          "text": [
            "int64\n",
            "<U6\n"
          ]
        }
      ]
    },
    {
      "cell_type": "markdown",
      "source": [
        "8. 정의된 데이터 유형으로 배열 만들기"
      ],
      "metadata": {
        "id": "JerRFPciGfxZ"
      }
    },
    {
      "cell_type": "code",
      "source": [
        "arr = np.array([1, 2, 3, 4], dtype='S')\n",
        "\n",
        "print(arr)\n",
        "print(arr.dtype)"
      ],
      "metadata": {
        "colab": {
          "base_uri": "https://localhost:8080/"
        },
        "id": "-vXkftSdGi-6",
        "outputId": "cc10e7bf-3ec2-439e-dd65-58a0057d22c4"
      },
      "execution_count": null,
      "outputs": [
        {
          "output_type": "stream",
          "name": "stdout",
          "text": [
            "[b'1' b'2' b'3' b'4']\n",
            "|S1\n"
          ]
        }
      ]
    },
    {
      "cell_type": "markdown",
      "source": [
        "9. 기존 배열의 데이터 유형 변환"
      ],
      "metadata": {
        "id": "OvYHzDXeHO6l"
      }
    },
    {
      "cell_type": "code",
      "source": [
        "arr = np.array([1.1, 2.1, 3.1])\n",
        "arr2 = np.array([1, 0, 3])\n",
        "\n",
        "newarr = arr.astype('i')\n",
        "\n",
        "newarr2 = arr.astype(int)\n",
        "\n",
        "newarr3 = arr2.astype(bool)\n",
        "\n",
        "print(newarr)\n",
        "print(newarr2)\n",
        "print(newarr3)\n",
        "print(newarr.dtype)\n",
        "print(newarr2.dtype)\n",
        "print(newarr3.dtype)"
      ],
      "metadata": {
        "colab": {
          "base_uri": "https://localhost:8080/"
        },
        "id": "221iD4RxHN8N",
        "outputId": "1ade7ef7-0ff0-4f6b-a908-f27db0899eaf"
      },
      "execution_count": null,
      "outputs": [
        {
          "output_type": "stream",
          "name": "stdout",
          "text": [
            "[1 2 3]\n",
            "[1 2 3]\n",
            "[ True False  True]\n",
            "int32\n",
            "int64\n",
            "bool\n"
          ]
        }
      ]
    },
    {
      "cell_type": "markdown",
      "source": [
        "10. copy 및 view"
      ],
      "metadata": {
        "id": "kOBUsemzH5Uj"
      }
    },
    {
      "cell_type": "code",
      "source": [
        "arr = np.array([1, 2, 3, 4, 5])\n",
        "x = arr.copy()\n",
        "y=arr.view()\n",
        "arr[0] = 42\n",
        "\n",
        "print(arr)\n",
        "print(x)\n",
        "print(y)"
      ],
      "metadata": {
        "colab": {
          "base_uri": "https://localhost:8080/"
        },
        "id": "lDnEjqZJILnZ",
        "outputId": "e7baf474-b579-4526-ee57-e11f2e30de34"
      },
      "execution_count": null,
      "outputs": [
        {
          "output_type": "stream",
          "name": "stdout",
          "text": [
            "[42  2  3  4  5]\n",
            "[1 2 3 4 5]\n",
            "[42  2  3  4  5]\n"
          ]
        }
      ]
    },
    {
      "cell_type": "markdown",
      "source": [
        "11. Array Shape"
      ],
      "metadata": {
        "id": "xC18L25YJL1E"
      }
    },
    {
      "cell_type": "code",
      "source": [
        "arr = np.array([[1, 2, 3, 4], [5, 6, 7, 8]])\n",
        "\n",
        "print(arr.shape)"
      ],
      "metadata": {
        "colab": {
          "base_uri": "https://localhost:8080/"
        },
        "id": "nTdi9SCAJPzH",
        "outputId": "533afd53-4461-4fd0-95fc-7e76a27e77e3"
      },
      "execution_count": null,
      "outputs": [
        {
          "output_type": "stream",
          "name": "stdout",
          "text": [
            "(2, 4)\n"
          ]
        }
      ]
    },
    {
      "cell_type": "markdown",
      "source": [
        "12. ndim"
      ],
      "metadata": {
        "id": "RTHnsFsdJc1m"
      }
    },
    {
      "cell_type": "code",
      "source": [
        "arr = np.array([1, 2, 3, 4], ndmin=5)\n",
        "\n",
        "print(arr)\n",
        "print('shape of array :', arr.shape)"
      ],
      "metadata": {
        "colab": {
          "base_uri": "https://localhost:8080/"
        },
        "id": "8gkqKUrUJfN-",
        "outputId": "1c50868f-0c76-44b9-b9fa-fcac1ba0d59c"
      },
      "execution_count": null,
      "outputs": [
        {
          "output_type": "stream",
          "name": "stdout",
          "text": [
            "[[[[[1 2 3 4]]]]]\n",
            "shape of array : (1, 1, 1, 1, 4)\n"
          ]
        }
      ]
    },
    {
      "cell_type": "markdown",
      "source": [
        "13. Reshaping"
      ],
      "metadata": {
        "id": "6BRysSnkJj9e"
      }
    },
    {
      "cell_type": "code",
      "source": [
        "arr = np.array([1, 2, 3, 4, 5, 6, 7, 8, 9, 10, 11, 12])\n",
        "\n",
        "newarr = arr.reshape(4, 3)\n",
        "\n",
        "print(newarr)"
      ],
      "metadata": {
        "colab": {
          "base_uri": "https://localhost:8080/"
        },
        "id": "Lo7QBQ7CJp80",
        "outputId": "4d2acef6-fdbf-4f64-cd34-bf64cb31fd9c"
      },
      "execution_count": null,
      "outputs": [
        {
          "output_type": "stream",
          "name": "stdout",
          "text": [
            "[[ 1  2  3]\n",
            " [ 4  5  6]\n",
            " [ 7  8  9]\n",
            " [10 11 12]]\n"
          ]
        }
      ]
    },
    {
      "cell_type": "markdown",
      "source": [
        "14. 배열의 평면화"
      ],
      "metadata": {
        "id": "8NA2Yy2GKO_8"
      }
    },
    {
      "cell_type": "code",
      "source": [
        "arr = np.array([[1, 2, 3], [4, 5, 6]])\n",
        "\n",
        "newarr = arr.reshape(-1)\n",
        "\n",
        "print(newarr)"
      ],
      "metadata": {
        "colab": {
          "base_uri": "https://localhost:8080/"
        },
        "id": "X9XLUexLKS1E",
        "outputId": "ec4e7e1c-a314-436c-ba8b-6bd010a967ec"
      },
      "execution_count": null,
      "outputs": [
        {
          "output_type": "stream",
          "name": "stdout",
          "text": [
            "[1 2 3 4 5 6]\n"
          ]
        }
      ]
    },
    {
      "cell_type": "markdown",
      "source": [
        "15. 배열의 반복"
      ],
      "metadata": {
        "id": "Qtwxkz2cKdza"
      }
    },
    {
      "cell_type": "code",
      "source": [
        "arr = np.array([1, 2, 3])\n",
        "\n",
        "for x in arr:\n",
        "  print(x)"
      ],
      "metadata": {
        "colab": {
          "base_uri": "https://localhost:8080/"
        },
        "id": "rjHb-fzWKfMc",
        "outputId": "ded71a0e-9e1a-45aa-e244-5178fcf08a37"
      },
      "execution_count": null,
      "outputs": [
        {
          "output_type": "stream",
          "name": "stdout",
          "text": [
            "1\n",
            "2\n",
            "3\n"
          ]
        }
      ]
    },
    {
      "cell_type": "markdown",
      "source": [
        "16. 배열 결합"
      ],
      "metadata": {
        "id": "feyXNW3pfPXY"
      }
    },
    {
      "cell_type": "code",
      "source": [
        "arr1 = np.array([1, 2, 3])\n",
        "\n",
        "arr2 = np.array([4, 5, 6])\n",
        "\n",
        "arr = np.concatenate((arr1, arr2))\n",
        "\n",
        "print(arr)"
      ],
      "metadata": {
        "colab": {
          "base_uri": "https://localhost:8080/"
        },
        "id": "cfvttRX0fRjh",
        "outputId": "40f94130-98c4-4b21-dac4-8a5af77d51ec"
      },
      "execution_count": null,
      "outputs": [
        {
          "output_type": "stream",
          "name": "stdout",
          "text": [
            "[1 2 3 4 5 6]\n"
          ]
        }
      ]
    },
    {
      "cell_type": "markdown",
      "source": [
        "17. stack함수를 이용한 결합"
      ],
      "metadata": {
        "id": "XsvQY2Y2fWRg"
      }
    },
    {
      "cell_type": "code",
      "source": [
        "arr = np.stack((arr1, arr2), axis=1)\n",
        "\n",
        "print(arr)"
      ],
      "metadata": {
        "colab": {
          "base_uri": "https://localhost:8080/"
        },
        "id": "P_VyoGqZfcXt",
        "outputId": "68c20d14-59e9-4734-e9e6-a61f41f974c8"
      },
      "execution_count": null,
      "outputs": [
        {
          "output_type": "stream",
          "name": "stdout",
          "text": [
            "[[1 4]\n",
            " [2 5]\n",
            " [3 6]]\n"
          ]
        }
      ]
    },
    {
      "cell_type": "markdown",
      "source": [
        "18. hstack"
      ],
      "metadata": {
        "id": "CrUDO-tHgIjk"
      }
    },
    {
      "cell_type": "code",
      "source": [
        "arr = np.hstack((arr1, arr2))\n",
        "\n",
        "print(arr)"
      ],
      "metadata": {
        "colab": {
          "base_uri": "https://localhost:8080/"
        },
        "id": "4HbQcAvYgKYj",
        "outputId": "1a7b358b-7812-47d9-b303-a3ceb77bce6b"
      },
      "execution_count": null,
      "outputs": [
        {
          "output_type": "stream",
          "name": "stdout",
          "text": [
            "[1 2 3 4 5 6]\n"
          ]
        }
      ]
    },
    {
      "cell_type": "markdown",
      "source": [
        "19. vstack"
      ],
      "metadata": {
        "id": "l1VhaFMFgQC2"
      }
    },
    {
      "cell_type": "code",
      "source": [
        "arr = np.vstack((arr1, arr2))\n",
        "\n",
        "print(arr)"
      ],
      "metadata": {
        "colab": {
          "base_uri": "https://localhost:8080/"
        },
        "id": "KYig5VdfgSoe",
        "outputId": "efb57752-c625-4081-c793-bb905b591e64"
      },
      "execution_count": null,
      "outputs": [
        {
          "output_type": "stream",
          "name": "stdout",
          "text": [
            "[[1 2 3]\n",
            " [4 5 6]]\n"
          ]
        }
      ]
    },
    {
      "cell_type": "markdown",
      "source": [
        "20. dstack"
      ],
      "metadata": {
        "id": "yw_eFStSgU8-"
      }
    },
    {
      "cell_type": "code",
      "source": [
        "arr = np.dstack((arr1, arr2))\n",
        "\n",
        "print(arr)"
      ],
      "metadata": {
        "colab": {
          "base_uri": "https://localhost:8080/"
        },
        "id": "tPRrmkg_gWIe",
        "outputId": "63fa5116-22e5-49ef-be62-9d526f1cd871"
      },
      "execution_count": null,
      "outputs": [
        {
          "output_type": "stream",
          "name": "stdout",
          "text": [
            "[[[1 4]\n",
            "  [2 5]\n",
            "  [3 6]]]\n"
          ]
        }
      ]
    },
    {
      "cell_type": "markdown",
      "source": [
        "21. 배열 분할"
      ],
      "metadata": {
        "id": "YDaKpb_agkvM"
      }
    },
    {
      "cell_type": "code",
      "source": [
        "arr = np.array([1, 2, 3, 4, 5, 6])\n",
        "\n",
        "newarr = np.array_split(arr, 3)\n",
        "\n",
        "print(newarr)"
      ],
      "metadata": {
        "colab": {
          "base_uri": "https://localhost:8080/"
        },
        "id": "0boWcbQ1gn12",
        "outputId": "bfeb5f07-c0bf-46a1-86f4-6b9f4efe5831"
      },
      "execution_count": null,
      "outputs": [
        {
          "output_type": "stream",
          "name": "stdout",
          "text": [
            "[array([1, 2]), array([3, 4]), array([5, 6])]\n"
          ]
        }
      ]
    },
    {
      "cell_type": "markdown",
      "source": [
        "21. 배열로 분할"
      ],
      "metadata": {
        "id": "tsVyiNa-hH0q"
      }
    },
    {
      "cell_type": "code",
      "source": [
        "arr = np.array([1, 2, 3, 4, 5, 6])\n",
        "\n",
        "newarr = np.array_split(arr, 3)\n",
        "\n",
        "print(newarr[0])\n",
        "print(newarr[1])\n",
        "print(newarr[2])"
      ],
      "metadata": {
        "colab": {
          "base_uri": "https://localhost:8080/"
        },
        "id": "9WqUxURzh9mJ",
        "outputId": "8a5dc3d8-f1be-48f1-b4e4-b7527c70dfd1"
      },
      "execution_count": null,
      "outputs": [
        {
          "output_type": "stream",
          "name": "stdout",
          "text": [
            "[1 2]\n",
            "[3 4]\n",
            "[5 6]\n"
          ]
        }
      ]
    },
    {
      "cell_type": "markdown",
      "source": [
        "22. 2차원 배열 분할"
      ],
      "metadata": {
        "id": "sQvmHIQNi8cd"
      }
    },
    {
      "cell_type": "code",
      "source": [
        "arr = np.array([[1, 2, 3], [4, 5, 6], [7, 8, 9], [10, 11, 12], [13, 14, 15], [16, 17, 18]])\n",
        "\n",
        "newarr = np.array_split(arr, 3, axis=1)\n",
        "\n",
        "print(newarr)"
      ],
      "metadata": {
        "colab": {
          "base_uri": "https://localhost:8080/"
        },
        "id": "gmS-MYD7i_s9",
        "outputId": "740766a1-b373-4996-fbb8-42e0c43b07dc"
      },
      "execution_count": null,
      "outputs": [
        {
          "output_type": "stream",
          "name": "stdout",
          "text": [
            "[array([[ 1],\n",
            "       [ 4],\n",
            "       [ 7],\n",
            "       [10],\n",
            "       [13],\n",
            "       [16]]), array([[ 2],\n",
            "       [ 5],\n",
            "       [ 8],\n",
            "       [11],\n",
            "       [14],\n",
            "       [17]]), array([[ 3],\n",
            "       [ 6],\n",
            "       [ 9],\n",
            "       [12],\n",
            "       [15],\n",
            "       [18]])]\n"
          ]
        }
      ]
    },
    {
      "cell_type": "markdown",
      "source": [
        "23. 배열 검색"
      ],
      "metadata": {
        "id": "WvkxVzv6lMxp"
      }
    },
    {
      "cell_type": "code",
      "source": [
        "arr = np.array([1, 2, 3, 4, 5, 4, 4])\n",
        "\n",
        "x = np.where(arr == 4)\n",
        "y = np.where(arr % 2 == 0)\n",
        "\n",
        "print(x)\n",
        "print(y)"
      ],
      "metadata": {
        "colab": {
          "base_uri": "https://localhost:8080/"
        },
        "id": "AkyOd4iblNxb",
        "outputId": "bddf40fd-336b-4fe6-88dc-2e60be47f4d7"
      },
      "execution_count": null,
      "outputs": [
        {
          "output_type": "stream",
          "name": "stdout",
          "text": [
            "(array([3, 5, 6]),)\n",
            "(array([1, 3, 5, 6]),)\n"
          ]
        }
      ]
    },
    {
      "cell_type": "markdown",
      "source": [
        "24. 검색 정렬"
      ],
      "metadata": {
        "id": "qiiLcoRklkGp"
      }
    },
    {
      "cell_type": "code",
      "source": [
        "arr = np.array([6, 7, 8, 9])\n",
        "\n",
        "x = np.searchsorted(arr, 7)\n",
        "\n",
        "print(x)"
      ],
      "metadata": {
        "colab": {
          "base_uri": "https://localhost:8080/"
        },
        "id": "34IvPYvCmYxT",
        "outputId": "0dcb668f-1a51-42b7-ab9c-deb8e1089352"
      },
      "execution_count": null,
      "outputs": [
        {
          "output_type": "stream",
          "name": "stdout",
          "text": [
            "1\n"
          ]
        }
      ]
    },
    {
      "cell_type": "markdown",
      "source": [
        "25. 오른쪽에서 검색 정렬"
      ],
      "metadata": {
        "id": "tjbWNdIfmeoq"
      }
    },
    {
      "cell_type": "code",
      "source": [
        "arr = np.array([6, 7, 8, 9])\n",
        "\n",
        "x = np.searchsorted(arr, 7, side='right')\n",
        "\n",
        "print(x)"
      ],
      "metadata": {
        "colab": {
          "base_uri": "https://localhost:8080/"
        },
        "id": "PeAAd2Zun5YI",
        "outputId": "b8433c1e-7bad-43c8-ab84-8c7814e461e9"
      },
      "execution_count": null,
      "outputs": [
        {
          "output_type": "stream",
          "name": "stdout",
          "text": [
            "2\n"
          ]
        }
      ]
    },
    {
      "cell_type": "markdown",
      "source": [
        "26. 여러값 정렬"
      ],
      "metadata": {
        "id": "kJ4Sp22Rn-Ns"
      }
    },
    {
      "cell_type": "code",
      "source": [
        "arr = np.array([1, 3, 5, 7])\n",
        "\n",
        "x = np.searchsorted(arr, [2, 4, 6])\n",
        "\n",
        "print(x)"
      ],
      "metadata": {
        "colab": {
          "base_uri": "https://localhost:8080/"
        },
        "id": "cwjfUxT6oBEd",
        "outputId": "b13f52f5-5cd4-4fa1-cc30-4fabda431d3b"
      },
      "execution_count": null,
      "outputs": [
        {
          "output_type": "stream",
          "name": "stdout",
          "text": [
            "[1 2 3]\n"
          ]
        }
      ]
    },
    {
      "cell_type": "markdown",
      "source": [
        "27. 배열 정렬"
      ],
      "metadata": {
        "id": "OMt-2OPtoVdy"
      }
    },
    {
      "cell_type": "code",
      "source": [
        "arr = np.array([3, 2, 0, 1])\n",
        "\n",
        "print(np.sort(arr))"
      ],
      "metadata": {
        "colab": {
          "base_uri": "https://localhost:8080/"
        },
        "id": "xkIL6Tc2oXZp",
        "outputId": "5a390644-f52a-4c7d-ce5d-a98ff26d4bae"
      },
      "execution_count": null,
      "outputs": [
        {
          "output_type": "stream",
          "name": "stdout",
          "text": [
            "[0 1 2 3]\n"
          ]
        }
      ]
    },
    {
      "cell_type": "markdown",
      "source": [
        "28. 2차원 배열 정렬"
      ],
      "metadata": {
        "id": "rY2gGJEYobOC"
      }
    },
    {
      "cell_type": "code",
      "source": [
        "arr = np.array([[3, 2, 4], [5, 0, 1]])\n",
        "\n",
        "print(np.sort(arr))"
      ],
      "metadata": {
        "colab": {
          "base_uri": "https://localhost:8080/"
        },
        "id": "hCjfKS1Pocxb",
        "outputId": "058bda3e-3e2c-4c71-a2b2-8bdebae43cf5"
      },
      "execution_count": null,
      "outputs": [
        {
          "output_type": "stream",
          "name": "stdout",
          "text": [
            "[[2 3 4]\n",
            " [0 1 5]]\n"
          ]
        }
      ]
    },
    {
      "cell_type": "markdown",
      "source": [
        "29. 배열 필터링"
      ],
      "metadata": {
        "id": "sdN4K37Yodsc"
      }
    },
    {
      "cell_type": "code",
      "source": [
        "arr = np.array([41, 42, 43, 44])\n",
        "\n",
        "x = [True, False, True, False]\n",
        "\n",
        "newarr = arr[x]\n",
        "\n",
        "print(newarr)"
      ],
      "metadata": {
        "colab": {
          "base_uri": "https://localhost:8080/"
        },
        "id": "h2B6nmVzpCDt",
        "outputId": "b3694736-826c-4fbb-8861-c8500079921c"
      },
      "execution_count": null,
      "outputs": [
        {
          "output_type": "stream",
          "name": "stdout",
          "text": [
            "[41 43]\n"
          ]
        }
      ]
    },
    {
      "cell_type": "markdown",
      "source": [
        "30. 필터 배열 생성"
      ],
      "metadata": {
        "id": "5vBuSII8pXOy"
      }
    },
    {
      "cell_type": "code",
      "source": [
        "arr = np.array([41, 42, 43 ,44])\n",
        "\n",
        "filter_arr = []\n",
        "\n",
        "for element in arr:\n",
        "  if element > 42:\n",
        "    filter_arr.append(True)\n",
        "  else:\n",
        "    filter_arr.append(False)\n",
        "\n",
        "newarr = arr[filter_arr]\n",
        "\n",
        "print(filter_arr)\n",
        "print(newarr)"
      ],
      "metadata": {
        "colab": {
          "base_uri": "https://localhost:8080/"
        },
        "id": "pIKjF-YWpaXN",
        "outputId": "bbbd5388-4fb3-4bd9-e7f4-658a13956453"
      },
      "execution_count": null,
      "outputs": [
        {
          "output_type": "stream",
          "name": "stdout",
          "text": [
            "[False, False, True, True]\n",
            "[43 44]\n"
          ]
        }
      ]
    },
    {
      "cell_type": "markdown",
      "source": [
        "31. 난수"
      ],
      "metadata": {
        "id": "7HLG5Opxr-gV"
      }
    },
    {
      "cell_type": "code",
      "source": [
        "from numpy import random\n",
        "\n",
        "x = random.randint(100)\n",
        "y = random.rand()\n",
        "z = random.randint(100, size=(5))\n",
        "\n",
        "print(x)\n",
        "print(y)\n",
        "print(z)"
      ],
      "metadata": {
        "colab": {
          "base_uri": "https://localhost:8080/"
        },
        "id": "ZBRfF5S7sD5d",
        "outputId": "36c28df7-9265-4511-c4f9-991d27e7bc2b"
      },
      "execution_count": null,
      "outputs": [
        {
          "output_type": "stream",
          "name": "stdout",
          "text": [
            "12\n",
            "0.6627988199659837\n",
            "[ 0 18 87 71 42]\n",
            "[[97 93 23 72 65]\n",
            " [56 79 46 39 52]\n",
            " [64  6 59  1 86]]\n"
          ]
        }
      ]
    },
    {
      "cell_type": "markdown",
      "source": [
        "32. 배열에서 난수생성"
      ],
      "metadata": {
        "id": "f3fRbwwetDLV"
      }
    },
    {
      "cell_type": "code",
      "source": [
        "x = random.choice([3, 5, 7, 9])\n",
        "y = random.choice([3, 5, 7, 9], size=(3, 5))\n",
        "\n",
        "print(x)\n",
        "print(y)"
      ],
      "metadata": {
        "colab": {
          "base_uri": "https://localhost:8080/"
        },
        "id": "Aq4HOUJztGDO",
        "outputId": "b97f8646-2b79-43be-b891-7ffb7feeb9a6"
      },
      "execution_count": null,
      "outputs": [
        {
          "output_type": "stream",
          "name": "stdout",
          "text": [
            "7\n",
            "[[7 9 7 3 3]\n",
            " [9 9 7 3 5]\n",
            " [9 5 7 5 3]]\n"
          ]
        }
      ]
    },
    {
      "cell_type": "markdown",
      "source": [
        "33. 데이터 분포"
      ],
      "metadata": {
        "id": "WzT71LTZwmc2"
      }
    },
    {
      "cell_type": "code",
      "source": [
        "x = random.choice([3, 5, 7, 9], p=[0.1, 0.3, 0.6, 0.0], size=(100))\n",
        "\n",
        "print(x)"
      ],
      "metadata": {
        "colab": {
          "base_uri": "https://localhost:8080/"
        },
        "id": "ldvCQUPZwpBL",
        "outputId": "1f7e79ab-4c45-4d4b-eff3-a3fc213003ea"
      },
      "execution_count": null,
      "outputs": [
        {
          "output_type": "stream",
          "name": "stdout",
          "text": [
            "[7 7 5 7 7 3 5 5 3 5 5 5 3 5 5 5 7 7 7 7 7 5 7 5 5 5 7 7 7 7 7 7 5 7 7 5 7\n",
            " 7 5 7 7 7 7 7 5 5 5 7 5 7 7 7 5 7 5 7 3 7 5 7 7 5 7 7 7 5 3 3 5 7 5 7 7 7\n",
            " 7 7 7 7 5 7 7 5 5 7 7 7 7 3 7 5 7 7 7 7 7 7 7 7 5 5]\n"
          ]
        }
      ]
    },
    {
      "cell_type": "markdown",
      "source": [
        "34. 무작위 순열"
      ],
      "metadata": {
        "id": "9YCzIOA5wqVQ"
      }
    },
    {
      "cell_type": "code",
      "source": [
        "arr = np.array([1, 2, 3, 4, 5])\n",
        "\n",
        "random.shuffle(arr)\n",
        "\n",
        "print(arr)"
      ],
      "metadata": {
        "colab": {
          "base_uri": "https://localhost:8080/"
        },
        "id": "ZkVMFR_hwtZC",
        "outputId": "94c1be44-e43a-475f-c3ee-586265a4d8fb"
      },
      "execution_count": null,
      "outputs": [
        {
          "output_type": "stream",
          "name": "stdout",
          "text": [
            "[2 1 4 5 3]\n"
          ]
        }
      ]
    },
    {
      "cell_type": "markdown",
      "source": [
        "35. 분포 시각화"
      ],
      "metadata": {
        "id": "IDC32ERdwxvL"
      }
    },
    {
      "cell_type": "code",
      "source": [
        "import matplotlib.pyplot as plt\n",
        "import seaborn as sns\n",
        "\n",
        "sns.displot([0, 1, 2, 3, 4, 5])\n",
        "\n",
        "plt.show()"
      ],
      "metadata": {
        "colab": {
          "base_uri": "https://localhost:8080/",
          "height": 506
        },
        "id": "DSRWrT_UwzfU",
        "outputId": "7aa4ba95-b80f-4a53-b176-841479cc0d87"
      },
      "execution_count": null,
      "outputs": [
        {
          "output_type": "display_data",
          "data": {
            "text/plain": [
              "<Figure size 500x500 with 1 Axes>"
            ],
            "image/png": "[encoded data removed]"
          },
          "metadata": {}
        }
      ]
    },
    {
      "cell_type": "markdown",
      "source": [
        "36. 정규 분포"
      ],
      "metadata": {
        "id": "e8V0hOklxAV_"
      }
    },
    {
      "cell_type": "code",
      "source": [
        "sns.displot(random.normal(size=1000), kind=\"kde\")\n",
        "\n",
        "plt.show()"
      ],
      "metadata": {
        "colab": {
          "base_uri": "https://localhost:8080/",
          "height": 506
        },
        "id": "Oz5nohLfxBxA",
        "outputId": "b68d6483-2fe7-4596-9a85-80093b2f726a"
      },
      "execution_count": null,
      "outputs": [
        {
          "output_type": "display_data",
          "data": {
            "text/plain": [
              "<Figure size 500x500 with 1 Axes>"
            ],
            "image/png": "[encoded data removed]"
          },
          "metadata": {}
        }
      ]
    },
    {
      "cell_type": "markdown",
      "source": [
        "37. 이항분포"
      ],
      "metadata": {
        "id": "F11AJpDnxIaT"
      }
    },
    {
      "cell_type": "code",
      "source": [
        "sns.displot(random.binomial(n=10, p=0.5, size=1000))\n",
        "\n",
        "plt.show()"
      ],
      "metadata": {
        "colab": {
          "base_uri": "https://localhost:8080/",
          "height": 506
        },
        "id": "nn7-NA7cxKM9",
        "outputId": "0061c7b2-d805-48a2-8720-a02a2c837985"
      },
      "execution_count": null,
      "outputs": [
        {
          "output_type": "display_data",
          "data": {
            "text/plain": [
              "<Figure size 500x500 with 1 Axes>"
            ],
            "image/png": "[encoded data removed]"
          },
          "metadata": {}
        }
      ]
    },
    {
      "cell_type": "markdown",
      "source": [
        "38. 정규분포와 이항분포 차이점"
      ],
      "metadata": {
        "id": "zPOJ9-sqxPGd"
      }
    },
    {
      "cell_type": "code",
      "source": [
        "data = {\n",
        "  \"normal\": random.normal(loc=50, scale=5, size=1000),\n",
        "  \"binomial\": random.binomial(n=100, p=0.5, size=1000)\n",
        "}\n",
        "\n",
        "sns.displot(data, kind=\"kde\")\n",
        "\n",
        "plt.show()"
      ],
      "metadata": {
        "colab": {
          "base_uri": "https://localhost:8080/",
          "height": 506
        },
        "id": "PQSBjPhJxTMF",
        "outputId": "37fe8612-bebf-4530-b097-b64ec31c59bf"
      },
      "execution_count": null,
      "outputs": [
        {
          "output_type": "display_data",
          "data": {
            "text/plain": [
              "<Figure size 609.875x500 with 1 Axes>"
            ],
            "image/png": "[encoded data removed]"
          },
          "metadata": {}
        }
      ]
    },
    {
      "cell_type": "markdown",
      "source": [
        "39. 푸아송 분포"
      ],
      "metadata": {
        "id": "9SahEBbqxWes"
      }
    },
    {
      "cell_type": "code",
      "source": [
        "sns.displot(random.poisson(lam=2, size=1000))\n",
        "\n",
        "plt.show()"
      ],
      "metadata": {
        "colab": {
          "base_uri": "https://localhost:8080/",
          "height": 506
        },
        "id": "2v7r3v6oxZfq",
        "outputId": "49222617-3665-4b4d-95ee-1da841eaaf6c"
      },
      "execution_count": null,
      "outputs": [
        {
          "output_type": "display_data",
          "data": {
            "text/plain": [
              "<Figure size 500x500 with 1 Axes>"
            ],
            "image/png": "[encoded data removed]"
          },
          "metadata": {}
        }
      ]
    },
    {
      "cell_type": "markdown",
      "source": [
        "40. 정규분포와 푸아송 분포 차이점"
      ],
      "metadata": {
        "id": "aaW-SDvuxkA_"
      }
    },
    {
      "cell_type": "code",
      "source": [
        "data = {\n",
        "  \"normal\": random.normal(loc=50, scale=7, size=1000),\n",
        "  \"poisson\": random.poisson(lam=50, size=1000)\n",
        "}\n",
        "\n",
        "sns.displot(data, kind=\"kde\")\n",
        "\n",
        "plt.show()"
      ],
      "metadata": {
        "colab": {
          "base_uri": "https://localhost:8080/",
          "height": 506
        },
        "id": "2HBiHYbJxndk",
        "outputId": "e0029b93-aca3-4b10-ca90-c7bc6f27bc6c"
      },
      "execution_count": null,
      "outputs": [
        {
          "output_type": "display_data",
          "data": {
            "text/plain": [
              "<Figure size 602.75x500 with 1 Axes>"
            ],
            "image/png": "[encoded data removed]"
          },
          "metadata": {}
        }
      ]
    },
    {
      "cell_type": "markdown",
      "source": [
        "41. 이항분포와 푸아송 분포 차이점"
      ],
      "metadata": {
        "id": "9YaLbRwNxowS"
      }
    },
    {
      "cell_type": "code",
      "source": [
        "data = {\n",
        "  \"binomial\": random.binomial(n=1000, p=0.01, size=1000),\n",
        "  \"poisson\": random.poisson(lam=10, size=1000)\n",
        "}\n",
        "\n",
        "sns.displot(data, kind=\"kde\")\n",
        "\n",
        "plt.show()"
      ],
      "metadata": {
        "colab": {
          "base_uri": "https://localhost:8080/",
          "height": 507
        },
        "id": "7hX-1iojxsTE",
        "outputId": "13b69e94-6aa3-48ba-fa44-1ad6b84f6601"
      },
      "execution_count": null,
      "outputs": [
        {
          "output_type": "display_data",
          "data": {
            "text/plain": [
              "<Figure size 609.875x500 with 1 Axes>"
            ],
            "image/png": "[encoded data removed]"
          },
          "metadata": {}
        }
      ]
    },
    {
      "cell_type": "markdown",
      "source": [
        "42. 균일분포"
      ],
      "metadata": {
        "id": "-qp463pXxtG2"
      }
    },
    {
      "cell_type": "code",
      "source": [
        "sns.displot(random.uniform(size=1000), kind=\"kde\")\n",
        "\n",
        "plt.show()"
      ],
      "metadata": {
        "colab": {
          "base_uri": "https://localhost:8080/",
          "height": 506
        },
        "id": "mPR39KF8xwOw",
        "outputId": "c1e036df-809a-4b39-d89a-9844f4f1f0ad"
      },
      "execution_count": null,
      "outputs": [
        {
          "output_type": "display_data",
          "data": {
            "text/plain": [
              "<Figure size 500x500 with 1 Axes>"
            ],
            "image/png": "[encoded data removed]"
          },
          "metadata": {}
        }
      ]
    },
    {
      "cell_type": "markdown",
      "source": [
        "43. 로지스틱 분포"
      ],
      "metadata": {
        "id": "OHGoJSiExxxZ"
      }
    },
    {
      "cell_type": "code",
      "source": [
        "sns.displot(random.logistic(size=1000), kind=\"kde\")\n",
        "\n",
        "plt.show()"
      ],
      "metadata": {
        "colab": {
          "base_uri": "https://localhost:8080/",
          "height": 506
        },
        "id": "Y2aQ_pKjxzGe",
        "outputId": "308265fc-0fa5-40fd-a150-7f232a56b3a0"
      },
      "execution_count": null,
      "outputs": [
        {
          "output_type": "display_data",
          "data": {
            "text/plain": [
              "<Figure size 500x500 with 1 Axes>"
            ],
            "image/png": "[encoded data removed]"
          },
          "metadata": {}
        }
      ]
    },
    {
      "cell_type": "markdown",
      "source": [
        "44. 다항 분포"
      ],
      "metadata": {
        "id": "6ftONcX2x-2f"
      }
    },
    {
      "cell_type": "code",
      "source": [
        "x = random.multinomial(n=6, pvals=[1/6, 1/6, 1/6, 1/6, 1/6, 1/6])\n",
        "\n",
        "print(x)"
      ],
      "metadata": {
        "colab": {
          "base_uri": "https://localhost:8080/"
        },
        "id": "DFJpAKrUyCDR",
        "outputId": "67561c43-39bd-41e5-ef42-2dcc190d48ac"
      },
      "execution_count": null,
      "outputs": [
        {
          "output_type": "stream",
          "name": "stdout",
          "text": [
            "[1 1 0 0 3 1]\n"
          ]
        }
      ]
    },
    {
      "cell_type": "markdown",
      "source": [
        "45. 지수 분포"
      ],
      "metadata": {
        "id": "uaona1ZyyGBP"
      }
    },
    {
      "cell_type": "code",
      "source": [
        "sns.displot(random.exponential(size=1000), kind=\"kde\")\n",
        "\n",
        "plt.show()"
      ],
      "metadata": {
        "colab": {
          "base_uri": "https://localhost:8080/",
          "height": 506
        },
        "id": "_MtbIDn3yIf_",
        "outputId": "06eb2811-4143-4fdb-8c29-7d688b265f93"
      },
      "execution_count": null,
      "outputs": [
        {
          "output_type": "display_data",
          "data": {
            "text/plain": [
              "<Figure size 500x500 with 1 Axes>"
            ],
            "image/png": "[encoded data removed]"
          },
          "metadata": {}
        }
      ]
    },
    {
      "cell_type": "markdown",
      "source": [
        "46. 카이 제곱 분포"
      ],
      "metadata": {
        "id": "RGGEuwbTyLeo"
      }
    },
    {
      "cell_type": "code",
      "source": [
        "sns.displot(random.chisquare(df=1, size=1000), kind=\"kde\")\n",
        "\n",
        "plt.show()"
      ],
      "metadata": {
        "colab": {
          "base_uri": "https://localhost:8080/",
          "height": 506
        },
        "id": "7q4gKuZDyNmk",
        "outputId": "c989e840-4c9d-4c54-ad5f-edf4ccb3b8a5"
      },
      "execution_count": null,
      "outputs": [
        {
          "output_type": "display_data",
          "data": {
            "text/plain": [
              "<Figure size 500x500 with 1 Axes>"
            ],
            "image/png": "[encoded data removed]"
          },
          "metadata": {}
        }
      ]
    },
    {
      "cell_type": "markdown",
      "source": [
        "47. 레이리 분포"
      ],
      "metadata": {
        "id": "fObhMhaPyQGB"
      }
    },
    {
      "cell_type": "code",
      "source": [
        "sns.displot(random.rayleigh(size=1000), kind=\"kde\")\n",
        "\n",
        "plt.show()"
      ],
      "metadata": {
        "colab": {
          "base_uri": "https://localhost:8080/",
          "height": 506
        },
        "id": "fMjdYFRryRz-",
        "outputId": "d546918e-6f5d-44ae-d243-c671a517d232"
      },
      "execution_count": null,
      "outputs": [
        {
          "output_type": "display_data",
          "data": {
            "text/plain": [
              "<Figure size 500x500 with 1 Axes>"
            ],
            "image/png": "[encoded data removed]"
          },
          "metadata": {}
        }
      ]
    },
    {
      "cell_type": "markdown",
      "source": [
        "48. 파레토 분포"
      ],
      "metadata": {
        "id": "KdZH6TolyUf4"
      }
    },
    {
      "cell_type": "code",
      "source": [
        "sns.displot(random.pareto(a=2, size=1000))\n",
        "\n",
        "plt.show()"
      ],
      "metadata": {
        "colab": {
          "base_uri": "https://localhost:8080/",
          "height": 507
        },
        "id": "PKY_lP9hyX6x",
        "outputId": "6246d886-360b-4d4b-a45e-836b584da6e6"
      },
      "execution_count": null,
      "outputs": [
        {
          "output_type": "display_data",
          "data": {
            "text/plain": [
              "<Figure size 500x500 with 1 Axes>"
            ],
            "image/png": "[encoded data removed]"
          },
          "metadata": {}
        }
      ]
    },
    {
      "cell_type": "markdown",
      "source": [
        "49. 지프 분포"
      ],
      "metadata": {
        "id": "ncJ7qPX8yZMw"
      }
    },
    {
      "cell_type": "code",
      "source": [
        "x = random.zipf(a=2, size=1000)\n",
        "sns.displot(x[x<10])\n",
        "\n",
        "plt.show()"
      ],
      "metadata": {
        "colab": {
          "base_uri": "https://localhost:8080/",
          "height": 506
        },
        "id": "HbrIFZ6Aybu_",
        "outputId": "3b62475e-3d04-4ab5-ca18-c8caf10ac8eb"
      },
      "execution_count": null,
      "outputs": [
        {
          "output_type": "display_data",
          "data": {
            "text/plain": [
              "<Figure size 500x500 with 1 Axes>"
            ],
            "image/png": "[encoded data removed]"
          },
          "metadata": {}
        }
      ]
    },
    {
      "cell_type": "markdown",
      "source": [
        "50. ufunc"
      ],
      "metadata": {
        "id": "JRdrObezydla"
      }
    },
    {
      "cell_type": "code",
      "source": [
        "def myadd(x, y):\n",
        "  return x+y\n",
        "\n",
        "myadd = np.frompyfunc(myadd, 2, 1)\n",
        "\n",
        "print(myadd([1, 2, 3, 4], [5, 6, 7, 8]))"
      ],
      "metadata": {
        "colab": {
          "base_uri": "https://localhost:8080/"
        },
        "id": "_wSS35Rn1wdq",
        "outputId": "a766263a-2680-4c07-9a13-067e78078041"
      },
      "execution_count": null,
      "outputs": [
        {
          "output_type": "stream",
          "name": "stdout",
          "text": [
            "[6 8 10 12]\n"
          ]
        }
      ]
    },
    {
      "cell_type": "markdown",
      "source": [
        "51. 간단한 산술"
      ],
      "metadata": {
        "id": "g_dh5uDk15Fe"
      }
    },
    {
      "cell_type": "code",
      "source": [
        "arr1 = np.array([10, 11, 12, 13, 14, 15])\n",
        "arr2 = np.array([20, 21, 22, 23, 24, 25])\n",
        "\n",
        "newarr = np.add(arr1, arr2) # 더하기\n",
        "newarr2 = np.subtract(arr1, arr2) # 빼기\n",
        "newarr3 = np.multiply(arr1, arr2) # 곱하기\n",
        "newarr4 = np.divide(arr1, arr2) # 나누기\n",
        "newarr5 = np.power(arr1, arr2) # 거듭제곱\n",
        "newarr6 = np.mod(arr1, arr2) # 나머지\n",
        "newarr7 = np.remainder(arr1, arr2) # 나머지와 동일\n",
        "newarr8 = np.divmod(arr1, arr2) # 몫과 나머지\n",
        "newarr9 = np.absolute(arr1) # 절대값\n",
        "\n",
        "print(newarr)\n",
        "print(newarr2)\n",
        "print(newarr3)\n",
        "print(newarr4)\n",
        "print(newarr5)\n",
        "print(newarr6)\n",
        "print(newarr7)\n",
        "print(newarr8)\n",
        "print(newarr9)"
      ],
      "metadata": {
        "colab": {
          "base_uri": "https://localhost:8080/"
        },
        "id": "kDq8chm-18sX",
        "outputId": "d527dedf-b87e-4095-c1b1-1abf978261c5"
      },
      "execution_count": null,
      "outputs": [
        {
          "output_type": "stream",
          "name": "stdout",
          "text": [
            "[30 32 34 36 38 40]\n",
            "[-10 -10 -10 -10 -10 -10]\n",
            "[200 231 264 299 336 375]\n",
            "[0.5        0.52380952 0.54545455 0.56521739 0.58333333 0.6       ]\n",
            "[ 7766279631452241920  3105570700629903195  5729018530666381312\n",
            " -4649523274362944347 -1849127232522420224  1824414961309619599]\n",
            "[10 11 12 13 14 15]\n",
            "[10 11 12 13 14 15]\n",
            "(array([0, 0, 0, 0, 0, 0]), array([10, 11, 12, 13, 14, 15]))\n",
            "[10 11 12 13 14 15]\n"
          ]
        }
      ]
    },
    {
      "cell_type": "markdown",
      "source": [
        "52. 소수점 반올림"
      ],
      "metadata": {
        "id": "LMaQ3NYY8-ll"
      }
    },
    {
      "cell_type": "code",
      "source": [
        "arr = np.around(3.1666, 2)\n",
        "\n",
        "print(arr)"
      ],
      "metadata": {
        "colab": {
          "base_uri": "https://localhost:8080/"
        },
        "id": "fBL7xUqN8-1L",
        "outputId": "f927ef15-328a-42c7-f76e-0f6f700c3eed"
      },
      "execution_count": null,
      "outputs": [
        {
          "output_type": "stream",
          "name": "stdout",
          "text": [
            "3.17\n"
          ]
        }
      ]
    },
    {
      "cell_type": "markdown",
      "source": [
        "52. 로그"
      ],
      "metadata": {
        "id": "eB5JRmpy9JoP"
      }
    },
    {
      "cell_type": "code",
      "source": [
        "arr = np.arange(1, 10)\n",
        "\n",
        "print(np.log2(arr))"
      ],
      "metadata": {
        "colab": {
          "base_uri": "https://localhost:8080/"
        },
        "id": "3q6xXqb09J2h",
        "outputId": "982830e0-4b56-4990-ca69-97bb18dd9181"
      },
      "execution_count": null,
      "outputs": [
        {
          "output_type": "stream",
          "name": "stdout",
          "text": [
            "[0.         1.         1.5849625  2.         2.32192809 2.5849625\n",
            " 2.80735492 3.         3.169925  ]\n"
          ]
        }
      ]
    },
    {
      "cell_type": "markdown",
      "source": [
        "53. Products"
      ],
      "metadata": {
        "id": "dwb3SnbSuX_o"
      }
    },
    {
      "cell_type": "code",
      "source": [
        "arr = np.array([1, 2, 3, 4])\n",
        "\n",
        "x = np.prod(arr)\n",
        "\n",
        "print(x)"
      ],
      "metadata": {
        "colab": {
          "base_uri": "https://localhost:8080/"
        },
        "id": "b1BVgiwHunZc",
        "outputId": "a30abb5e-2f65-48a5-f85e-5e112f200dc8"
      },
      "execution_count": null,
      "outputs": [
        {
          "output_type": "stream",
          "name": "stdout",
          "text": [
            "24\n"
          ]
        }
      ]
    },
    {
      "cell_type": "markdown",
      "source": [
        "54. Differences"
      ],
      "metadata": {
        "id": "wtsNvT0Eu0Vr"
      }
    },
    {
      "cell_type": "code",
      "source": [
        "arr = np.array([10, 15, 25, 5])\n",
        "\n",
        "newarr = np.diff(arr)\n",
        "\n",
        "print(newarr)"
      ],
      "metadata": {
        "colab": {
          "base_uri": "https://localhost:8080/"
        },
        "id": "ZrLqrU7Nu6es",
        "outputId": "9e640add-e78c-4bcb-f1a6-9ab8cbc8e6a8"
      },
      "execution_count": null,
      "outputs": [
        {
          "output_type": "stream",
          "name": "stdout",
          "text": [
            "[  5  10 -20]\n"
          ]
        }
      ]
    },
    {
      "cell_type": "markdown",
      "source": [
        "55. LCM 최소공배수"
      ],
      "metadata": {
        "id": "WyL7ASYXu86R"
      }
    },
    {
      "cell_type": "code",
      "source": [
        "num1 = 4\n",
        "num2 = 6\n",
        "\n",
        "x = np.lcm(num1, num2)\n",
        "\n",
        "print(x)"
      ],
      "metadata": {
        "colab": {
          "base_uri": "https://localhost:8080/"
        },
        "id": "EJH0XGZ7vOXe",
        "outputId": "392210bb-2ab4-4f2c-9a83-c4f85ae6244b"
      },
      "execution_count": null,
      "outputs": [
        {
          "output_type": "stream",
          "name": "stdout",
          "text": [
            "12\n"
          ]
        }
      ]
    },
    {
      "cell_type": "markdown",
      "source": [
        "56. 최대 공약수"
      ],
      "metadata": {
        "id": "Ub1sfZ4ivRvX"
      }
    },
    {
      "cell_type": "code",
      "source": [
        "num1 = 6\n",
        "num2 = 9\n",
        "\n",
        "x = np.gcd(num1, num2)\n",
        "\n",
        "print(x)"
      ],
      "metadata": {
        "colab": {
          "base_uri": "https://localhost:8080/"
        },
        "id": "tt0xR1XKvTU9",
        "outputId": "9707851e-05c3-41b5-b5ac-7ebad55a8aeb"
      },
      "execution_count": null,
      "outputs": [
        {
          "output_type": "stream",
          "name": "stdout",
          "text": [
            "3\n"
          ]
        }
      ]
    },
    {
      "cell_type": "markdown",
      "source": [
        "57. 삼각함수"
      ],
      "metadata": {
        "id": "2RKF0yapvU5Z"
      }
    },
    {
      "cell_type": "code",
      "source": [
        "x = np.sin(np.pi/2)\n",
        "\n",
        "print(x)"
      ],
      "metadata": {
        "colab": {
          "base_uri": "https://localhost:8080/"
        },
        "id": "_RV80_91vYhG",
        "outputId": "74011438-2682-4af2-9236-97a22bb6b992"
      },
      "execution_count": null,
      "outputs": [
        {
          "output_type": "stream",
          "name": "stdout",
          "text": [
            "1.0\n"
          ]
        }
      ]
    },
    {
      "cell_type": "markdown",
      "source": [
        "58. 쌍곡선 함수"
      ],
      "metadata": {
        "id": "kF0UdzJYvaYp"
      }
    },
    {
      "cell_type": "code",
      "source": [
        "x = np.sinh(np.pi/2)\n",
        "\n",
        "print(x)"
      ],
      "metadata": {
        "colab": {
          "base_uri": "https://localhost:8080/"
        },
        "id": "tTff0qu3veg2",
        "outputId": "2ad8784e-4afd-4cf2-d0df-37fec0dc54ab"
      },
      "execution_count": null,
      "outputs": [
        {
          "output_type": "stream",
          "name": "stdout",
          "text": [
            "2.3012989023072947\n"
          ]
        }
      ]
    },
    {
      "cell_type": "markdown",
      "source": [
        "59. 집합연산"
      ],
      "metadata": {
        "id": "BmvmVlGKvg5K"
      }
    },
    {
      "cell_type": "code",
      "source": [
        "arr = np.array([1, 1, 1, 2, 3, 4, 5, 5, 6, 7])\n",
        "\n",
        "x = np.unique(arr)\n",
        "\n",
        "print(x)"
      ],
      "metadata": {
        "colab": {
          "base_uri": "https://localhost:8080/"
        },
        "id": "q5TJi242wwK_",
        "outputId": "b50ab2fc-005f-446e-e992-9bd7c5a3d3b2"
      },
      "execution_count": null,
      "outputs": [
        {
          "output_type": "stream",
          "name": "stdout",
          "text": [
            "[1 2 3 4 5 6 7]\n"
          ]
        }
      ]
    }
  ]
}