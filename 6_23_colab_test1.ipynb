{
  "nbformat": 4,
  "nbformat_minor": 0,
  "metadata": {
    "colab": {
      "provenance": [],
      "gpuType": "T4",
      "authorship_tag": "ABX9TyN3nBIRcmHofG+q2t2RHtPc",
      "include_colab_link": true
    },
    "kernelspec": {
      "name": "python3",
      "display_name": "Python 3"
    },
    "language_info": {
      "name": "python"
    },
    "accelerator": "GPU"
  },
  "cells": [
    {
      "cell_type": "markdown",
      "metadata": {
        "id": "view-in-github",
        "colab_type": "text"
      },
      "source": [
        "<a href=\"https://colab.research.google.com/github/SSAC-AI/AI/blob/main/6_23_colab_test1.ipynb\" target=\"_parent\"><img src=\"https://colab.research.google.com/assets/colab-badge.svg\" alt=\"Open In Colab\"/></a>"
      ]
    },
    {
      "cell_type": "markdown",
      "source": [
        "코랩 테스트"
      ],
      "metadata": {
        "id": "viziV9QUeBCX"
      }
    },
    {
      "cell_type": "code",
      "execution_count": null,
      "metadata": {
        "colab": {
          "base_uri": "https://localhost:8080/"
        },
        "id": "S16W00FYdnBQ",
        "outputId": "253f42d9-930a-4636-9545-718c185f7306"
      },
      "outputs": [
        {
          "output_type": "stream",
          "name": "stdout",
          "text": [
            "Hello, world!\n"
          ]
        }
      ],
      "source": [
        "print(\"Hello, world!\")"
      ]
    },
    {
      "cell_type": "code",
      "source": [
        "x=5\n",
        "y=\"John\"\n",
        "print(x)\n",
        "print(y)"
      ],
      "metadata": {
        "colab": {
          "base_uri": "https://localhost:8080/"
        },
        "id": "gpCUow2tfehU",
        "outputId": "80756de5-0781-453a-a4dc-98fc03b19afc"
      },
      "execution_count": null,
      "outputs": [
        {
          "output_type": "stream",
          "name": "stdout",
          "text": [
            "5\n",
            "John\n"
          ]
        }
      ]
    },
    {
      "cell_type": "code",
      "source": [
        "myvar=\"John\"\n",
        "my_var=\"John\"\n",
        "_my_var=\"John\"\n",
        "myVar=\"John\"\n",
        "MYVAR=\"John\"\n",
        "myvar2=\"John\""
      ],
      "metadata": {
        "id": "hMN62CuTfkwa"
      },
      "execution_count": null,
      "outputs": []
    },
    {
      "cell_type": "code",
      "source": [
        "x,y,z=\"Orange\",\"Banana\",\"Cherry\"\n",
        "print(x)\n",
        "print(y)\n",
        "print(z)"
      ],
      "metadata": {
        "colab": {
          "base_uri": "https://localhost:8080/"
        },
        "id": "GRgiIHFKgtsa",
        "outputId": "3099ecba-4b4a-4efd-fcf4-19a2d9a79b2b"
      },
      "execution_count": null,
      "outputs": [
        {
          "output_type": "stream",
          "name": "stdout",
          "text": [
            "Orange\n",
            "Banana\n",
            "Cherry\n"
          ]
        }
      ]
    },
    {
      "cell_type": "code",
      "source": [
        "x=\"Python is awesome\"\n",
        "print(x)"
      ],
      "metadata": {
        "colab": {
          "base_uri": "https://localhost:8080/"
        },
        "id": "r3W648ZQg5M4",
        "outputId": "15c957cc-2b6a-4aa4-e87d-f5fecb24417e"
      },
      "execution_count": null,
      "outputs": [
        {
          "output_type": "stream",
          "name": "stdout",
          "text": [
            "Python is awesome\n"
          ]
        }
      ]
    },
    {
      "cell_type": "code",
      "source": [
        "x=\"awesome\"\n",
        "\n",
        "def myfunc():\n",
        "  print(\"Python is \"+x)\n",
        "\n",
        "myfunc()"
      ],
      "metadata": {
        "colab": {
          "base_uri": "https://localhost:8080/"
        },
        "id": "DIxT12MchGu9",
        "outputId": "b2505be0-f4dc-407f-d951-3ea7e01f01b3"
      },
      "execution_count": null,
      "outputs": [
        {
          "output_type": "stream",
          "name": "stdout",
          "text": [
            "Python is awesome\n"
          ]
        }
      ]
    },
    {
      "cell_type": "code",
      "source": [
        "x=5\n",
        "print(type(x))"
      ],
      "metadata": {
        "colab": {
          "base_uri": "https://localhost:8080/"
        },
        "id": "727BC1Qfh5_G",
        "outputId": "2f0ee287-2479-4aa8-c786-33aa8939792d"
      },
      "execution_count": null,
      "outputs": [
        {
          "output_type": "stream",
          "name": "stdout",
          "text": [
            "<class 'int'>\n"
          ]
        }
      ]
    },
    {
      "cell_type": "code",
      "source": [
        "x=1\n",
        "y=2.8\n",
        "z=1j\n",
        "print(type(x))\n",
        "print(type(y))\n",
        "print(type(z))"
      ],
      "metadata": {
        "colab": {
          "base_uri": "https://localhost:8080/"
        },
        "id": "_jP4ZUOeiFrp",
        "outputId": "39014727-726c-45a8-a6f0-1bf0d4f204ed"
      },
      "execution_count": null,
      "outputs": [
        {
          "output_type": "stream",
          "name": "stdout",
          "text": [
            "<class 'int'>\n",
            "<class 'float'>\n",
            "<class 'complex'>\n"
          ]
        }
      ]
    },
    {
      "cell_type": "code",
      "source": [
        "x = int(1)\n",
        "y = int(2.8)\n",
        "z = int(\"3\")"
      ],
      "metadata": {
        "id": "6eJip7xbiLaY"
      },
      "execution_count": null,
      "outputs": []
    },
    {
      "cell_type": "code",
      "source": [
        "print(\"Hello\")\n",
        "print('Hello')"
      ],
      "metadata": {
        "colab": {
          "base_uri": "https://localhost:8080/"
        },
        "id": "JrAd_kipiibL",
        "outputId": "05646f9e-db47-4c76-cc01-92750ce988db"
      },
      "execution_count": null,
      "outputs": [
        {
          "output_type": "stream",
          "name": "stdout",
          "text": [
            "Hello\n",
            "Hello\n"
          ]
        }
      ]
    },
    {
      "cell_type": "code",
      "source": [
        "b = \"Hello, World!\"\n",
        "print(b[2:5])"
      ],
      "metadata": {
        "colab": {
          "base_uri": "https://localhost:8080/"
        },
        "id": "KtgXB76GijYF",
        "outputId": "f67000fe-1e80-4663-9ca4-b8021c0dcd4b"
      },
      "execution_count": null,
      "outputs": [
        {
          "output_type": "stream",
          "name": "stdout",
          "text": [
            "llo\n"
          ]
        }
      ]
    },
    {
      "cell_type": "code",
      "source": [
        "a = \"Hello, World!\"\n",
        "print(a.upper())"
      ],
      "metadata": {
        "colab": {
          "base_uri": "https://localhost:8080/"
        },
        "id": "2qb958ayinoc",
        "outputId": "96278351-b2c5-492e-fdd3-34cd5218af48"
      },
      "execution_count": null,
      "outputs": [
        {
          "output_type": "stream",
          "name": "stdout",
          "text": [
            "HELLO, WORLD!\n"
          ]
        }
      ]
    },
    {
      "cell_type": "code",
      "source": [
        "a = \"Hello\"\n",
        "b = \"World\"\n",
        "c = a + b\n",
        "print(c)"
      ],
      "metadata": {
        "colab": {
          "base_uri": "https://localhost:8080/"
        },
        "id": "UhrRLVQMipz6",
        "outputId": "117722e8-171e-497c-e46e-f844cea1e76d"
      },
      "execution_count": null,
      "outputs": [
        {
          "output_type": "stream",
          "name": "stdout",
          "text": [
            "HelloWorld\n"
          ]
        }
      ]
    },
    {
      "cell_type": "code",
      "source": [
        "age = 36\n",
        "txt = f\"My name is John, I am {age}\"\n",
        "print(txt)"
      ],
      "metadata": {
        "colab": {
          "base_uri": "https://localhost:8080/"
        },
        "id": "8RD7V34PisFz",
        "outputId": "b65a51ac-fddc-4932-f5c1-091257e38272"
      },
      "execution_count": null,
      "outputs": [
        {
          "output_type": "stream",
          "name": "stdout",
          "text": [
            "My name is John, I am 36\n"
          ]
        }
      ]
    },
    {
      "cell_type": "code",
      "source": [
        "txt = \"We are the so-called \\\"Vikings\\\" from the north.\"\n",
        "print(txt)"
      ],
      "metadata": {
        "colab": {
          "base_uri": "https://localhost:8080/"
        },
        "id": "GBRbxCq9i9e_",
        "outputId": "3077e30f-b5fc-45e0-d581-ca2bdfa6daa7"
      },
      "execution_count": null,
      "outputs": [
        {
          "output_type": "stream",
          "name": "stdout",
          "text": [
            "We are the so-called \"Vikings\" from the north.\n"
          ]
        }
      ]
    },
    {
      "cell_type": "code",
      "source": [
        "print(10 > 9)\n",
        "print(10 == 9)\n",
        "print(10 < 9)"
      ],
      "metadata": {
        "colab": {
          "base_uri": "https://localhost:8080/"
        },
        "id": "F2MCP16fjGoG",
        "outputId": "556c9aae-0fe9-4cba-a609-f955a07deb8b"
      },
      "execution_count": null,
      "outputs": [
        {
          "output_type": "stream",
          "name": "stdout",
          "text": [
            "True\n",
            "False\n",
            "False\n"
          ]
        }
      ]
    },
    {
      "cell_type": "code",
      "source": [
        "print(10 + 5)"
      ],
      "metadata": {
        "colab": {
          "base_uri": "https://localhost:8080/"
        },
        "id": "k3ILBrU6jJPT",
        "outputId": "07bef1cd-cd12-45de-fd8a-4f43b71a5331"
      },
      "execution_count": null,
      "outputs": [
        {
          "output_type": "stream",
          "name": "stdout",
          "text": [
            "15\n"
          ]
        }
      ]
    },
    {
      "cell_type": "code",
      "source": [
        "thislist = [\"apple\", \"banana\", \"cherry\"]\n",
        "print(thislist)"
      ],
      "metadata": {
        "colab": {
          "base_uri": "https://localhost:8080/"
        },
        "id": "IBohkypLjJ04",
        "outputId": "2aee7d90-8e71-44b0-80a2-c84038f0814b"
      },
      "execution_count": null,
      "outputs": [
        {
          "output_type": "stream",
          "name": "stdout",
          "text": [
            "['apple', 'banana', 'cherry']\n"
          ]
        }
      ]
    },
    {
      "cell_type": "code",
      "source": [
        "thislist = [\"apple\", \"banana\", \"cherry\"]\n",
        "print(thislist[1])"
      ],
      "metadata": {
        "colab": {
          "base_uri": "https://localhost:8080/"
        },
        "id": "kZiL28N4jNsK",
        "outputId": "eec8ad37-56b8-45b8-d3ee-0ad5b26f84a3"
      },
      "execution_count": null,
      "outputs": [
        {
          "output_type": "stream",
          "name": "stdout",
          "text": [
            "banana\n"
          ]
        }
      ]
    },
    {
      "cell_type": "code",
      "source": [
        "thislist = [\"apple\", \"banana\", \"cherry\"]\n",
        "thislist[1] = \"blackcurrant\"\n",
        "print(thislist)"
      ],
      "metadata": {
        "colab": {
          "base_uri": "https://localhost:8080/"
        },
        "id": "VKafY4TPjUVW",
        "outputId": "1a551a92-ae3e-46f6-a95d-799b29c009ed"
      },
      "execution_count": null,
      "outputs": [
        {
          "output_type": "stream",
          "name": "stdout",
          "text": [
            "['apple', 'blackcurrant', 'cherry']\n"
          ]
        }
      ]
    },
    {
      "cell_type": "code",
      "source": [
        "thislist = [\"apple\", \"banana\", \"cherry\"]\n",
        "thislist.append(\"orange\")\n",
        "print(thislist)"
      ],
      "metadata": {
        "colab": {
          "base_uri": "https://localhost:8080/"
        },
        "id": "krHjyn6KjXIv",
        "outputId": "cc6e8b3e-e2f2-48be-8c31-388f74e75543"
      },
      "execution_count": null,
      "outputs": [
        {
          "output_type": "stream",
          "name": "stdout",
          "text": [
            "['apple', 'banana', 'cherry', 'orange']\n"
          ]
        }
      ]
    },
    {
      "cell_type": "code",
      "source": [
        "thislist = [\"apple\", \"banana\", \"cherry\"]\n",
        "thislist.remove(\"banana\")\n",
        "print(thislist)"
      ],
      "metadata": {
        "colab": {
          "base_uri": "https://localhost:8080/"
        },
        "id": "OXJGIvarjZh0",
        "outputId": "6a0201d5-69f2-4eff-d0a0-89b9ad72b3bb"
      },
      "execution_count": null,
      "outputs": [
        {
          "output_type": "stream",
          "name": "stdout",
          "text": [
            "['apple', 'cherry']\n"
          ]
        }
      ]
    },
    {
      "cell_type": "code",
      "source": [
        "thislist = [\"apple\", \"banana\", \"cherry\"]\n",
        "for x in thislist:\n",
        "  print(x)"
      ],
      "metadata": {
        "colab": {
          "base_uri": "https://localhost:8080/"
        },
        "id": "8AoQj5ZAjbKB",
        "outputId": "ca327bdc-20f3-4c26-bac2-ee99d56f63cb"
      },
      "execution_count": null,
      "outputs": [
        {
          "output_type": "stream",
          "name": "stdout",
          "text": [
            "apple\n",
            "banana\n",
            "cherry\n"
          ]
        }
      ]
    },
    {
      "cell_type": "markdown",
      "source": [
        "for 리스트"
      ],
      "metadata": {
        "id": "0jZt3LvMxHm2"
      }
    },
    {
      "cell_type": "code",
      "source": [
        "fruits = [\"apple\", \"banana\", \"cherry\", \"kiwi\", \"mango\"]\n",
        "newlist = []\n",
        "\n",
        "for x in fruits:\n",
        "  if \"a\" in x:\n",
        "    newlist.append(x)\n",
        "\n",
        "print(newlist)"
      ],
      "metadata": {
        "colab": {
          "base_uri": "https://localhost:8080/"
        },
        "id": "UamjKibeje_N",
        "outputId": "652a6a3f-7793-42f8-b715-779a9e49d8ef"
      },
      "execution_count": null,
      "outputs": [
        {
          "output_type": "stream",
          "name": "stdout",
          "text": [
            "['apple', 'banana', 'mango']\n"
          ]
        }
      ]
    },
    {
      "cell_type": "markdown",
      "source": [
        "리스트를 알파벳순으로 정렬"
      ],
      "metadata": {
        "id": "quxnFyj8w8Xy"
      }
    },
    {
      "cell_type": "code",
      "source": [
        "thislist = [\"orange\", \"mango\", \"kiwi\", \"pineapple\", \"banana\"]\n",
        "thislist.sort()\n",
        "print(thislist)"
      ],
      "metadata": {
        "colab": {
          "base_uri": "https://localhost:8080/"
        },
        "id": "FPq2nlnwjh_o",
        "outputId": "d7f8f10b-a11c-4a61-e0dd-5411f69f8371"
      },
      "execution_count": null,
      "outputs": [
        {
          "output_type": "stream",
          "name": "stdout",
          "text": [
            "['banana', 'kiwi', 'mango', 'orange', 'pineapple']\n"
          ]
        }
      ]
    },
    {
      "cell_type": "markdown",
      "source": [
        "리스트 복사"
      ],
      "metadata": {
        "id": "F7Eh_Tu_w3z5"
      }
    },
    {
      "cell_type": "code",
      "source": [
        "thislist = [\"apple\", \"banana\", \"cherry\"]\n",
        "mylist = thislist.copy()\n",
        "print(mylist)"
      ],
      "metadata": {
        "colab": {
          "base_uri": "https://localhost:8080/"
        },
        "id": "9vxXzrmOjka6",
        "outputId": "93b8bd82-5f7e-407a-e762-e457aba08681"
      },
      "execution_count": null,
      "outputs": [
        {
          "output_type": "stream",
          "name": "stdout",
          "text": [
            "['apple', 'banana', 'cherry']\n"
          ]
        }
      ]
    },
    {
      "cell_type": "markdown",
      "source": [
        "리스트 결합"
      ],
      "metadata": {
        "id": "oTtuf73Bwyyv"
      }
    },
    {
      "cell_type": "code",
      "source": [
        "list1 = [\"a\", \"b\", \"c\"]\n",
        "list2 = [1, 2, 3]\n",
        "\n",
        "list3 = list1 + list2\n",
        "print(list3)"
      ],
      "metadata": {
        "colab": {
          "base_uri": "https://localhost:8080/"
        },
        "id": "ZPAG4KeljnXu",
        "outputId": "99129872-446b-42a5-c2c9-5e02ea998627"
      },
      "execution_count": null,
      "outputs": [
        {
          "output_type": "stream",
          "name": "stdout",
          "text": [
            "['a', 'b', 'c', 1, 2, 3]\n"
          ]
        }
      ]
    },
    {
      "cell_type": "markdown",
      "source": [
        "튜플"
      ],
      "metadata": {
        "id": "jaCY9owewtYX"
      }
    },
    {
      "cell_type": "code",
      "source": [
        "thistuple = (\"apple\", \"banana\", \"cherry\")\n",
        "print(thistuple)"
      ],
      "metadata": {
        "colab": {
          "base_uri": "https://localhost:8080/"
        },
        "id": "oPV4qtPcjq7T",
        "outputId": "6f0ddd97-6593-425b-ef74-f918f9693009"
      },
      "execution_count": null,
      "outputs": [
        {
          "output_type": "stream",
          "name": "stdout",
          "text": [
            "('apple', 'banana', 'cherry')\n"
          ]
        }
      ]
    },
    {
      "cell_type": "markdown",
      "source": [
        "튜플 항목에 접근"
      ],
      "metadata": {
        "id": "X_UMDYwywfmI"
      }
    },
    {
      "cell_type": "code",
      "source": [
        "thistuple = (\"apple\", \"banana\", \"cherry\")\n",
        "print(thistuple[1])"
      ],
      "metadata": {
        "colab": {
          "base_uri": "https://localhost:8080/"
        },
        "id": "FsokqV-ejsgC",
        "outputId": "593ed985-69a4-4984-a8a7-5a109f9904e0"
      },
      "execution_count": null,
      "outputs": [
        {
          "output_type": "stream",
          "name": "stdout",
          "text": [
            "banana\n"
          ]
        }
      ]
    },
    {
      "cell_type": "markdown",
      "source": [
        "튜플 값 변경"
      ],
      "metadata": {
        "id": "_jmeC33gwKsq"
      }
    },
    {
      "cell_type": "code",
      "source": [
        "x = (\"apple\", \"banana\", \"cherry\")\n",
        "y = list(x)\n",
        "y[1] = \"kiwi\"\n",
        "x = tuple(y)\n",
        "\n",
        "print(x)"
      ],
      "metadata": {
        "colab": {
          "base_uri": "https://localhost:8080/"
        },
        "id": "s8TKGlGqjubd",
        "outputId": "1e479e74-cd7f-4978-c246-11246d1a578f"
      },
      "execution_count": null,
      "outputs": [
        {
          "output_type": "stream",
          "name": "stdout",
          "text": [
            "('apple', 'kiwi', 'cherry')\n"
          ]
        }
      ]
    },
    {
      "cell_type": "markdown",
      "source": [
        "튜플 패킹 후 언패킹"
      ],
      "metadata": {
        "id": "rszJcqtsv-xe"
      }
    },
    {
      "cell_type": "code",
      "source": [
        "fruits = (\"apple\", \"banana\", \"cherry\")\n",
        "\n",
        "(green, yellow, red) = fruits\n",
        "\n",
        "print(green)\n",
        "print(yellow)\n",
        "print(red)"
      ],
      "metadata": {
        "colab": {
          "base_uri": "https://localhost:8080/"
        },
        "id": "74dXcpKRjxnY",
        "outputId": "5a2d231d-ce09-4303-a389-874a7e6b8566"
      },
      "execution_count": null,
      "outputs": [
        {
          "output_type": "stream",
          "name": "stdout",
          "text": [
            "apple\n",
            "banana\n",
            "cherry\n"
          ]
        }
      ]
    },
    {
      "cell_type": "markdown",
      "source": [
        "튜플 항목 반복"
      ],
      "metadata": {
        "id": "YYrlyXuTv2Iz"
      }
    },
    {
      "cell_type": "code",
      "source": [
        "thistuple = (\"apple\", \"banana\", \"cherry\")\n",
        "for x in thistuple:\n",
        "  print(x)"
      ],
      "metadata": {
        "colab": {
          "base_uri": "https://localhost:8080/"
        },
        "id": "7Tfel_3Qj-EC",
        "outputId": "50e825fa-3ca9-454d-b9e8-1cf116cd7452"
      },
      "execution_count": null,
      "outputs": [
        {
          "output_type": "stream",
          "name": "stdout",
          "text": [
            "apple\n",
            "banana\n",
            "cherry\n"
          ]
        }
      ]
    },
    {
      "cell_type": "markdown",
      "source": [
        "튜플 결합"
      ],
      "metadata": {
        "id": "zF9qKtdMvyLi"
      }
    },
    {
      "cell_type": "code",
      "source": [
        "tuple1 = (\"a\", \"b\" , \"c\")\n",
        "tuple2 = (1, 2, 3)\n",
        "\n",
        "tuple3 = tuple1 + tuple2\n",
        "print(tuple3)"
      ],
      "metadata": {
        "colab": {
          "base_uri": "https://localhost:8080/"
        },
        "id": "TFGQm_3ukAsb",
        "outputId": "95696d72-2643-45f0-8773-acc4817058bc"
      },
      "execution_count": null,
      "outputs": [
        {
          "output_type": "stream",
          "name": "stdout",
          "text": [
            "('a', 'b', 'c', 1, 2, 3)\n"
          ]
        }
      ]
    },
    {
      "cell_type": "markdown",
      "source": [
        "세트 만들기"
      ],
      "metadata": {
        "id": "XKx9E3BIvuwq"
      }
    },
    {
      "cell_type": "code",
      "source": [
        "thisset = {\"apple\", \"banana\", \"cherry\"}\n",
        "print(thisset)"
      ],
      "metadata": {
        "colab": {
          "base_uri": "https://localhost:8080/"
        },
        "id": "kKrV_SznkIa4",
        "outputId": "d5a6349c-2dcb-4ed7-d773-ce08b1ad8080"
      },
      "execution_count": null,
      "outputs": [
        {
          "output_type": "stream",
          "name": "stdout",
          "text": [
            "{'banana', 'cherry', 'apple'}\n"
          ]
        }
      ]
    },
    {
      "cell_type": "markdown",
      "source": [
        "집합 반복 후 값 인쇄"
      ],
      "metadata": {
        "id": "6rd0w8dlvRrW"
      }
    },
    {
      "cell_type": "code",
      "source": [
        "thisset = {\"apple\", \"banana\", \"cherry\"}\n",
        "\n",
        "for x in thisset:\n",
        "  print(x)"
      ],
      "metadata": {
        "colab": {
          "base_uri": "https://localhost:8080/"
        },
        "id": "n2C5LoVykf05",
        "outputId": "8f82d236-48d6-429c-eb9d-0479fcc2d727"
      },
      "execution_count": null,
      "outputs": [
        {
          "output_type": "stream",
          "name": "stdout",
          "text": [
            "banana\n",
            "cherry\n",
            "apple\n"
          ]
        }
      ]
    },
    {
      "cell_type": "markdown",
      "source": [
        "세트 항목 추가"
      ],
      "metadata": {
        "id": "bqTzaNiFvN_4"
      }
    },
    {
      "cell_type": "code",
      "source": [
        "thisset = {\"apple\", \"banana\", \"cherry\"}\n",
        "\n",
        "thisset.add(\"orange\")\n",
        "\n",
        "print(thisset)"
      ],
      "metadata": {
        "colab": {
          "base_uri": "https://localhost:8080/"
        },
        "id": "OjHwZp-Tkiy7",
        "outputId": "c05b67b7-4b93-4d23-8d8e-c65c2e857880"
      },
      "execution_count": null,
      "outputs": [
        {
          "output_type": "stream",
          "name": "stdout",
          "text": [
            "{'orange', 'banana', 'cherry', 'apple'}\n"
          ]
        }
      ]
    },
    {
      "cell_type": "markdown",
      "source": [
        "세트 항목 제거"
      ],
      "metadata": {
        "id": "6GBiETSyvJt3"
      }
    },
    {
      "cell_type": "code",
      "source": [
        "thisset = {\"apple\", \"banana\", \"cherry\"}\n",
        "\n",
        "thisset.remove(\"banana\")\n",
        "\n",
        "print(thisset)"
      ],
      "metadata": {
        "colab": {
          "base_uri": "https://localhost:8080/"
        },
        "id": "a1f7_rjukmlO",
        "outputId": "f488886c-e432-462d-8613-3bf7a683dc14"
      },
      "execution_count": null,
      "outputs": [
        {
          "output_type": "stream",
          "name": "stdout",
          "text": [
            "{'cherry', 'apple'}\n"
          ]
        }
      ]
    },
    {
      "cell_type": "markdown",
      "source": [
        "for 루프"
      ],
      "metadata": {
        "id": "4ANKnPZ_vDIc"
      }
    },
    {
      "cell_type": "code",
      "source": [
        "thisset = {\"apple\", \"banana\", \"cherry\"}\n",
        "\n",
        "for x in thisset:\n",
        "  print(x)"
      ],
      "metadata": {
        "colab": {
          "base_uri": "https://localhost:8080/"
        },
        "id": "q365SxWokosS",
        "outputId": "3d359bd0-af64-4145-817a-8c4d06b3230e"
      },
      "execution_count": null,
      "outputs": [
        {
          "output_type": "stream",
          "name": "stdout",
          "text": [
            "banana\n",
            "cherry\n",
            "apple\n"
          ]
        }
      ]
    },
    {
      "cell_type": "markdown",
      "source": [
        "세트 결합"
      ],
      "metadata": {
        "id": "eACupjv5u8T4"
      }
    },
    {
      "cell_type": "code",
      "source": [
        "set1 = {\"a\", \"b\", \"c\"}\n",
        "set2 = {1, 2, 3}\n",
        "\n",
        "set3 = set1.union(set2)\n",
        "print(set3)"
      ],
      "metadata": {
        "colab": {
          "base_uri": "https://localhost:8080/"
        },
        "id": "uAtLt_fBkqaj",
        "outputId": "af0d56a6-26c7-482a-d805-cb2db0028094"
      },
      "execution_count": null,
      "outputs": [
        {
          "output_type": "stream",
          "name": "stdout",
          "text": [
            "{1, 2, 3, 'c', 'b', 'a'}\n"
          ]
        }
      ]
    },
    {
      "cell_type": "markdown",
      "source": [
        "파이썬 사전만들기"
      ],
      "metadata": {
        "id": "peN9kcBIu57N"
      }
    },
    {
      "cell_type": "code",
      "source": [
        "thisdict = {\n",
        "  \"brand\": \"Ford\",\n",
        "  \"model\": \"Mustang\",\n",
        "  \"year\": 1964\n",
        "}\n",
        "print(thisdict)"
      ],
      "metadata": {
        "colab": {
          "base_uri": "https://localhost:8080/"
        },
        "id": "1WXU9vSvkyEG",
        "outputId": "3372cd5b-d5d3-4cbb-9273-1aa4082fdf54"
      },
      "execution_count": null,
      "outputs": [
        {
          "output_type": "stream",
          "name": "stdout",
          "text": [
            "{'brand': 'Ford', 'model': 'Mustang', 'year': 1964}\n"
          ]
        }
      ]
    },
    {
      "cell_type": "markdown",
      "source": [
        "항목 액세스"
      ],
      "metadata": {
        "id": "pW8BgVCDu1lM"
      }
    },
    {
      "cell_type": "code",
      "source": [
        "thisdict = {\n",
        "  \"brand\": \"Ford\",\n",
        "  \"model\": \"Mustang\",\n",
        "  \"year\": 1964\n",
        "}\n",
        "x = thisdict[\"model\"]\n",
        "print(x)"
      ],
      "metadata": {
        "colab": {
          "base_uri": "https://localhost:8080/"
        },
        "id": "G_K3Ag3pk3TF",
        "outputId": "8a34dd18-85ce-4103-85b1-83a3c52033fd"
      },
      "execution_count": null,
      "outputs": [
        {
          "output_type": "stream",
          "name": "stdout",
          "text": [
            "Mustang\n"
          ]
        }
      ]
    },
    {
      "cell_type": "markdown",
      "source": [
        "사전 항목 변경"
      ],
      "metadata": {
        "id": "qis54jaQueFE"
      }
    },
    {
      "cell_type": "code",
      "source": [
        "thisdict = {\n",
        "  \"brand\": \"Ford\",\n",
        "  \"model\": \"Mustang\",\n",
        "  \"year\": 1964\n",
        "}\n",
        "thisdict[\"year\"] = 2018\n",
        "print(thisdict)"
      ],
      "metadata": {
        "colab": {
          "base_uri": "https://localhost:8080/"
        },
        "id": "jHhO3ioIlA9F",
        "outputId": "832a1575-86a5-4558-f938-f5ac1d1074ab"
      },
      "execution_count": null,
      "outputs": [
        {
          "output_type": "stream",
          "name": "stdout",
          "text": [
            "{'brand': 'Ford', 'model': 'Mustang', 'year': 2018}\n"
          ]
        }
      ]
    },
    {
      "cell_type": "markdown",
      "source": [
        "사전 항목 추가"
      ],
      "metadata": {
        "id": "u6ymOMuTubBw"
      }
    },
    {
      "cell_type": "code",
      "source": [
        "thisdict = {\n",
        "  \"brand\": \"Ford\",\n",
        "  \"model\": \"Mustang\",\n",
        "  \"year\": 1964\n",
        "}\n",
        "thisdict[\"color\"] = \"red\"\n",
        "print(thisdict)"
      ],
      "metadata": {
        "colab": {
          "base_uri": "https://localhost:8080/"
        },
        "id": "VhX8eh78lIDf",
        "outputId": "c0c41dd7-97c6-4a6a-e30f-2c8f3bbb4430"
      },
      "execution_count": null,
      "outputs": [
        {
          "output_type": "stream",
          "name": "stdout",
          "text": [
            "{'brand': 'Ford', 'model': 'Mustang', 'year': 1964, 'color': 'red'}\n"
          ]
        }
      ]
    },
    {
      "cell_type": "markdown",
      "source": [
        "사전 항목 제거"
      ],
      "metadata": {
        "id": "d9FlUhA8uX91"
      }
    },
    {
      "cell_type": "code",
      "source": [
        "thisdict = {\n",
        "  \"brand\": \"Ford\",\n",
        "  \"model\": \"Mustang\",\n",
        "  \"year\": 1964\n",
        "}\n",
        "thisdict.pop(\"model\")\n",
        "print(thisdict)"
      ],
      "metadata": {
        "colab": {
          "base_uri": "https://localhost:8080/"
        },
        "id": "5gZQWloclMe-",
        "outputId": "ba89f8d0-1bb6-40d6-e3f4-63aed1db19f1"
      },
      "execution_count": null,
      "outputs": [
        {
          "output_type": "stream",
          "name": "stdout",
          "text": [
            "{'brand': 'Ford', 'year': 1964}\n"
          ]
        }
      ]
    },
    {
      "cell_type": "markdown",
      "source": [
        "사전 반복"
      ],
      "metadata": {
        "id": "lte8o64FuV2O"
      }
    },
    {
      "cell_type": "code",
      "source": [
        "for x in thisdict:\n",
        "  print(x)"
      ],
      "metadata": {
        "colab": {
          "base_uri": "https://localhost:8080/"
        },
        "id": "gpJOkoK3lP8c",
        "outputId": "cf6a7f06-aa6a-40eb-d75a-e27f76701bc1"
      },
      "execution_count": null,
      "outputs": [
        {
          "output_type": "stream",
          "name": "stdout",
          "text": [
            "brand\n",
            "year\n"
          ]
        }
      ]
    },
    {
      "cell_type": "markdown",
      "source": [
        "사전 복사"
      ],
      "metadata": {
        "id": "RHOEEA1fuTUW"
      }
    },
    {
      "cell_type": "code",
      "source": [
        "thisdict = {\n",
        "  \"brand\": \"Ford\",\n",
        "  \"model\": \"Mustang\",\n",
        "  \"year\": 1964\n",
        "}\n",
        "mydict = thisdict.copy()\n",
        "print(mydict)"
      ],
      "metadata": {
        "colab": {
          "base_uri": "https://localhost:8080/"
        },
        "id": "dUJAu2t3lXU_",
        "outputId": "5224be19-546d-4dda-c9bc-3e5c38a3a9e5"
      },
      "execution_count": null,
      "outputs": [
        {
          "output_type": "stream",
          "name": "stdout",
          "text": [
            "{'brand': 'Ford', 'model': 'Mustang', 'year': 1964}\n"
          ]
        }
      ]
    },
    {
      "cell_type": "markdown",
      "source": [
        "중첩된 사전"
      ],
      "metadata": {
        "id": "r5CrhXjZuHz9"
      }
    },
    {
      "cell_type": "code",
      "source": [
        "myfamily = {\n",
        "  \"child1\" : {\n",
        "    \"name\" : \"Emil\",\n",
        "    \"year\" : 2004\n",
        "  },\n",
        "  \"child2\" : {\n",
        "    \"name\" : \"Tobias\",\n",
        "    \"year\" : 2007\n",
        "  },\n",
        "  \"child3\" : {\n",
        "    \"name\" : \"Linus\",\n",
        "    \"year\" : 2011\n",
        "  }\n",
        "}\n",
        "print(myfamily[\"child2\"][\"name\"])"
      ],
      "metadata": {
        "colab": {
          "base_uri": "https://localhost:8080/"
        },
        "id": "QywD-dSjlbxI",
        "outputId": "eb5ec8a5-c8d1-4172-e790-a68f2ca6d33e"
      },
      "execution_count": null,
      "outputs": [
        {
          "output_type": "stream",
          "name": "stdout",
          "text": [
            "Tobias\n"
          ]
        }
      ]
    },
    {
      "cell_type": "markdown",
      "source": [
        "if문"
      ],
      "metadata": {
        "id": "f0LeHsDGtqmU"
      }
    },
    {
      "cell_type": "code",
      "source": [
        "a = 33\n",
        "b = 200\n",
        "if b > a:\n",
        "  print(\"b is greater than a\")"
      ],
      "metadata": {
        "colab": {
          "base_uri": "https://localhost:8080/"
        },
        "id": "T5FHqucfljLf",
        "outputId": "324ea4c7-8112-4189-d1de-7f52f650fb9d"
      },
      "execution_count": null,
      "outputs": [
        {
          "output_type": "stream",
          "name": "stdout",
          "text": [
            "b is greater than a\n"
          ]
        }
      ]
    },
    {
      "cell_type": "markdown",
      "source": [
        "match문을 이용하여 요일 출력하기"
      ],
      "metadata": {
        "id": "nPHNs5yrtgsq"
      }
    },
    {
      "cell_type": "code",
      "source": [
        "\n",
        "day = 4\n",
        "match day:\n",
        "  case 1:\n",
        "    print(\"Monday\")\n",
        "  case 2:\n",
        "    print(\"Tuesday\")\n",
        "  case 3:\n",
        "    print(\"Wednesday\")\n",
        "  case 4:\n",
        "    print(\"Thursday\")\n",
        "  case 5:\n",
        "    print(\"Friday\")\n",
        "  case 6:\n",
        "    print(\"Saturday\")\n",
        "  case 7:\n",
        "    print(\"Sunday\")"
      ],
      "metadata": {
        "colab": {
          "base_uri": "https://localhost:8080/"
        },
        "id": "1-e0AX2glnLl",
        "outputId": "061174ae-093c-4437-8265-323bd12c9a17"
      },
      "execution_count": null,
      "outputs": [
        {
          "output_type": "stream",
          "name": "stdout",
          "text": [
            "Thursday\n"
          ]
        }
      ]
    },
    {
      "cell_type": "markdown",
      "source": [
        "while 루프"
      ],
      "metadata": {
        "id": "41PsqpQAtcQl"
      }
    },
    {
      "cell_type": "code",
      "source": [
        "i = 1\n",
        "while i < 6:\n",
        "  print(i)\n",
        "  i += 1"
      ],
      "metadata": {
        "colab": {
          "base_uri": "https://localhost:8080/"
        },
        "id": "YTx2C4Wils18",
        "outputId": "0e054555-82e8-40b7-dfe6-2f2825514072"
      },
      "execution_count": null,
      "outputs": [
        {
          "output_type": "stream",
          "name": "stdout",
          "text": [
            "1\n",
            "2\n",
            "3\n",
            "4\n",
            "5\n"
          ]
        }
      ]
    },
    {
      "cell_type": "markdown",
      "source": [
        "for 루프 목록에 있는 각 과일 인쇄"
      ],
      "metadata": {
        "id": "cv939_nqtKt6"
      }
    },
    {
      "cell_type": "code",
      "source": [
        "fruits = [\"apple\", \"banana\", \"cherry\"]\n",
        "for x in fruits:\n",
        "  print(x)"
      ],
      "metadata": {
        "colab": {
          "base_uri": "https://localhost:8080/"
        },
        "id": "v-n-3zDnlw5B",
        "outputId": "5af517f3-d03b-418f-e69e-f54f02104dbc"
      },
      "execution_count": null,
      "outputs": [
        {
          "output_type": "stream",
          "name": "stdout",
          "text": [
            "apple\n",
            "banana\n",
            "cherry\n"
          ]
        }
      ]
    },
    {
      "cell_type": "markdown",
      "source": [
        "함수 호출"
      ],
      "metadata": {
        "id": "trSdGpnxs98u"
      }
    },
    {
      "cell_type": "code",
      "source": [
        "def my_function():\n",
        "  print(\"Hello from a function\")\n",
        "\n",
        "my_function()"
      ],
      "metadata": {
        "colab": {
          "base_uri": "https://localhost:8080/"
        },
        "id": "7g1ylmDOlzSK",
        "outputId": "588e8366-c849-4852-9e8f-52c75ba414c1"
      },
      "execution_count": null,
      "outputs": [
        {
          "output_type": "stream",
          "name": "stdout",
          "text": [
            "Hello from a function\n"
          ]
        }
      ]
    },
    {
      "cell_type": "markdown",
      "source": [
        "인수에 10을 더하고 결과 a 반환"
      ],
      "metadata": {
        "id": "-IsV--Cnszt8"
      }
    },
    {
      "cell_type": "code",
      "source": [
        "x = lambda a : a + 10\n",
        "print(x(5))"
      ],
      "metadata": {
        "colab": {
          "base_uri": "https://localhost:8080/"
        },
        "id": "_BQIGvc2l3No",
        "outputId": "e153874f-b973-4111-86ac-0cc91517d7ca"
      },
      "execution_count": null,
      "outputs": [
        {
          "output_type": "stream",
          "name": "stdout",
          "text": [
            "15\n"
          ]
        }
      ]
    },
    {
      "cell_type": "markdown",
      "source": [
        "배열의 0번째 문자 인쇄"
      ],
      "metadata": {
        "id": "6sdDEih0stHW"
      }
    },
    {
      "cell_type": "code",
      "source": [
        "cars = [\"Ford\", \"Volvo\", \"BMW\"]\n",
        "x=cars[0]\n",
        "print(x)"
      ],
      "metadata": {
        "colab": {
          "base_uri": "https://localhost:8080/"
        },
        "id": "b1UUdjNzl6ZT",
        "outputId": "845c3094-c334-470e-a279-6b590dbf543b"
      },
      "execution_count": null,
      "outputs": [
        {
          "output_type": "stream",
          "name": "stdout",
          "text": [
            "Ford\n"
          ]
        }
      ]
    },
    {
      "cell_type": "markdown",
      "source": [
        "클래스 만들기"
      ],
      "metadata": {
        "id": "ABu9igiqsqiJ"
      }
    },
    {
      "cell_type": "code",
      "source": [
        "class MyClass:\n",
        "  x = 5\n",
        "\n",
        "p1=MyClass()\n",
        "print(p1.x)"
      ],
      "metadata": {
        "colab": {
          "base_uri": "https://localhost:8080/"
        },
        "id": "-JI_HmtOmAXX",
        "outputId": "e6716653-d6ec-4053-f27d-5a9412bad613"
      },
      "execution_count": null,
      "outputs": [
        {
          "output_type": "stream",
          "name": "stdout",
          "text": [
            "5\n"
          ]
        }
      ]
    },
    {
      "cell_type": "markdown",
      "source": [
        "부모 클래스 만들기"
      ],
      "metadata": {
        "id": "EC6isf86scPP"
      }
    },
    {
      "cell_type": "code",
      "source": [
        "class Person:\n",
        "  def __init__(self, fname, lname):\n",
        "    self.firstname = fname\n",
        "    self.lastname = lname\n",
        "\n",
        "  def printname(self):\n",
        "    print(self.firstname, self.lastname)\n",
        "\n",
        "x = Person(\"John\", \"Doe\")\n",
        "x.printname()"
      ],
      "metadata": {
        "colab": {
          "base_uri": "https://localhost:8080/"
        },
        "id": "ACFEsKY4mP5x",
        "outputId": "7d807904-3f2c-436a-d3ee-e8a51f80a17c"
      },
      "execution_count": null,
      "outputs": [
        {
          "output_type": "stream",
          "name": "stdout",
          "text": [
            "John Doe\n"
          ]
        }
      ]
    },
    {
      "cell_type": "markdown",
      "source": [
        "튜플에서 반복자를 반환 후 각 값 인쇄"
      ],
      "metadata": {
        "id": "5xCsStC-sT12"
      }
    },
    {
      "cell_type": "code",
      "source": [
        "mytuple = (\"apple\", \"banana\", \"cherry\")\n",
        "myit = iter(mytuple)\n",
        "\n",
        "print(next(myit))\n",
        "print(next(myit))\n",
        "print(next(myit))"
      ],
      "metadata": {
        "colab": {
          "base_uri": "https://localhost:8080/"
        },
        "id": "EMF3_VnmmXgC",
        "outputId": "e4567764-bc18-48e4-9c21-3ace03912c53"
      },
      "execution_count": null,
      "outputs": [
        {
          "output_type": "stream",
          "name": "stdout",
          "text": [
            "apple\n",
            "banana\n",
            "cherry\n"
          ]
        }
      ]
    },
    {
      "cell_type": "markdown",
      "source": [
        "문자열 문자수 반환"
      ],
      "metadata": {
        "id": "-US4_2OXsQZt"
      }
    },
    {
      "cell_type": "code",
      "source": [
        "x = \"Hello World!\"\n",
        "\n",
        "print(len(x))"
      ],
      "metadata": {
        "colab": {
          "base_uri": "https://localhost:8080/"
        },
        "id": "7hQlskLlmZlT",
        "outputId": "27b40a65-a68b-4161-d69d-ed0c22fecbdc"
      },
      "execution_count": null,
      "outputs": [
        {
          "output_type": "stream",
          "name": "stdout",
          "text": [
            "12\n"
          ]
        }
      ]
    },
    {
      "cell_type": "markdown",
      "source": [
        "로컬 범위"
      ],
      "metadata": {
        "id": "58dT9gOrr3qy"
      }
    },
    {
      "cell_type": "code",
      "source": [
        "def myfunc():\n",
        "  x = 300\n",
        "  print(x)\n",
        "\n",
        "myfunc()"
      ],
      "metadata": {
        "colab": {
          "base_uri": "https://localhost:8080/"
        },
        "id": "a3d0Od8XmbXd",
        "outputId": "368fe230-bfd7-45e4-d750-578e3c14481f"
      },
      "execution_count": null,
      "outputs": [
        {
          "output_type": "stream",
          "name": "stdout",
          "text": [
            "300\n"
          ]
        }
      ]
    },
    {
      "cell_type": "markdown",
      "source": [
        "datetime 모듈을 가져와 현재 날짜 표시"
      ],
      "metadata": {
        "id": "oNY6yAZprHau"
      }
    },
    {
      "cell_type": "code",
      "source": [
        "import datetime\n",
        "\n",
        "x = datetime.datetime.now()\n",
        "print(x)"
      ],
      "metadata": {
        "colab": {
          "base_uri": "https://localhost:8080/"
        },
        "id": "-YZzGeRgmfl4",
        "outputId": "1fc4884d-3e4d-462e-ff67-6ece9ff21efb"
      },
      "execution_count": null,
      "outputs": [
        {
          "output_type": "stream",
          "name": "stdout",
          "text": [
            "2025-06-23 02:37:23.758347\n"
          ]
        }
      ]
    },
    {
      "cell_type": "markdown",
      "source": [
        "항목 내에서 최대 최소값 찾기"
      ],
      "metadata": {
        "id": "v9Hj6CPQrDtL"
      }
    },
    {
      "cell_type": "code",
      "source": [
        "x = min(5, 10, 25)\n",
        "y = max(5, 10, 25)\n",
        "\n",
        "print(x)\n",
        "print(y)"
      ],
      "metadata": {
        "id": "g3uHGXHLpe9y"
      },
      "execution_count": null,
      "outputs": []
    },
    {
      "cell_type": "markdown",
      "source": [
        "JSON에서 Python으로 변환"
      ],
      "metadata": {
        "id": "CKT6EhaWrAwx"
      }
    },
    {
      "cell_type": "code",
      "source": [
        "import json\n",
        "\n",
        "x =  '{ \"name\":\"John\", \"age\":30, \"city\":\"New York\"}'\n",
        "y = json.loads(x)\n",
        "\n",
        "print(y[\"age\"])"
      ],
      "metadata": {
        "id": "KRqmOMmfp0ER"
      },
      "execution_count": null,
      "outputs": []
    },
    {
      "cell_type": "markdown",
      "source": [
        "문자열에서 \"The\"로 시작하고 \"Spain\"으로 끝나는지 확인"
      ],
      "metadata": {
        "id": "2pEp7ulsq84h"
      }
    },
    {
      "cell_type": "code",
      "source": [
        "import re\n",
        "txt = \"The rain in Spain\"\n",
        "x = re.search(\"^The.*Spain$\", txt)\n",
        "if x:\n",
        "  print(\"참\")\n",
        "else:\n",
        "  print(\"거짓\")"
      ],
      "metadata": {
        "colab": {
          "base_uri": "https://localhost:8080/"
        },
        "id": "rEwapTTEqJdj",
        "outputId": "6ac58259-c7f6-46de-e72f-87e9aec6e848"
      },
      "execution_count": null,
      "outputs": [
        {
          "output_type": "stream",
          "name": "stdout",
          "text": [
            "참\n"
          ]
        }
      ]
    },
    {
      "cell_type": "markdown",
      "source": [
        "문자열 포맷팅"
      ],
      "metadata": {
        "id": "v4GIOFsQrnKR"
      }
    },
    {
      "cell_type": "code",
      "source": [
        "txt = f\"The price is {95:.2f} dollars\"\n",
        "print(txt)"
      ],
      "metadata": {
        "colab": {
          "base_uri": "https://localhost:8080/"
        },
        "id": "lXG0OPIbqsyj",
        "outputId": "ee5c3858-7eaf-4111-a5bd-d505e489546b"
      },
      "execution_count": null,
      "outputs": [
        {
          "output_type": "stream",
          "name": "stdout",
          "text": [
            "The price is 95.00 dollars\n"
          ]
        }
      ]
    },
    {
      "cell_type": "markdown",
      "source": [
        "사용자 입력"
      ],
      "metadata": {
        "id": "o_YbsMjgrwrQ"
      }
    },
    {
      "cell_type": "code",
      "source": [
        "print(\"Enter your name:\")\n",
        "name = input()\n",
        "print(f\"Hello {name}\")"
      ],
      "metadata": {
        "colab": {
          "base_uri": "https://localhost:8080/"
        },
        "id": "ftj_5cJKrsuR",
        "outputId": "4fd68adc-9c25-44ff-bfa1-24b3a24f8751"
      },
      "execution_count": null,
      "outputs": [
        {
          "output_type": "stream",
          "name": "stdout",
          "text": [
            "Enter your name:\n",
            "김영빈\n",
            "Hello 김영빈\n"
          ]
        }
      ]
    },
    {
      "cell_type": "code",
      "source": [
        "age = int(input())\n",
        "score = int(input())\n",
        "if (age>=18):\n",
        "  print(\"성인\")\n",
        "  if (score>=80):\n",
        "    print(\"합격\")\n",
        "  else:\n",
        "    print(\"불합격\")\n",
        "else:\n",
        "  print(\"미성년\")"
      ],
      "metadata": {
        "id": "Cmz1fcJww6rF"
      },
      "execution_count": null,
      "outputs": []
    },
    {
      "cell_type": "markdown",
      "source": [
        "키 평균 구하기"
      ],
      "metadata": {
        "id": "h96D2I84zk_p"
      }
    },
    {
      "cell_type": "code",
      "source": [
        "n=3\n",
        "h1 = int(input())\n",
        "h2 = int(input())\n",
        "h3 = int(input())\n",
        "sum = h1 + h2 + h3\n",
        "avg = sum/n\n",
        "print(\"평균 키는 :\",int(avg),\"입니다\")\n"
      ],
      "metadata": {
        "colab": {
          "base_uri": "https://localhost:8080/"
        },
        "id": "OanJ_O1nyXjz",
        "outputId": "e9aef04d-0627-4533-a68e-3165062b53e9"
      },
      "execution_count": 15,
      "outputs": [
        {
          "output_type": "stream",
          "name": "stdout",
          "text": [
            "120\n",
            "180\n",
            "170\n",
            "평균 키는 : 156 입니다\n"
          ]
        }
      ]
    },
    {
      "cell_type": "code",
      "source": [
        "if (h1>=170):\n",
        "  print(\"h1은 키가 크다\")\n",
        "else:\n",
        "  print(\"h1는 키가 작다\")"
      ],
      "metadata": {
        "colab": {
          "base_uri": "https://localhost:8080/"
        },
        "id": "HNy0rQyj1Ypo",
        "outputId": "fa90924b-071d-4f56-af62-b0efe016758b"
      },
      "execution_count": 19,
      "outputs": [
        {
          "output_type": "stream",
          "name": "stdout",
          "text": [
            "h1는 키가 작다\n"
          ]
        }
      ]
    },
    {
      "cell_type": "markdown",
      "source": [
        "자율주행 과속 판단 if문 샘플"
      ],
      "metadata": {
        "id": "_sMakhSv2YaF"
      }
    },
    {
      "cell_type": "code",
      "source": [
        "# 차량의 현재 속도\n",
        "speed = int(input(\"현재 속도를 입력하세요 (km/h): \"))\n",
        "\n",
        "# 제한 속도 설정\n",
        "speed_limit = 60\n",
        "\n",
        "# 조건문으로 속도 판단\n",
        "if speed > speed_limit:\n",
        "    print(\"과속입니다! 속도를 줄이세요.\")\n",
        "elif speed == speed_limit:\n",
        "    print(\"제한 속도입니다. 안전 운전하세요.\")\n",
        "else:\n",
        "    print(\"안전 속도입니다. 계속 운전하세요.\")"
      ],
      "metadata": {
        "colab": {
          "base_uri": "https://localhost:8080/"
        },
        "id": "6y3e_Pew2wJn",
        "outputId": "106317bc-62a6-4464-d79d-d7bf83a35ccc"
      },
      "execution_count": 23,
      "outputs": [
        {
          "output_type": "stream",
          "name": "stdout",
          "text": [
            "현재 속도를 입력하세요 (km/h): 120\n",
            "과속입니다! 속도를 줄이세요.\n"
          ]
        }
      ]
    },
    {
      "cell_type": "markdown",
      "source": [
        "자율주행 신호등 판단 if문 샘플"
      ],
      "metadata": {
        "id": "kue-VrgN23iN"
      }
    },
    {
      "cell_type": "code",
      "source": [
        "# 신호등 색깔 입력 받기\n",
        "light = input(\"신호등 색깔을 입력하세요 (red, yellow, green): \").lower()\n",
        "\n",
        "# 신호등 판단\n",
        "if light == \"red\":\n",
        "    print(\"정지하세요.\")\n",
        "elif light == \"yellow\":\n",
        "    print(\"주의! 천천히 멈추세요.\")\n",
        "elif light == \"green\":\n",
        "    print(\"진행하세요.\")\n",
        "else:\n",
        "    print(\"잘못된 입력입니다. red, yellow, green 중 하나를 입력하세요.\")"
      ],
      "metadata": {
        "colab": {
          "base_uri": "https://localhost:8080/"
        },
        "id": "HxsoG-qZ2706",
        "outputId": "98a83eb9-be56-484e-97e9-5e2313753a71"
      },
      "execution_count": 22,
      "outputs": [
        {
          "output_type": "stream",
          "name": "stdout",
          "text": [
            "신호등 색깔을 입력하세요 (red, yellow, green): green\n",
            "진행하세요.\n"
          ]
        }
      ]
    },
    {
      "cell_type": "code",
      "source": [],
      "metadata": {
        "id": "DCK4m37V3xvz"
      },
      "execution_count": null,
      "outputs": []
    }
  ]
}