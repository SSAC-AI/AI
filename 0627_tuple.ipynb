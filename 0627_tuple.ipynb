{
  "nbformat": 4,
  "nbformat_minor": 0,
  "metadata": {
    "colab": {
      "provenance": [],
      "authorship_tag": "ABX9TyMFYDQEYtIvkYq22sZzkyfY",
      "include_colab_link": true
    },
    "kernelspec": {
      "name": "python3",
      "display_name": "Python 3"
    },
    "language_info": {
      "name": "python"
    }
  },
  "cells": [
    {
      "cell_type": "markdown",
      "metadata": {
        "id": "view-in-github",
        "colab_type": "text"
      },
      "source": [
        "<a href=\"https://colab.research.google.com/github/SSAC-AI/AI/blob/main/0627_tuple.ipynb\" target=\"_parent\"><img src=\"https://colab.research.google.com/assets/colab-badge.svg\" alt=\"Open In Colab\"/></a>"
      ]
    },
    {
      "cell_type": "markdown",
      "source": [
        "1. 튜플 생성"
      ],
      "metadata": {
        "id": "WQVnL9THGdXO"
      }
    },
    {
      "cell_type": "code",
      "execution_count": 1,
      "metadata": {
        "id": "Jf_z6UwbyaeE",
        "colab": {
          "base_uri": "https://localhost:8080/"
        },
        "outputId": "c7ee6061-f17b-40a2-95b5-2bf0152424c6"
      },
      "outputs": [
        {
          "output_type": "stream",
          "name": "stdout",
          "text": [
            "('apple', 'banana', 'cherry')\n"
          ]
        }
      ],
      "source": [
        "thistuple = (\"apple\", \"banana\", \"cherry\")\n",
        "print(thistuple)"
      ]
    },
    {
      "cell_type": "markdown",
      "source": [
        "2. 튜플의 중복 허용"
      ],
      "metadata": {
        "id": "OpdmyzOEGk8_"
      }
    },
    {
      "cell_type": "code",
      "source": [
        "thistuple = (\"apple\", \"banana\", \"cherry\", \"apple\", \"cherry\")\n",
        "print(thistuple)"
      ],
      "metadata": {
        "colab": {
          "base_uri": "https://localhost:8080/"
        },
        "id": "QNeGvuB5GlOE",
        "outputId": "970047d8-77a8-4db3-8ca6-c59d5e26edaf"
      },
      "execution_count": 2,
      "outputs": [
        {
          "output_type": "stream",
          "name": "stdout",
          "text": [
            "('apple', 'banana', 'cherry', 'apple', 'cherry')\n"
          ]
        }
      ]
    },
    {
      "cell_type": "markdown",
      "source": [
        "3, 하나의 항목만 있는 튜플 생성"
      ],
      "metadata": {
        "id": "52GoAKlZG3Um"
      }
    },
    {
      "cell_type": "code",
      "source": [
        "thistuple = (\"apple\",) # 쉼표가 있어야함.\n",
        "print(type(thistuple))"
      ],
      "metadata": {
        "colab": {
          "base_uri": "https://localhost:8080/"
        },
        "id": "nK8Qa77yG3lJ",
        "outputId": "9770eed9-3bdd-46a6-ebd9-516db8346b09"
      },
      "execution_count": 4,
      "outputs": [
        {
          "output_type": "stream",
          "name": "stdout",
          "text": [
            "<class 'tuple'>\n",
            "<class 'str'>\n"
          ]
        }
      ]
    },
    {
      "cell_type": "markdown",
      "source": [
        "4. 튜플 생성자"
      ],
      "metadata": {
        "id": "gXXFvduOHMUe"
      }
    },
    {
      "cell_type": "code",
      "source": [
        "thistuple = tuple((\"apple\", \"banana\", \"cherry\"))\n",
        "print(thistuple)"
      ],
      "metadata": {
        "colab": {
          "base_uri": "https://localhost:8080/"
        },
        "id": "E0_DUQi5HQGq",
        "outputId": "ce2bd07b-5b48-4628-ad94-b161dcf2c4de"
      },
      "execution_count": 6,
      "outputs": [
        {
          "output_type": "stream",
          "name": "stdout",
          "text": [
            "('apple', 'banana', 'cherry')\n"
          ]
        }
      ]
    },
    {
      "cell_type": "markdown",
      "source": [
        "5. 튜플 업데이트"
      ],
      "metadata": {
        "id": "cKNLEK6yIyx0"
      }
    },
    {
      "cell_type": "code",
      "source": [
        "x = (\"apple\", \"banana\", \"cherry\")\n",
        "y = list(x)\n",
        "y[1] = \"kiwi\"\n",
        "x = tuple(y)\n",
        "\n",
        "print(x)"
      ],
      "metadata": {
        "colab": {
          "base_uri": "https://localhost:8080/"
        },
        "id": "w8aVWadbI0Tv",
        "outputId": "0459e3d5-b535-4ae5-c0d6-6fdf4adf9366"
      },
      "execution_count": 7,
      "outputs": [
        {
          "output_type": "stream",
          "name": "stdout",
          "text": [
            "('apple', 'kiwi', 'cherry')\n"
          ]
        }
      ]
    },
    {
      "cell_type": "markdown",
      "source": [
        "6. 튜플 for루프"
      ],
      "metadata": {
        "id": "PE-etkp1I2Aq"
      }
    },
    {
      "cell_type": "code",
      "source": [
        "thistuple = (\"apple\", \"banana\", \"cherry\")\n",
        "for x in thistuple:\n",
        "  print(x)"
      ],
      "metadata": {
        "colab": {
          "base_uri": "https://localhost:8080/"
        },
        "id": "n6wOvBeAI2Qb",
        "outputId": "26dc6ba6-ce4a-4d79-db9b-a75e6ca1b581"
      },
      "execution_count": 8,
      "outputs": [
        {
          "output_type": "stream",
          "name": "stdout",
          "text": [
            "apple\n",
            "banana\n",
            "cherry\n"
          ]
        }
      ]
    },
    {
      "cell_type": "markdown",
      "source": [
        "7. 튜플 while루프"
      ],
      "metadata": {
        "id": "sFsAlR6QJD0t"
      }
    },
    {
      "cell_type": "code",
      "source": [
        "thistuple = (\"apple\", \"banana\", \"cherry\")\n",
        "i = 0\n",
        "while i < len(thistuple):\n",
        "  print(thistuple[i])\n",
        "  i = i + 1"
      ],
      "metadata": {
        "colab": {
          "base_uri": "https://localhost:8080/"
        },
        "id": "H3VHwggKJJhz",
        "outputId": "44213355-6d83-4338-cee6-e59d35c77d3f"
      },
      "execution_count": 9,
      "outputs": [
        {
          "output_type": "stream",
          "name": "stdout",
          "text": [
            "apple\n",
            "banana\n",
            "cherry\n"
          ]
        }
      ]
    },
    {
      "cell_type": "markdown",
      "source": [
        "예제 1. 경로 데이터 저장 및 출력"
      ],
      "metadata": {
        "id": "C2TCwzPoJN8C"
      }
    },
    {
      "cell_type": "code",
      "source": [
        "# 주행 경로 저장 (각 위치는 튜플, 전체 경로는 리스트로 저장)\n",
        "path = [\n",
        "    (37.5665, 126.9780),\n",
        "    (37.5651, 126.9895),\n",
        "    (37.5610, 127.0025)\n",
        "]\n",
        "\n",
        "# 차량 정보와 경로를 딕셔너리에 저장\n",
        "car_info = {\n",
        "    \"id\": \"BMW\",\n",
        "    \"driver_mode\": \"자율\",\n",
        "    \"경로\": path\n",
        "}\n",
        "\n",
        "# 출력\n",
        "print(f\"차량 ID: {car_info['id']}, 모드: {car_info['driver_mode']}\")\n",
        "print(\"경로:\")\n",
        "for lat, lon in car_info[\"경로\"]:\n",
        "    print(f\" - 위도: {lat}, 경도: {lon}\")"
      ],
      "metadata": {
        "colab": {
          "base_uri": "https://localhost:8080/"
        },
        "id": "_ETYX2seQ7Ae",
        "outputId": "8328cd32-1244-4980-e33f-7e4509f299de"
      },
      "execution_count": 11,
      "outputs": [
        {
          "output_type": "stream",
          "name": "stdout",
          "text": [
            "차량 ID: BMW, 모드: 자율\n",
            "경로:\n",
            " - 위도: 37.5665, 경도: 126.978\n",
            " - 위도: 37.5651, 경도: 126.9895\n",
            " - 위도: 37.561, 경도: 127.0025\n"
          ]
        }
      ]
    },
    {
      "cell_type": "markdown",
      "source": [
        "예제 2. 센서 정보"
      ],
      "metadata": {
        "id": "qVtivrlqRGSI"
      }
    },
    {
      "cell_type": "code",
      "source": [
        "# 각 센서 정보를 딕셔너리로 표현, 전체는 리스트\n",
        "sensors = [\n",
        "    {\"위치\": \"전방\", \"데이터\": (True, 80)},\n",
        "    {\"위치\": \"후방\", \"데이터\": (False, 0)},\n",
        "    {\"위치\": \"좌측\", \"데이터\": (True, 45)},\n",
        "    {\"위치\": \"우측\", \"데이터\": (True, 60)},\n",
        "]\n",
        "\n",
        "for sensor in sensors:\n",
        "    감지됨, 거리 = sensor[\"데이터\"]\n",
        "    상태 = \"장애물 감지됨\" if 감지됨 else \"정상\"\n",
        "    print(f\"[{sensor['위치']}] {상태} → 거리: {거리}cm\")"
      ],
      "metadata": {
        "colab": {
          "base_uri": "https://localhost:8080/"
        },
        "id": "w4tymuEURFmj",
        "outputId": "c2b2a0c2-272c-4bd8-ae9a-c75e192fcfd0"
      },
      "execution_count": 13,
      "outputs": [
        {
          "output_type": "stream",
          "name": "stdout",
          "text": [
            "[전방] 장애물 감지됨 → 거리: 80cm\n",
            "[후방] 정상 → 거리: 0cm\n",
            "[좌측] 장애물 감지됨 → 거리: 45cm\n",
            "[우측] 장애물 감지됨 → 거리: 60cm\n"
          ]
        }
      ]
    },
    {
      "cell_type": "markdown",
      "source": [
        "예제 3. 차량 속도 및 상태 기록"
      ],
      "metadata": {
        "id": "XD_YXaW_ROmN"
      }
    },
    {
      "cell_type": "code",
      "source": [
        "# 시간별 상태 기록 (리스트 안에 딕셔너리, 튜플 포함)\n",
        "log = [\n",
        "    {\"시간\": \"08:00\", \"속도\": 0, \"위치\": (37.5665, 126.9780)},\n",
        "    {\"시간\": \"08:01\", \"속도\": 20, \"위치\": (37.5651, 126.9895)},\n",
        "    {\"시간\": \"08:02\", \"속도\": 40, \"위치\": (37.5610, 127.0025)},\n",
        "]\n",
        "\n",
        "for record in log:\n",
        "    print(f\"{record['시간']} → 속도: {record['속도']}km/h, 위치: {record['위치']}\")"
      ],
      "metadata": {
        "colab": {
          "base_uri": "https://localhost:8080/"
        },
        "id": "G97SZYhTRRnN",
        "outputId": "c1ccce91-103f-4726-d5c6-6297d23bd9ac"
      },
      "execution_count": 14,
      "outputs": [
        {
          "output_type": "stream",
          "name": "stdout",
          "text": [
            "08:00 → 속도: 0km/h, 위치: (37.5665, 126.978)\n",
            "08:01 → 속도: 20km/h, 위치: (37.5651, 126.9895)\n",
            "08:02 → 속도: 40km/h, 위치: (37.561, 127.0025)\n"
          ]
        }
      ]
    },
    {
      "cell_type": "markdown",
      "source": [
        "예제 4. 표지판 인식 처리"
      ],
      "metadata": {
        "id": "D-cf4mWoRYmY"
      }
    },
    {
      "cell_type": "code",
      "source": [
        "signs = [\n",
        "    {\"종류\": \"속도제한\", \"값\": (30,)},\n",
        "    {\"종류\": \"정지\", \"값\": ()},\n",
        "    {\"종류\": \"우회전\", \"값\": ()}\n",
        "]\n",
        "\n",
        "for sign in signs:\n",
        "    if sign[\"종류\"] == \"속도제한\":\n",
        "        print(f\"속도 제한 표지판: {sign['값'][0]}km/h\")\n",
        "    else:\n",
        "        print(f\"{sign['종류']} 표지판 인식 → 행동 수행\")"
      ],
      "metadata": {
        "colab": {
          "base_uri": "https://localhost:8080/"
        },
        "id": "JGHSh4JcRYzB",
        "outputId": "dd99be9d-47ac-4b04-e3af-4cd7781c32b5"
      },
      "execution_count": 15,
      "outputs": [
        {
          "output_type": "stream",
          "name": "stdout",
          "text": [
            "속도 제한 표지판: 30km/h\n",
            "정지 표지판 인식 → 행동 수행\n",
            "우회전 표지판 인식 → 행동 수행\n"
          ]
        }
      ]
    },
    {
      "cell_type": "markdown",
      "source": [
        "예제 5. 차량 장애물 대응"
      ],
      "metadata": {
        "id": "9O5ptuzYRuIA"
      }
    },
    {
      "cell_type": "code",
      "source": [
        "# 장애물 데이터: 리스트 안에 딕셔너리, 각 딕셔너리에는 위치(str)와 값(튜플: 감지 여부, 거리)\n",
        "obstacle_data = [\n",
        "    {\"위치\": \"전방\", \"데이터\": (True, 30)},\n",
        "    {\"위치\": \"좌측\", \"데이터\": (False, 0)},\n",
        "    {\"위치\": \"우측\", \"데이터\": (True, 60)},\n",
        "    {\"위치\": \"후방\", \"데이터\": (False, 0)}\n",
        "]\n",
        "\n",
        "# 각 방향별 판단 출력\n",
        "for sensor in obstacle_data:\n",
        "    방향 = sensor[\"위치\"]\n",
        "    감지됨, 거리 = sensor[\"데이터\"]\n",
        "\n",
        "    if 감지됨:\n",
        "        print(f\"[경고] {방향}에 장애물 감지됨! 거리: {거리}cm → 감속 또는 정지\")\n",
        "    else:\n",
        "        print(f\"{방향} 감지: 이상 없음\")"
      ],
      "metadata": {
        "colab": {
          "base_uri": "https://localhost:8080/"
        },
        "id": "mon0KH1XRtu6",
        "outputId": "5024acb7-2f30-4c7e-cfc5-a6d6c549054f"
      },
      "execution_count": 16,
      "outputs": [
        {
          "output_type": "stream",
          "name": "stdout",
          "text": [
            "[경고] 전방에 장애물 감지됨! 거리: 30cm → 감속 또는 정지\n",
            "좌측 감지: 이상 없음\n",
            "[경고] 우측에 장애물 감지됨! 거리: 60cm → 감속 또는 정지\n",
            "후방 감지: 이상 없음\n"
          ]
        }
      ]
    }
  ]
}