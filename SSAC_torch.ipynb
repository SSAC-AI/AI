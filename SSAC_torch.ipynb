{
  "nbformat": 4,
  "nbformat_minor": 0,
  "metadata": {
    "colab": {
      "provenance": [],
      "gpuType": "T4",
      "mount_file_id": "1eRvwcbqGkCEw4ZnavpDgQYeu8080bUta",
      "authorship_tag": "ABX9TyOcY9GQSoIQa40T3I3c1I4H",
      "include_colab_link": true
    },
    "kernelspec": {
      "name": "python3",
      "display_name": "Python 3"
    },
    "language_info": {
      "name": "python"
    },
    "accelerator": "GPU"
  },
  "cells": [
    {
      "cell_type": "markdown",
      "metadata": {
        "id": "view-in-github",
        "colab_type": "text"
      },
      "source": [
        "<a href=\"https://colab.research.google.com/github/SSAC-AI/AI/blob/main/SSAC_torch.ipynb\" target=\"_parent\"><img src=\"https://colab.research.google.com/assets/colab-badge.svg\" alt=\"Open In Colab\"/></a>"
      ]
    },
    {
      "cell_type": "code",
      "source": [
        "import torch\n",
        "import torch.nn as nn\n",
        "import torch.nn.functional as F\n",
        "import torch.optim as optim\n",
        "from torchvision import datasets, transforms\n",
        "from torch.utils.data import DataLoader\n",
        "import matplotlib.pyplot as plt\n",
        "import time\n",
        "\n",
        "# 1. 데이터 로딩 및 전처리\n",
        "transform = transforms.ToTensor()\n",
        "\n",
        "train_dataset = datasets.MNIST(root='./data', train=True, download=True, transform=transform)\n",
        "test_dataset = datasets.MNIST(root='./data', train=False, download=True, transform=transform)\n",
        "\n",
        "train_loader = DataLoader(dataset=train_dataset, batch_size=50, shuffle=True)\n",
        "test_loader = DataLoader(dataset=test_dataset, batch_size=50, shuffle=False)\n",
        "\n",
        "# 2. 모델 정의 (1 hidden layer, sigmoid)\n",
        "class MLP(nn.Module):\n",
        "    def __init__(self):\n",
        "        super(MLP, self).__init__()\n",
        "        self.hidden = nn.Linear(28*28, 100)  # 입력 784 → 은닉층 100\n",
        "        self.output = nn.Linear(100, 10)     # 은닉층 100 → 출력층 10\n",
        "\n",
        "    def forward(self, x):\n",
        "        x = x.view(-1, 28*28)               # [batch, 1, 28, 28] → [batch, 784]\n",
        "        x = torch.sigmoid(self.hidden(x))  # 은닉층 + sigmoid 활성화\n",
        "        x = self.output(x)                 # 출력층 (softmax는 loss에서 처리)\n",
        "        return x\n",
        "\n",
        "# 3. 모델, 손실함수, 옵티마이저 설정\n",
        "model = MLP()\n",
        "criterion = nn.CrossEntropyLoss()                  # 내부적으로 softmax 포함\n",
        "optimizer = optim.Adam(model.parameters(), lr=0.0001)\n",
        "\n",
        "# 4. 학습 설정\n",
        "n_iter = 50001\n",
        "print_interval = 5000\n",
        "\n",
        "# 5. 학습 루프\n",
        "loss_record_train = []\n",
        "loss_record_test = []\n",
        "start_time = time.time()\n",
        "\n",
        "step = 0\n",
        "model.train()\n",
        "for epoch in range(10):  # epoch 수는 충분히 크게 설정 (step 제한 있음)\n",
        "    for images, labels in train_loader:\n",
        "        outputs = model(images)                      # forward\n",
        "        loss = criterion(outputs, labels)            # 손실 계산\n",
        "        optimizer.zero_grad()                        # 기울기 초기화\n",
        "        loss.backward()                              # 역전파\n",
        "        optimizer.step()                             # 가중치 업데이트\n",
        "\n",
        "        # 일정 간격마다 학습 & 테스트 손실 기록\n",
        "        if step % print_interval == 0:\n",
        "            # 학습 손실\n",
        "            loss_train = loss.item()\n",
        "            loss_record_train.append(loss_train)\n",
        "\n",
        "            # 테스트 손실 측정\n",
        "            model.eval()\n",
        "            test_images, test_labels = next(iter(test_loader))\n",
        "            with torch.no_grad():\n",
        "                test_outputs = model(test_images)\n",
        "                loss_test = criterion(test_outputs, test_labels).item()\n",
        "                loss_record_test.append(loss_test)\n",
        "            model.train()\n",
        "\n",
        "            # 출력\n",
        "            print(f\"[Step {step}] Train Loss: {loss_train:.4f}, Test Loss: {loss_test:.4f}\")\n",
        "\n",
        "        step += 1\n",
        "        if step > n_iter:\n",
        "            break\n",
        "    if step > n_iter:\n",
        "        break\n",
        "\n",
        "training_time = time.time() - start_time\n",
        "print(f\"\\n⏱ Training Time: {training_time:.2f} seconds\")\n",
        "\n",
        "# 6. 손실 그래프 출력\n",
        "plt.plot([i * print_interval for i in range(len(loss_record_train))], loss_record_train, label='Training')\n",
        "plt.plot([i * print_interval for i in range(len(loss_record_test))], loss_record_test, label='Testing')\n",
        "plt.xlabel('Iterations', fontsize=15)\n",
        "plt.ylabel('Loss', fontsize=15)\n",
        "plt.legend(fontsize=12)\n",
        "plt.ylim([0, max(loss_record_train)])\n",
        "plt.savefig('Example5_MLP_training.jpeg', dpi=300)\n",
        "plt.show()\n",
        "\n",
        "# 7. 정확도 측정 (선택)\n",
        "model.eval()\n",
        "correct = 0\n",
        "total = 0\n",
        "with torch.no_grad():\n",
        "    for images, labels in test_loader:\n",
        "        outputs = model(images)\n",
        "        predicted = torch.argmax(outputs, dim=1)\n",
        "        correct += (predicted == labels).sum().item()\n",
        "        total += labels.size(0)\n",
        "\n",
        "accuracy = 100 * correct / total\n",
        "print(f\"\\n✅ Final Test Accuracy: {accuracy:.2f}%\")"
      ],
      "metadata": {
        "colab": {
          "base_uri": "https://localhost:8080/",
          "height": 662
        },
        "id": "Tl6HqNvnSH4o",
        "outputId": "65393048-27dd-49d3-fb60-206561255137"
      },
      "execution_count": 2,
      "outputs": [
        {
          "output_type": "stream",
          "name": "stderr",
          "text": [
            "100%|██████████| 9.91M/9.91M [00:00<00:00, 16.4MB/s]\n",
            "100%|██████████| 28.9k/28.9k [00:00<00:00, 497kB/s]\n",
            "100%|██████████| 1.65M/1.65M [00:00<00:00, 4.52MB/s]\n",
            "100%|██████████| 4.54k/4.54k [00:00<00:00, 10.5MB/s]\n"
          ]
        },
        {
          "output_type": "stream",
          "name": "stdout",
          "text": [
            "[Step 0] Train Loss: 2.3568, Test Loss: 2.4428\n",
            "[Step 5000] Train Loss: 0.1935, Test Loss: 0.2791\n",
            "[Step 10000] Train Loss: 0.3583, Test Loss: 0.1805\n",
            "\n",
            "⏱ Training Time: 85.86 seconds\n"
          ]
        },
        {
          "output_type": "display_data",
          "data": {
            "text/plain": [
              "<Figure size 640x480 with 1 Axes>"
            ],
            "image/png": "[encoded data removed]"
          },
          "metadata": {}
        },
        {
          "output_type": "stream",
          "name": "stdout",
          "text": [
            "\n",
            "✅ Final Test Accuracy: 93.10%\n"
          ]
        }
      ]
    },
    {
      "cell_type": "code",
      "source": [
        "import torch\n",
        "import numpy as np\n",
        "import matplotlib.pyplot as plt\n",
        "\n",
        "# 1. 전체 테스트 세트 정확도 측정\n",
        "model.eval()  # 평가 모드로 전환 (Dropout/BN 비활성화 등)\n",
        "correct = 0\n",
        "total = 0\n",
        "\n",
        "with torch.no_grad():  # 기울기 계산 비활성화 (메모리 절약)\n",
        "    for images, labels in test_loader:\n",
        "        outputs = model(images)\n",
        "        predicted = torch.argmax(outputs, dim=1)\n",
        "        total += labels.size(0)\n",
        "        correct += (predicted == labels).sum().item()\n",
        "\n",
        "accuracy = 100 * correct / total\n",
        "print(\"Accuracy : {:.2f}%\".format(accuracy))\n",
        "\n",
        "# 2. 이미지 1개 예측 및 시각화\n",
        "model.eval()\n",
        "with torch.no_grad():\n",
        "    image, label = next(iter(test_loader))  # 배치 중 1개 가져오기\n",
        "    image = image[0].unsqueeze(0)  # [1, 1, 28, 28]\n",
        "    label = label[0].item()\n",
        "\n",
        "    output = model(image)\n",
        "    probs = torch.softmax(output, dim=1).squeeze().numpy()\n",
        "    prediction = np.argmax(probs)\n",
        "\n",
        "    # 이미지 시각화\n",
        "    plt.figure(figsize=(6, 6))\n",
        "    plt.imshow(image.squeeze().numpy(), cmap='gray')\n",
        "    plt.xticks([])\n",
        "    plt.yticks([])\n",
        "    plt.title(f\"Prediction: {prediction}\", fontsize=16)\n",
        "    plt.show()\n",
        "\n",
        "    # 확률 출력\n",
        "    np.set_printoptions(precision=2, suppress=True)\n",
        "    print(f'Probability: {probs}')"
      ],
      "metadata": {
        "colab": {
          "base_uri": "https://localhost:8080/",
          "height": 561
        },
        "id": "V_eytFW0ejHo",
        "outputId": "9ac4b6ca-c9b6-4627-c6cb-b6c64ef876cf"
      },
      "execution_count": null,
      "outputs": [
        {
          "output_type": "stream",
          "name": "stdout",
          "text": [
            "Accuracy : 92.97%\n"
          ]
        },
        {
          "output_type": "display_data",
          "data": {
            "text/plain": [
              "<Figure size 600x600 with 1 Axes>"
            ],
            "image/png": "[encoded data removed]"
          },
          "metadata": {}
        },
        {
          "output_type": "stream",
          "name": "stdout",
          "text": [
            "Probability: [0. 0. 0. 0. 0. 0. 0. 1. 0. 0.]\n"
          ]
        }
      ]
    },
    {
      "cell_type": "markdown",
      "source": [
        "CNN Structure"
      ],
      "metadata": {
        "id": "czQ4WnngWy_y"
      }
    },
    {
      "cell_type": "code",
      "source": [
        "class CNN(nn.Module):\n",
        "    def __init__(self):\n",
        "        super(CNN, self).__init__()\n",
        "\n",
        "        # 1st Convolution Layer: input (1, 28, 28) → output (32, 28, 28)\n",
        "        self.conv1 = nn.Conv2d(in_channels=1, out_channels=32, kernel_size=3, padding=1)\n",
        "        self.pool1 = nn.MaxPool2d(kernel_size=2, stride=2)  # (32, 14, 14)\n",
        "\n",
        "        # 2nd Convolution Layer: input (32, 14, 14) → output (64, 14, 14)\n",
        "        self.conv2 = nn.Conv2d(in_channels=32, out_channels=64, kernel_size=3, padding=1)\n",
        "        self.pool2 = nn.MaxPool2d(kernel_size=2, stride=2)  # (64, 7, 7)\n",
        "\n",
        "        # Fully Connected Layers\n",
        "        self.fc1 = nn.Linear(64 * 7 * 7, 100)\n",
        "        self.fc2 = nn.Linear(100, 10)\n",
        "\n",
        "    def forward(self, x):\n",
        "        x = F.relu(self.conv1(x))  # (32, 28, 28)\n",
        "        x = self.pool1(x)          # (32, 14, 14)\n",
        "\n",
        "        x = F.relu(self.conv2(x))  # (64, 14, 14)\n",
        "        x = self.pool2(x)          # (64, 7, 7)\n",
        "\n",
        "        x = x.view(x.size(0), -1)  # Flatten: (batch_size, 64*7*7)\n",
        "        x = F.relu(self.fc1(x))    # (batch_size, 100)\n",
        "        x = self.fc2(x)            # (batch_size, 10)\n",
        "\n",
        "        return x\n",
        "\n",
        "model = CNN()\n",
        "print(model)\n",
        "\n",
        "sample_input = torch.randn(16, 1, 28, 28)\n",
        "output = model(sample_input)\n",
        "\n",
        "print(output.shape)"
      ],
      "metadata": {
        "colab": {
          "base_uri": "https://localhost:8080/"
        },
        "id": "uwNw9JtYW2aK",
        "outputId": "1a9ca81c-8d87-4d7b-8bc3-8d1772b87053"
      },
      "execution_count": 4,
      "outputs": [
        {
          "output_type": "stream",
          "name": "stdout",
          "text": [
            "CNN(\n",
            "  (conv1): Conv2d(1, 32, kernel_size=(3, 3), stride=(1, 1), padding=(1, 1))\n",
            "  (pool1): MaxPool2d(kernel_size=2, stride=2, padding=0, dilation=1, ceil_mode=False)\n",
            "  (conv2): Conv2d(32, 64, kernel_size=(3, 3), stride=(1, 1), padding=(1, 1))\n",
            "  (pool2): MaxPool2d(kernel_size=2, stride=2, padding=0, dilation=1, ceil_mode=False)\n",
            "  (fc1): Linear(in_features=3136, out_features=100, bias=True)\n",
            "  (fc2): Linear(in_features=100, out_features=10, bias=True)\n",
            ")\n",
            "torch.Size([16, 10])\n"
          ]
        }
      ]
    },
    {
      "cell_type": "code",
      "source": [
        "class CNNModel(nn.Module):\n",
        "    def __init__(self):\n",
        "        super(CNNModel, self).__init__()\n",
        "\n",
        "        # Convolution Layer 1: (1 input channel → 32 output channels, 3x3 kernel, padding=1)\n",
        "        self.conv1 = nn.Conv2d(in_channels=1, out_channels=32, kernel_size=3, padding=1)\n",
        "\n",
        "        # Convolution Layer 2: (32 → 64)\n",
        "        self.conv2 = nn.Conv2d(in_channels=32, out_channels=64, kernel_size=3, padding=1)\n",
        "\n",
        "        # Pooling Layer\n",
        "        self.pool = nn.MaxPool2d(kernel_size=2, stride=2)\n",
        "\n",
        "        # Fully Connected Layers\n",
        "        # 이미지 크기 28x28 → 풀링 2번 후 7x7 → 7x7x64 = 3136\n",
        "        self.fc1 = nn.Linear(in_features=7*7*64, out_features=100)\n",
        "        self.fc2 = nn.Linear(in_features=100, out_features=10)\n",
        "\n",
        "    def forward(self, x):\n",
        "        # Conv1 + ReLU + Pool\n",
        "        x = self.pool(F.relu(self.conv1(x)))\n",
        "\n",
        "        # Conv2 + ReLU + Pool\n",
        "        x = self.pool(F.relu(self.conv2(x)))\n",
        "\n",
        "        # Flatten\n",
        "        x = x.view(x.size(0), -1)  # [batch_size, 3136]\n",
        "\n",
        "        # FC1 + ReLU\n",
        "        x = F.relu(self.fc1(x))\n",
        "\n",
        "        # FC2 (Output)\n",
        "        x = self.fc2(x)\n",
        "        return x\n",
        "\n",
        "model = CNNModel()\n",
        "\n",
        "# 손실 함수와 옵티마이저 정의\n",
        "criterion = nn.CrossEntropyLoss()  # 다중 클래스 분류용\n",
        "optimizer = torch.optim.Adam(model.parameters(), lr=0.0001)\n",
        "\n",
        "# 데이터 예시 (MNIST처럼 1채널 28x28 입력)\n",
        "x = torch.randn(16, 1, 28, 28)  # [batch_size, channels, height, width]\n",
        "output = model(x)\n",
        "print(\"Output shape:\", output.shape)  # torch.Size([16, 10])"
      ],
      "metadata": {
        "colab": {
          "base_uri": "https://localhost:8080/"
        },
        "id": "xfWpaRwNZ9RD",
        "outputId": "3508434e-3c26-460e-dfb1-596e06b1f9d9"
      },
      "execution_count": 5,
      "outputs": [
        {
          "output_type": "stream",
          "name": "stdout",
          "text": [
            "Output shape: torch.Size([16, 10])\n"
          ]
        }
      ]
    },
    {
      "cell_type": "code",
      "source": [
        "import numpy as np\n",
        "\n",
        "model.eval()\n",
        "\n",
        "# MNIST test_loader에서 한 배치 가져오기\n",
        "with torch.no_grad():\n",
        "    image_batch, label_batch = next(iter(test_loader))  # [batch, 1, 28, 28]\n",
        "    image = image_batch[0].unsqueeze(0)  # [1, 1, 28, 28]\n",
        "    true_label = label_batch[0].item()\n",
        "\n",
        "    # 예측\n",
        "    output = model(image)\n",
        "    probs = torch.softmax(output, dim=1).squeeze().numpy()\n",
        "    prediction = np.argmax(probs)\n",
        "\n",
        "# 🔍 이미지 시각화\n",
        "plt.figure(figsize=(6, 6))\n",
        "plt.imshow(image.squeeze().numpy(), cmap='gray')\n",
        "plt.title(f\"Prediction: {prediction} (True: {true_label})\", fontsize=16)\n",
        "plt.xticks([])\n",
        "plt.yticks([])\n",
        "plt.show()\n",
        "\n",
        "# 🔢 확률 출력\n",
        "np.set_printoptions(precision=2, suppress=True)\n",
        "print(\"Class Probabilities:\", probs)"
      ],
      "metadata": {
        "colab": {
          "base_uri": "https://localhost:8080/",
          "height": 542
        },
        "id": "yBzFg8U6bW_R",
        "outputId": "faa7a15e-21dc-4e28-e74c-1e1bc8b4e24b"
      },
      "execution_count": 9,
      "outputs": [
        {
          "output_type": "display_data",
          "data": {
            "text/plain": [
              "<Figure size 600x600 with 1 Axes>"
            ],
            "image/png": "[encoded data removed]"
          },
          "metadata": {}
        },
        {
          "output_type": "stream",
          "name": "stdout",
          "text": [
            "Class Probabilities: [0.11 0.1  0.09 0.1  0.11 0.12 0.09 0.1  0.1  0.09]\n"
          ]
        }
      ]
    },
    {
      "cell_type": "code",
      "source": [
        "import torch\n",
        "import torch.nn as nn\n",
        "import torch.nn.functional as F\n",
        "\n",
        "class MyCNN(nn.Module):\n",
        "    def __init__(self):\n",
        "        super(MyCNN, self).__init__()\n",
        "\n",
        "        # 1st Convolution Layer: input channels=1, output channels=32, kernel size=3x3\n",
        "        self.conv1 = nn.Conv2d(in_channels=1, out_channels=32, kernel_size=3, padding=1)  # SAME padding\n",
        "\n",
        "        # 2nd Convolution Layer: input channels=32, output channels=64, kernel size=3x3\n",
        "        self.conv2 = nn.Conv2d(in_channels=32, out_channels=64, kernel_size=3, padding=1)  # SAME padding\n",
        "\n",
        "        # MaxPool layers (kernel size=2x2, stride=2)\n",
        "        self.pool = nn.MaxPool2d(kernel_size=2, stride=2)  # VALID padding by default\n",
        "\n",
        "        # After 2 maxpools (each halves the size): 28x28 → 14x14 → 7x7\n",
        "        # Flattened size = 7*7*64 = 3136\n",
        "        self.fc1 = nn.Linear(in_features=7*7*64, out_features=100)  # Hidden layer\n",
        "        self.fc2 = nn.Linear(in_features=100, out_features=10)      # Output layer (10 classes)\n",
        "\n",
        "    def forward(self, x):\n",
        "        # Input shape: [batch_size, 1, 28, 28]\n",
        "\n",
        "        x = self.conv1(x)             # Conv1\n",
        "        x = F.relu(x)\n",
        "        x = self.pool(x)              # MaxPool1\n",
        "\n",
        "        x = self.conv2(x)             # Conv2\n",
        "        x = F.relu(x)\n",
        "        x = self.pool(x)              # MaxPool2\n",
        "\n",
        "        x = x.view(x.size(0), -1)     # Flatten\n",
        "        x = self.fc1(x)               # Fully Connected Hidden\n",
        "        x = F.relu(x)\n",
        "        x = self.fc2(x)               # Output (logits)\n",
        "\n",
        "        return x\n",
        "\n",
        "if __name__ == \"__main__\":\n",
        "    model = MyCNN()\n",
        "    sample_input = torch.randn(1, 1, 28, 28)  # [batch_size, channels, height, width]\n",
        "    output = model(sample_input)\n",
        "    print(output.shape)  # torch.Size([1, 10])"
      ],
      "metadata": {
        "colab": {
          "base_uri": "https://localhost:8080/"
        },
        "id": "XueFSUhae33Z",
        "outputId": "b6f9d7a0-a6d9-4cce-a04e-fd465f046a5f"
      },
      "execution_count": 11,
      "outputs": [
        {
          "output_type": "stream",
          "name": "stdout",
          "text": [
            "torch.Size([1, 10])\n"
          ]
        }
      ]
    }
  ]
}