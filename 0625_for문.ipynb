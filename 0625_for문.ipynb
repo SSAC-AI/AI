{
  "nbformat": 4,
  "nbformat_minor": 0,
  "metadata": {
    "colab": {
      "provenance": [],
      "authorship_tag": "ABX9TyNyECci6xHkYQjuaRKmtUg6",
      "include_colab_link": true
    },
    "kernelspec": {
      "name": "python3",
      "display_name": "Python 3"
    },
    "language_info": {
      "name": "python"
    }
  },
  "cells": [
    {
      "cell_type": "markdown",
      "metadata": {
        "id": "view-in-github",
        "colab_type": "text"
      },
      "source": [
        "<a href=\"https://colab.research.google.com/github/SSAC-AI/AI/blob/main/0625_for%EB%AC%B8.ipynb\" target=\"_parent\"><img src=\"https://colab.research.google.com/assets/colab-badge.svg\" alt=\"Open In Colab\"/></a>"
      ]
    },
    {
      "cell_type": "markdown",
      "source": [
        "1. for문으로 목록에 있는 각 과일 인쇄하기"
      ],
      "metadata": {
        "id": "v52qrWty3rkQ"
      }
    },
    {
      "cell_type": "code",
      "execution_count": 1,
      "metadata": {
        "colab": {
          "base_uri": "https://localhost:8080/"
        },
        "id": "jwb3f7vw3hUJ",
        "outputId": "6d3149ac-3db0-48f7-dd9a-aaa47d86f75d"
      },
      "outputs": [
        {
          "output_type": "stream",
          "name": "stdout",
          "text": [
            "apple\n",
            "banana\n",
            "cherry\n"
          ]
        }
      ],
      "source": [
        "fruits = [\"apple\",\"banana\",\"cherry\"]\n",
        "for x in fruits:\n",
        "  print(x)"
      ]
    },
    {
      "cell_type": "markdown",
      "source": [
        "2. for문으로 문자열 반복"
      ],
      "metadata": {
        "id": "qXJYfio94OfQ"
      }
    },
    {
      "cell_type": "code",
      "source": [
        "for x in \"banana\":\n",
        "  print(x)"
      ],
      "metadata": {
        "colab": {
          "base_uri": "https://localhost:8080/"
        },
        "id": "LT51xb2z4OOS",
        "outputId": "29e5a8f9-08ec-4ce0-ae73-8b95254a1fe9"
      },
      "execution_count": 2,
      "outputs": [
        {
          "output_type": "stream",
          "name": "stdout",
          "text": [
            "b\n",
            "a\n",
            "n\n",
            "a\n",
            "n\n",
            "a\n"
          ]
        }
      ]
    },
    {
      "cell_type": "markdown",
      "source": [
        "3. break문 (원하는 조건에 루프를 종료)"
      ],
      "metadata": {
        "id": "L29iCAr74TjO"
      }
    },
    {
      "cell_type": "code",
      "source": [
        "fruits = [\"apple\", \"banana\", \"cherry\"]\n",
        "for x in fruits:\n",
        "  print(x)\n",
        "  if x == \"banana\":\n",
        "    break"
      ],
      "metadata": {
        "colab": {
          "base_uri": "https://localhost:8080/"
        },
        "id": "a43_o2B44TV1",
        "outputId": "b79cd773-9127-4b17-ba4b-3de93df25f8e"
      },
      "execution_count": 6,
      "outputs": [
        {
          "output_type": "stream",
          "name": "stdout",
          "text": [
            "apple\n",
            "banana\n"
          ]
        }
      ]
    },
    {
      "cell_type": "markdown",
      "source": [
        "4. break문 뒤에 print를 작성할 경우"
      ],
      "metadata": {
        "id": "3q5m_EcV4i6t"
      }
    },
    {
      "cell_type": "code",
      "source": [
        "fruits = [\"apple\", \"banana\", \"cherry\"]\n",
        "for x in fruits:\n",
        "  if x == \"banana\":\n",
        "    break\n",
        "  print(x)"
      ],
      "metadata": {
        "colab": {
          "base_uri": "https://localhost:8080/"
        },
        "id": "GiGY0JAj4isJ",
        "outputId": "3c93342c-c35f-4960-c69b-9a207d93b61f"
      },
      "execution_count": 7,
      "outputs": [
        {
          "output_type": "stream",
          "name": "stdout",
          "text": [
            "apple\n"
          ]
        }
      ]
    },
    {
      "cell_type": "markdown",
      "source": [
        "5. continue문"
      ],
      "metadata": {
        "id": "QOQJDE--4yvU"
      }
    },
    {
      "cell_type": "code",
      "source": [
        "fruits = [\"apple\", \"banana\", \"cherry\"]\n",
        "for x in fruits:\n",
        "  if x == \"banana\":\n",
        "    continue\n",
        "  print(x)"
      ],
      "metadata": {
        "colab": {
          "base_uri": "https://localhost:8080/"
        },
        "id": "ZHnOyuw746pM",
        "outputId": "b9e20e98-4734-489f-df1f-5a5fc3f03413"
      },
      "execution_count": 8,
      "outputs": [
        {
          "output_type": "stream",
          "name": "stdout",
          "text": [
            "apple\n",
            "cherry\n"
          ]
        }
      ]
    },
    {
      "cell_type": "markdown",
      "source": [
        "6. for문을 이용한 자율주행 코드(센서 거리 기반 속도 제어)"
      ],
      "metadata": {
        "id": "baFazcL05NAK"
      }
    },
    {
      "cell_type": "code",
      "source": [
        "distances = [100, 80, 60, 40, 20]\n",
        "\n",
        "for distance in distances:\n",
        "    if distance > 70:\n",
        "        speed = 50\n",
        "    elif distance > 40:\n",
        "        speed = 30\n",
        "    else:\n",
        "        speed = 10\n",
        "    print(f\"거리: {distance}cm → 속도 조절: {speed} km/h\")"
      ],
      "metadata": {
        "colab": {
          "base_uri": "https://localhost:8080/"
        },
        "id": "rcm_9qk55MhE",
        "outputId": "68519e2f-cd85-4637-85c5-ec555d756166"
      },
      "execution_count": 10,
      "outputs": [
        {
          "output_type": "stream",
          "name": "stdout",
          "text": [
            "거리: 100cm → 속도 조절: 50 km/h\n",
            "거리: 80cm → 속도 조절: 50 km/h\n",
            "거리: 60cm → 속도 조절: 30 km/h\n",
            "거리: 40cm → 속도 조절: 10 km/h\n",
            "거리: 20cm → 속도 조절: 10 km/h\n"
          ]
        }
      ]
    },
    {
      "cell_type": "markdown",
      "source": [
        "7. for문을 이용한 자율주행 코드(차선 유지 보조 조절)"
      ],
      "metadata": {
        "id": "sDsaMzxf6Unz"
      }
    },
    {
      "cell_type": "code",
      "source": [
        "lane_positions = [\"중앙\", \"중앙\", \"왼쪽\", \"중앙\", \"오른쪽\"]\n",
        "\n",
        "for position in lane_positions:\n",
        "    if position == \"중앙\":\n",
        "        action = \"유지\"\n",
        "    elif position == \"왼쪽\":\n",
        "        action = \"우회전 보정\"\n",
        "    else:\n",
        "        action = \"좌회전 보정\"\n",
        "    print(f\"차량 위치: {position} → 조향 명령: {action}\")"
      ],
      "metadata": {
        "colab": {
          "base_uri": "https://localhost:8080/"
        },
        "id": "OJyuogyg6VB6",
        "outputId": "fe898f46-88ce-461f-8d2a-c192f83e55b1"
      },
      "execution_count": 11,
      "outputs": [
        {
          "output_type": "stream",
          "name": "stdout",
          "text": [
            "차량 위치: 중앙 → 조향 명령: 유지\n",
            "차량 위치: 중앙 → 조향 명령: 유지\n",
            "차량 위치: 왼쪽 → 조향 명령: 우회전 보정\n",
            "차량 위치: 중앙 → 조향 명령: 유지\n",
            "차량 위치: 오른쪽 → 조향 명령: 좌회전 보정\n"
          ]
        }
      ]
    },
    {
      "cell_type": "markdown",
      "source": [
        "8. for문을 이용한 자율주행 코드(주행 명령)"
      ],
      "metadata": {
        "id": "N2pri42j6zeN"
      }
    },
    {
      "cell_type": "code",
      "source": [
        "route = [\"신호등\", \"횡단보도\", \"빈 도로\", \"장애물\"]\n",
        "\n",
        "for event in route:\n",
        "    if event == \"신호등\":\n",
        "        print(\"신호등 감지 → 신호 확인\")\n",
        "    elif event == \"횡단보도\":\n",
        "        print(\"횡단보도 감지 → 보행자 확인\")\n",
        "    elif event == \"장애물\":\n",
        "        print(\"장애물 감지 → 정지\")\n",
        "    else:\n",
        "        print(\"정상 주행\")"
      ],
      "metadata": {
        "colab": {
          "base_uri": "https://localhost:8080/"
        },
        "id": "i7eWMfjL6z4q",
        "outputId": "f22279fc-17a4-40d9-c97e-3fd7e3900a3f"
      },
      "execution_count": 12,
      "outputs": [
        {
          "output_type": "stream",
          "name": "stdout",
          "text": [
            "신호등 감지 → 신호 확인\n",
            "횡단보도 감지 → 보행자 확인\n",
            "정상 주행\n",
            "장애물 감지 → 정지\n"
          ]
        }
      ]
    },
    {
      "cell_type": "markdown",
      "source": [
        "9. for문을 이용한 자율주행 코드(장애물 회피 로직)"
      ],
      "metadata": {
        "id": "SsLMrOhF7YmP"
      }
    },
    {
      "cell_type": "code",
      "source": [
        "obstacles = [False, True, False, True, True] # 장애물 유무\n",
        "\n",
        "for i, obstacle in enumerate(obstacles):\n",
        "    if obstacle:\n",
        "        print(f\"{i+1}번째 체크포인트: 장애물 감지 → 오른쪽으로 회피\")\n",
        "    else:\n",
        "        print(f\"{i+1}번째 체크포인트: 주행 유지\")"
      ],
      "metadata": {
        "colab": {
          "base_uri": "https://localhost:8080/"
        },
        "id": "QwUfQ4BW7Y1i",
        "outputId": "514b71d5-a2b6-466d-c269-85e518cd5985"
      },
      "execution_count": 13,
      "outputs": [
        {
          "output_type": "stream",
          "name": "stdout",
          "text": [
            "1번째 체크포인트: 주행 유지\n",
            "2번째 체크포인트: 장애물 감지 → 오른쪽으로 회피\n",
            "3번째 체크포인트: 주행 유지\n",
            "4번째 체크포인트: 장애물 감지 → 오른쪽으로 회피\n",
            "5번째 체크포인트: 장애물 감지 → 오른쪽으로 회피\n"
          ]
        }
      ]
    },
    {
      "cell_type": "markdown",
      "source": [
        "10. for문을 이용한 자율주행 코드(속도 유지)"
      ],
      "metadata": {
        "id": "29GeoUGp7ePX"
      }
    },
    {
      "cell_type": "code",
      "source": [
        "target_speed = 60\n",
        "current_speed = 0\n",
        "\n",
        "for i in range(5):\n",
        "    if current_speed < target_speed:\n",
        "        current_speed += 15\n",
        "    else:\n",
        "        current_speed -= 10\n",
        "    print(f\"현재 속도: {current_speed} km/h\")"
      ],
      "metadata": {
        "colab": {
          "base_uri": "https://localhost:8080/"
        },
        "id": "gh6zlkU68BPL",
        "outputId": "b79ecc3f-835c-435f-dae4-c72b6702df4c"
      },
      "execution_count": 14,
      "outputs": [
        {
          "output_type": "stream",
          "name": "stdout",
          "text": [
            "현재 속도: 15 km/h\n",
            "현재 속도: 30 km/h\n",
            "현재 속도: 45 km/h\n",
            "현재 속도: 60 km/h\n",
            "현재 속도: 50 km/h\n"
          ]
        }
      ]
    }
  ]
}